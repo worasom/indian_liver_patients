{
 "cells": [
  {
   "cell_type": "markdown",
   "metadata": {},
   "source": [
    "# Indian Liver Patient Records\n",
    "\n",
    "Use supervised learning on the Indian patient records to determine which patients have liver disease. The data is from Lichman, M. (2013). UCI Machine Learning Repository [http://archive.ics.uci.edu/ml]. Irvine, CA: University of California, School of Information and Computer Science. There are a number of machine learning papers that work on this data set;for example:\n",
    "- Bendi Venkata Ramana, Prof. M. S. Prasad Babu and Prof. N. B. Venkateswarlu, \"A Critical Comparative Study of Liver Patients from USA and INDIA: An Exploratory Analysis\", International Journal of Computer Science Issues, (May 2012)\n",
    "- Bendi Venkata Ramana and Prof. M.Surendra Prasad Babu, \"Liver Classification Using Modified Rotation Forest\" International Journal of Engineering Research and Development,  (June 2012)\n",
    "\n",
    "## Outline <a id='outline'></a>\n",
    "\n",
    "1. [Exploring data](#Exploringdata): \n",
    "     - Find missing data, and turn string data into catergory\n",
    "     - Inspect the number of patients with and without liver disease among [age and gender groups](#genderage)\n",
    "    \n",
    "2. [Logistic Regression](#LG): \n",
    "     - [Hyperparameter tuning](#LG_hyper)\n",
    "     - [Feature of importance](#LG_feature)\n",
    "     - [Results](#LG_result): confusion matrix, most correct and most incorrect predictions for each class\n",
    "     \n",
    "3. [Conclusions](#con): "
   ]
  },
  {
   "cell_type": "code",
   "execution_count": 29,
   "metadata": {},
   "outputs": [],
   "source": [
    "#import packages\n",
    "import sys\n",
    "from pathlib import Path\n",
    "sys.path.append(r'C:\\Users\\Benny\\fastai\\old')\n",
    "#sys.path.append(r'C:\\Users\\Benny\\Anaconda3\\envs\\fastai\\Lib\\site-packages\\graphviz')\n",
    "\n",
    "%config IPCompleter.greedy=True\n",
    "%reload_ext autoreload\n",
    "%autoreload 2\n",
    "%matplotlib inline\n",
    "\n",
    "from fastai.imports import *\n",
    "from fastai.structured import *\n",
    "from fastai.io import *\n",
    "from fastai.dataset import *\n",
    "\n",
    "from pandas_summary import DataFrameSummary\n",
    "from sklearn.ensemble import RandomForestRegressor, RandomForestClassifier\n",
    "from sklearn.linear_model import LogisticRegression\n",
    "from sklearn.model_selection import RandomizedSearchCV\n",
    "from sklearn.metrics import (classification_report, confusion_matrix,\n",
    "accuracy_score, log_loss)\n",
    "\n",
    "from IPython.display import display\n",
    "import seaborn as sns\n",
    "plt.style.use('ggplot')\n",
    "\n",
    "import feather"
   ]
  },
  {
   "cell_type": "markdown",
   "metadata": {},
   "source": [
    "## Exploring data <a id='Exploringdata'></a>"
   ]
  },
  {
   "cell_type": "code",
   "execution_count": 3,
   "metadata": {},
   "outputs": [
    {
     "data": {
      "text/html": [
       "<div>\n",
       "<style scoped>\n",
       "    .dataframe tbody tr th:only-of-type {\n",
       "        vertical-align: middle;\n",
       "    }\n",
       "\n",
       "    .dataframe tbody tr th {\n",
       "        vertical-align: top;\n",
       "    }\n",
       "\n",
       "    .dataframe thead th {\n",
       "        text-align: right;\n",
       "    }\n",
       "</style>\n",
       "<table border=\"1\" class=\"dataframe\">\n",
       "  <thead>\n",
       "    <tr style=\"text-align: right;\">\n",
       "      <th></th>\n",
       "      <th>0</th>\n",
       "      <th>1</th>\n",
       "      <th>2</th>\n",
       "      <th>3</th>\n",
       "      <th>4</th>\n",
       "    </tr>\n",
       "  </thead>\n",
       "  <tbody>\n",
       "    <tr>\n",
       "      <th>Age</th>\n",
       "      <td>65</td>\n",
       "      <td>62</td>\n",
       "      <td>62</td>\n",
       "      <td>58</td>\n",
       "      <td>72</td>\n",
       "    </tr>\n",
       "    <tr>\n",
       "      <th>Gender</th>\n",
       "      <td>Female</td>\n",
       "      <td>Male</td>\n",
       "      <td>Male</td>\n",
       "      <td>Male</td>\n",
       "      <td>Male</td>\n",
       "    </tr>\n",
       "    <tr>\n",
       "      <th>Total_Bilirubin</th>\n",
       "      <td>0.7</td>\n",
       "      <td>10.9</td>\n",
       "      <td>7.3</td>\n",
       "      <td>1</td>\n",
       "      <td>3.9</td>\n",
       "    </tr>\n",
       "    <tr>\n",
       "      <th>Direct_Bilirubin</th>\n",
       "      <td>0.1</td>\n",
       "      <td>5.5</td>\n",
       "      <td>4.1</td>\n",
       "      <td>0.4</td>\n",
       "      <td>2</td>\n",
       "    </tr>\n",
       "    <tr>\n",
       "      <th>Alkaline_Phosphotase</th>\n",
       "      <td>187</td>\n",
       "      <td>699</td>\n",
       "      <td>490</td>\n",
       "      <td>182</td>\n",
       "      <td>195</td>\n",
       "    </tr>\n",
       "    <tr>\n",
       "      <th>Alamine_Aminotransferase</th>\n",
       "      <td>16</td>\n",
       "      <td>64</td>\n",
       "      <td>60</td>\n",
       "      <td>14</td>\n",
       "      <td>27</td>\n",
       "    </tr>\n",
       "    <tr>\n",
       "      <th>Aspartate_Aminotransferase</th>\n",
       "      <td>18</td>\n",
       "      <td>100</td>\n",
       "      <td>68</td>\n",
       "      <td>20</td>\n",
       "      <td>59</td>\n",
       "    </tr>\n",
       "    <tr>\n",
       "      <th>Total_Protiens</th>\n",
       "      <td>6.8</td>\n",
       "      <td>7.5</td>\n",
       "      <td>7</td>\n",
       "      <td>6.8</td>\n",
       "      <td>7.3</td>\n",
       "    </tr>\n",
       "    <tr>\n",
       "      <th>Albumin</th>\n",
       "      <td>3.3</td>\n",
       "      <td>3.2</td>\n",
       "      <td>3.3</td>\n",
       "      <td>3.4</td>\n",
       "      <td>2.4</td>\n",
       "    </tr>\n",
       "    <tr>\n",
       "      <th>Albumin_and_Globulin_Ratio</th>\n",
       "      <td>0.9</td>\n",
       "      <td>0.74</td>\n",
       "      <td>0.89</td>\n",
       "      <td>1</td>\n",
       "      <td>0.4</td>\n",
       "    </tr>\n",
       "    <tr>\n",
       "      <th>Dataset</th>\n",
       "      <td>ill</td>\n",
       "      <td>ill</td>\n",
       "      <td>ill</td>\n",
       "      <td>ill</td>\n",
       "      <td>ill</td>\n",
       "    </tr>\n",
       "  </tbody>\n",
       "</table>\n",
       "</div>"
      ],
      "text/plain": [
       "                                 0     1     2     3     4\n",
       "Age                             65    62    62    58    72\n",
       "Gender                      Female  Male  Male  Male  Male\n",
       "Total_Bilirubin                0.7  10.9   7.3     1   3.9\n",
       "Direct_Bilirubin               0.1   5.5   4.1   0.4     2\n",
       "Alkaline_Phosphotase           187   699   490   182   195\n",
       "Alamine_Aminotransferase        16    64    60    14    27\n",
       "Aspartate_Aminotransferase      18   100    68    20    59\n",
       "Total_Protiens                 6.8   7.5     7   6.8   7.3\n",
       "Albumin                        3.3   3.2   3.3   3.4   2.4\n",
       "Albumin_and_Globulin_Ratio     0.9  0.74  0.89     1   0.4\n",
       "Dataset                        ill   ill   ill   ill   ill"
      ]
     },
     "execution_count": 3,
     "metadata": {},
     "output_type": "execute_result"
    }
   ],
   "source": [
    "df_raw=pd.read_feather('tmp/liver_patient_raw')\n",
    "df_raw.head().T"
   ]
  },
  {
   "cell_type": "code",
   "execution_count": 4,
   "metadata": {},
   "outputs": [],
   "source": [
    "#Convert the Dataset columns into strings.\n",
    "df_raw['Dataset'].replace({1:'ill',2:'healthy'}, inplace=True)\n",
    "# converts all string columns into catergory\n",
    "train_cats(df_raw)"
   ]
  },
  {
   "cell_type": "code",
   "execution_count": 5,
   "metadata": {},
   "outputs": [
    {
     "data": {
      "text/plain": [
       "Index(['healthy', 'ill'], dtype='object')"
      ]
     },
     "execution_count": 5,
     "metadata": {},
     "output_type": "execute_result"
    }
   ],
   "source": [
    "df_raw['Dataset'].cat.categories"
   ]
  },
  {
   "cell_type": "code",
   "execution_count": 6,
   "metadata": {},
   "outputs": [
    {
     "name": "stdout",
     "output_type": "stream",
     "text": [
      "<class 'pandas.core.frame.DataFrame'>\n",
      "RangeIndex: 583 entries, 0 to 582\n",
      "Data columns (total 11 columns):\n",
      "Age                           583 non-null int64\n",
      "Gender                        583 non-null category\n",
      "Total_Bilirubin               583 non-null float64\n",
      "Direct_Bilirubin              583 non-null float64\n",
      "Alkaline_Phosphotase          583 non-null int64\n",
      "Alamine_Aminotransferase      583 non-null int64\n",
      "Aspartate_Aminotransferase    583 non-null int64\n",
      "Total_Protiens                583 non-null float64\n",
      "Albumin                       583 non-null float64\n",
      "Albumin_and_Globulin_Ratio    579 non-null float64\n",
      "Dataset                       583 non-null category\n",
      "dtypes: category(2), float64(5), int64(4)\n",
      "memory usage: 42.4 KB\n"
     ]
    }
   ],
   "source": [
    "df_raw.info()"
   ]
  },
  {
   "cell_type": "code",
   "execution_count": 7,
   "metadata": {},
   "outputs": [],
   "source": [
    "#Convert the Dataset columns into strings.\n",
    "df_raw['Dataset'].replace({1:'ill',2:'healthy'}, inplace=True)\n",
    "# converts all string columns into catergory\n",
    "train_cats(df_raw)"
   ]
  },
  {
   "cell_type": "code",
   "execution_count": 8,
   "metadata": {},
   "outputs": [
    {
     "data": {
      "text/plain": [
       "Index(['healthy', 'ill'], dtype='object')"
      ]
     },
     "execution_count": 8,
     "metadata": {},
     "output_type": "execute_result"
    }
   ],
   "source": [
    "df_raw['Dataset'].cat.categories"
   ]
  },
  {
   "cell_type": "code",
   "execution_count": 9,
   "metadata": {},
   "outputs": [
    {
     "name": "stdout",
     "output_type": "stream",
     "text": [
      "<class 'pandas.core.frame.DataFrame'>\n",
      "RangeIndex: 583 entries, 0 to 582\n",
      "Data columns (total 11 columns):\n",
      "Age                           583 non-null int64\n",
      "Gender                        583 non-null category\n",
      "Total_Bilirubin               583 non-null float64\n",
      "Direct_Bilirubin              583 non-null float64\n",
      "Alkaline_Phosphotase          583 non-null int64\n",
      "Alamine_Aminotransferase      583 non-null int64\n",
      "Aspartate_Aminotransferase    583 non-null int64\n",
      "Total_Protiens                583 non-null float64\n",
      "Albumin                       583 non-null float64\n",
      "Albumin_and_Globulin_Ratio    579 non-null float64\n",
      "Dataset                       583 non-null category\n",
      "dtypes: category(2), float64(5), int64(4)\n",
      "memory usage: 42.4 KB\n"
     ]
    }
   ],
   "source": [
    "df_raw.info()"
   ]
  },
  {
   "cell_type": "code",
   "execution_count": 16,
   "metadata": {
    "scrolled": false
   },
   "outputs": [
    {
     "name": "stdout",
     "output_type": "stream",
     "text": [
      "<class 'pandas.core.frame.DataFrame'>\n",
      "RangeIndex: 583 entries, 0 to 582\n",
      "Data columns (total 11 columns):\n",
      "Age                              583 non-null float64\n",
      "Gender                           583 non-null int8\n",
      "Total_Bilirubin                  583 non-null float64\n",
      "Direct_Bilirubin                 583 non-null float64\n",
      "Alkaline_Phosphotase             583 non-null float64\n",
      "Alamine_Aminotransferase         583 non-null float64\n",
      "Aspartate_Aminotransferase       583 non-null float64\n",
      "Total_Protiens                   583 non-null float64\n",
      "Albumin                          583 non-null float64\n",
      "Albumin_and_Globulin_Ratio       583 non-null float64\n",
      "Albumin_and_Globulin_Ratio_na    583 non-null float64\n",
      "dtypes: float64(10), int8(1)\n",
      "memory usage: 46.2 KB\n"
     ]
    }
   ],
   "source": [
    "#replacing the null with median\n",
    "#Scaling is require for logistic regression and neural network\n",
    "df, y, nas, mapper = proc_df(df_raw, y_fld='Dataset', do_scale=True)\n",
    "df.info()\n"
   ]
  },
  {
   "cell_type": "markdown",
   "metadata": {},
   "source": [
    "Strong correlation between Direct Bilirubin and Total Bilirubin, Albumin and Total_Proteins, and Aspartate_Aminotransferase and Alamine_Aminotransferase. We might be able to drop these. "
   ]
  },
  {
   "cell_type": "code",
   "execution_count": 17,
   "metadata": {},
   "outputs": [],
   "source": [
    "from scipy.cluster import hierarchy as hc"
   ]
  },
  {
   "cell_type": "code",
   "execution_count": 18,
   "metadata": {
    "scrolled": true
   },
   "outputs": [
    {
     "data": {
      "image/png": "[encoded data removed]",
      "text/plain": [
       "<Figure size 1152x720 with 1 Axes>"
      ]
     },
     "metadata": {
      "needs_background": "light"
     },
     "output_type": "display_data"
    }
   ],
   "source": [
    "# Redundant Features\n",
    "corr = np.round(scipy.stats.spearmanr(df).correlation, 4)\n",
    "corr_condensed = hc.distance.squareform(1-corr)\n",
    "z = hc.linkage(corr_condensed, method='average')\n",
    "fig = plt.figure(figsize=(16,10))\n",
    "dendrogram = hc.dendrogram(z, labels=df.columns, orientation='left', leaf_font_size=16)\n",
    "plt.show()"
   ]
  },
  {
   "cell_type": "markdown",
   "metadata": {},
   "source": [
    "Strong correlation between Direct Bilirubin and Total Bilirubin, Albumin and Total_Proteins, and Aspartate_Aminotransferase and Alamine_Aminotransferase. We might be able to drop these. "
   ]
  },
  {
   "cell_type": "code",
   "execution_count": 114,
   "metadata": {},
   "outputs": [],
   "source": [
    "df_raw=pd.read_feather('tmp/liver_patient_raw')"
   ]
  },
  {
   "cell_type": "code",
   "execution_count": 115,
   "metadata": {},
   "outputs": [
    {
     "data": {
      "text/html": [
       "<div>\n",
       "<style scoped>\n",
       "    .dataframe tbody tr th:only-of-type {\n",
       "        vertical-align: middle;\n",
       "    }\n",
       "\n",
       "    .dataframe tbody tr th {\n",
       "        vertical-align: top;\n",
       "    }\n",
       "\n",
       "    .dataframe thead th {\n",
       "        text-align: right;\n",
       "    }\n",
       "</style>\n",
       "<table border=\"1\" class=\"dataframe\">\n",
       "  <thead>\n",
       "    <tr style=\"text-align: right;\">\n",
       "      <th></th>\n",
       "      <th>Age</th>\n",
       "      <th>Gender</th>\n",
       "      <th>Total_Bilirubin</th>\n",
       "      <th>Direct_Bilirubin</th>\n",
       "      <th>Alkaline_Phosphotase</th>\n",
       "      <th>Alamine_Aminotransferase</th>\n",
       "      <th>Aspartate_Aminotransferase</th>\n",
       "      <th>Total_Protiens</th>\n",
       "      <th>Albumin</th>\n",
       "      <th>Albumin_and_Globulin_Ratio</th>\n",
       "      <th>Dataset</th>\n",
       "    </tr>\n",
       "  </thead>\n",
       "  <tbody>\n",
       "    <tr>\n",
       "      <th>0</th>\n",
       "      <td>65</td>\n",
       "      <td>Female</td>\n",
       "      <td>0.7</td>\n",
       "      <td>0.1</td>\n",
       "      <td>187</td>\n",
       "      <td>16</td>\n",
       "      <td>18</td>\n",
       "      <td>6.8</td>\n",
       "      <td>3.3</td>\n",
       "      <td>0.90</td>\n",
       "      <td>ill</td>\n",
       "    </tr>\n",
       "    <tr>\n",
       "      <th>1</th>\n",
       "      <td>62</td>\n",
       "      <td>Male</td>\n",
       "      <td>10.9</td>\n",
       "      <td>5.5</td>\n",
       "      <td>699</td>\n",
       "      <td>64</td>\n",
       "      <td>100</td>\n",
       "      <td>7.5</td>\n",
       "      <td>3.2</td>\n",
       "      <td>0.74</td>\n",
       "      <td>ill</td>\n",
       "    </tr>\n",
       "    <tr>\n",
       "      <th>2</th>\n",
       "      <td>62</td>\n",
       "      <td>Male</td>\n",
       "      <td>7.3</td>\n",
       "      <td>4.1</td>\n",
       "      <td>490</td>\n",
       "      <td>60</td>\n",
       "      <td>68</td>\n",
       "      <td>7.0</td>\n",
       "      <td>3.3</td>\n",
       "      <td>0.89</td>\n",
       "      <td>ill</td>\n",
       "    </tr>\n",
       "    <tr>\n",
       "      <th>3</th>\n",
       "      <td>58</td>\n",
       "      <td>Male</td>\n",
       "      <td>1.0</td>\n",
       "      <td>0.4</td>\n",
       "      <td>182</td>\n",
       "      <td>14</td>\n",
       "      <td>20</td>\n",
       "      <td>6.8</td>\n",
       "      <td>3.4</td>\n",
       "      <td>1.00</td>\n",
       "      <td>ill</td>\n",
       "    </tr>\n",
       "    <tr>\n",
       "      <th>4</th>\n",
       "      <td>72</td>\n",
       "      <td>Male</td>\n",
       "      <td>3.9</td>\n",
       "      <td>2.0</td>\n",
       "      <td>195</td>\n",
       "      <td>27</td>\n",
       "      <td>59</td>\n",
       "      <td>7.3</td>\n",
       "      <td>2.4</td>\n",
       "      <td>0.40</td>\n",
       "      <td>ill</td>\n",
       "    </tr>\n",
       "  </tbody>\n",
       "</table>\n",
       "</div>"
      ],
      "text/plain": [
       "   Age  Gender  Total_Bilirubin  Direct_Bilirubin  Alkaline_Phosphotase  \\\n",
       "0   65  Female              0.7               0.1                   187   \n",
       "1   62    Male             10.9               5.5                   699   \n",
       "2   62    Male              7.3               4.1                   490   \n",
       "3   58    Male              1.0               0.4                   182   \n",
       "4   72    Male              3.9               2.0                   195   \n",
       "\n",
       "   Alamine_Aminotransferase  Aspartate_Aminotransferase  Total_Protiens  \\\n",
       "0                        16                          18             6.8   \n",
       "1                        64                         100             7.5   \n",
       "2                        60                          68             7.0   \n",
       "3                        14                          20             6.8   \n",
       "4                        27                          59             7.3   \n",
       "\n",
       "   Albumin  Albumin_and_Globulin_Ratio Dataset  \n",
       "0      3.3                        0.90     ill  \n",
       "1      3.2                        0.74     ill  \n",
       "2      3.3                        0.89     ill  \n",
       "3      3.4                        1.00     ill  \n",
       "4      2.4                        0.40     ill  "
      ]
     },
     "execution_count": 115,
     "metadata": {},
     "output_type": "execute_result"
    }
   ],
   "source": [
    "df_raw.head()"
   ]
  },
  {
   "cell_type": "code",
   "execution_count": 116,
   "metadata": {},
   "outputs": [],
   "source": [
    "# split data into training and validation sets \n",
    "idxs = get_cv_idxs(len(df), val_pct=0.25, seed=52)\n",
    "mask = np.zeros(len(df), dtype=bool)\n",
    "mask[idxs] = True"
   ]
  },
  {
   "cell_type": "code",
   "execution_count": 117,
   "metadata": {},
   "outputs": [],
   "source": [
    "x_trn = df[~mask]\n",
    "x_val = df[mask]\n",
    "y_trn = y[~mask]\n",
    "y_val = y[mask]"
   ]
  },
  {
   "cell_type": "code",
   "execution_count": 118,
   "metadata": {},
   "outputs": [
    {
     "name": "stdout",
     "output_type": "stream",
     "text": [
      "Training data has 0.7100456621004566 ill patients\n",
      "Validataion data has 0.7241379310344828 ill patients\n"
     ]
    }
   ],
   "source": [
    "_, nunique_trn = np.unique(y_trn, return_counts=True)\n",
    "_, nunique_val = np.unique(y_val, return_counts=True)\n",
    "\n",
    "print(f'Training data has {nunique_trn[1]/nunique_trn.sum()} ill patients')\n",
    "print(f'Validataion data has {nunique_val[1]/nunique_val.sum()} ill patients')"
   ]
  },
  {
   "cell_type": "code",
   "execution_count": 119,
   "metadata": {},
   "outputs": [],
   "source": [
    "#define score report function for RF and LG\n",
    "def print_score(m):\n",
    "    y_trn_prob = m.predict_proba(x_trn)\n",
    "    y_val_prob = m.predict_proba(x_val)\n",
    "    res = [log_loss(y_trn, y_trn_prob), log_loss(y_val, y_val_prob),\n",
    "          m.score(x_trn, y_trn), m.score(x_val, y_val)]\n",
    "    if hasattr(m, 'oob_score_'): res.append(m.oob_score_)\n",
    "    print('train loss\\t val loss \\t train accuracy \\t val accuracy')\n",
    "    print(res)"
   ]
  },
  {
   "cell_type": "markdown",
   "metadata": {},
   "source": [
    "## Logistic Regression <a id='LR'></a>"
   ]
  },
  {
   "cell_type": "code",
   "execution_count": 120,
   "metadata": {
    "scrolled": true
   },
   "outputs": [
    {
     "name": "stderr",
     "output_type": "stream",
     "text": [
      "C:\\Users\\Benny\\Anaconda3\\envs\\fastai\\lib\\site-packages\\sklearn\\linear_model\\logistic.py:433: FutureWarning: Default solver will be changed to 'lbfgs' in 0.22. Specify a solver to silence this warning.\n",
      "  FutureWarning)\n"
     ]
    },
    {
     "name": "stdout",
     "output_type": "stream",
     "text": [
      "train loss\t val loss \t train accuracy \t val accuracy\n",
      "[0.5893139246241865, 0.595521641512092, 0.7100456621004566, 0.7241379310344828]\n"
     ]
    }
   ],
   "source": [
    "#baseline LG\n",
    "mlg = LogisticRegression()\n",
    "mlg.fit(x_trn, y_trn)\n",
    "print_score(mlg)"
   ]
  },
  {
   "cell_type": "code",
   "execution_count": 121,
   "metadata": {},
   "outputs": [
    {
     "data": {
      "text/plain": [
       "<bound method BaseEstimator.get_params of LogisticRegression(C=1.0, class_weight=None, dual=False, fit_intercept=True,\n",
       "          intercept_scaling=1, max_iter=100, multi_class='warn',\n",
       "          n_jobs=None, penalty='l2', random_state=None, solver='warn',\n",
       "          tol=0.0001, verbose=0, warm_start=False)>"
      ]
     },
     "execution_count": 121,
     "metadata": {},
     "output_type": "execute_result"
    }
   ],
   "source": [
    "mlg.get_params"
   ]
  },
  {
   "cell_type": "markdown",
   "metadata": {},
   "source": [
    "### Hyperparameters tuning <a id='LG_hyper'></a>"
   ]
  },
  {
   "cell_type": "code",
   "execution_count": 129,
   "metadata": {},
   "outputs": [],
   "source": [
    "from sklearn.model_selection import RandomizedSearchCV, GridSearchCV"
   ]
  },
  {
   "cell_type": "code",
   "execution_count": 123,
   "metadata": {},
   "outputs": [],
   "source": [
    "param_dist = {'dual': [False],\n",
    "              'max_iter': [100,110,120,130,140],\n",
    "              'C':[1.0,1.5,2.0,2.5],\n",
    "              'penalty':['l1','l2']}"
   ]
  },
  {
   "cell_type": "code",
   "execution_count": 133,
   "metadata": {},
   "outputs": [],
   "source": [
    "#n_iter_search = 100\n",
    "grid_search = GridSearchCV(mlg, param_grid=param_dist, cv=5, n_jobs=-1)"
   ]
  },
  {
   "cell_type": "code",
   "execution_count": 134,
   "metadata": {},
   "outputs": [
    {
     "name": "stderr",
     "output_type": "stream",
     "text": [
      "C:\\Users\\Benny\\Anaconda3\\envs\\fastai\\lib\\site-packages\\sklearn\\linear_model\\logistic.py:433: FutureWarning: Default solver will be changed to 'lbfgs' in 0.22. Specify a solver to silence this warning.\n",
      "  FutureWarning)\n"
     ]
    },
    {
     "data": {
      "text/plain": [
       "GridSearchCV(cv=5, error_score='raise-deprecating',\n",
       "       estimator=LogisticRegression(C=1.0, class_weight=None, dual=False, fit_intercept=True,\n",
       "          intercept_scaling=1, max_iter=100, multi_class='warn',\n",
       "          n_jobs=None, penalty='l2', random_state=None, solver='warn',\n",
       "          tol=0.0001, verbose=0, warm_start=False),\n",
       "       fit_params=None, iid='warn', n_jobs=-1,\n",
       "       param_grid={'dual': [False], 'max_iter': [100, 110, 120, 130, 140], 'C': [1.0, 1.5, 2.0, 2.5], 'penalty': ['l1', 'l2']},\n",
       "       pre_dispatch='2*n_jobs', refit=True, return_train_score='warn',\n",
       "       scoring=None, verbose=0)"
      ]
     },
     "execution_count": 134,
     "metadata": {},
     "output_type": "execute_result"
    }
   ],
   "source": [
    "grid_search.fit(x_trn, y_trn)"
   ]
  },
  {
   "cell_type": "code",
   "execution_count": 135,
   "metadata": {},
   "outputs": [
    {
     "data": {
      "text/plain": [
       "(0.7009132420091324,\n",
       " {'C': 1.0, 'dual': False, 'max_iter': 100, 'penalty': 'l1'})"
      ]
     },
     "execution_count": 135,
     "metadata": {},
     "output_type": "execute_result"
    }
   ],
   "source": [
    "grid_search.best_score_, grid_search.best_params_"
   ]
  },
  {
   "cell_type": "code",
   "execution_count": 138,
   "metadata": {
    "scrolled": true
   },
   "outputs": [
    {
     "name": "stdout",
     "output_type": "stream",
     "text": [
      "train loss\t val loss \t train accuracy \t val accuracy\n",
      "[0.5897232728045753, 0.5936918928961195, 0.7100456621004566, 0.7241379310344828]\n"
     ]
    }
   ],
   "source": [
    "mlg = LogisticRegression(dual=False, penalty='l1', max_iter=100, C=1.0, solver='liblinear')\n",
    "mlg.fit(x_trn,y_trn)\n",
    "print_score(mlg)"
   ]
  },
  {
   "cell_type": "markdown",
   "metadata": {},
   "source": [
    "### LG Feature of importance <a id='LG_feature'></a>\n",
    "\n",
    "Feature of importance in logistic region can be accessed by a .coef_ attribute. "
   ]
  },
  {
   "cell_type": "code",
   "execution_count": 151,
   "metadata": {
    "scrolled": true
   },
   "outputs": [
    {
     "data": {
      "text/plain": [
       "<matplotlib.axes._subplots.AxesSubplot at 0x1629934f0f0>"
      ]
     },
     "execution_count": 151,
     "metadata": {},
     "output_type": "execute_result"
    },
    {
     "data": {
      "image/png": "[encoded data removed]",
      "text/plain": [
       "<Figure size 432x288 with 1 Axes>"
      ]
     },
     "metadata": {},
     "output_type": "display_data"
    }
   ],
   "source": [
    "fi_lg = pd.DataFrame({'cols': x_trn.columns, 'imp':np.abs(mlg.coef_[0])})\n",
    "fi_lg = fi_lg.sort_values('imp', ascending=False)\n",
    "fi_lg.plot('cols','imp',kind='barh')"
   ]
  },
  {
   "cell_type": "markdown",
   "metadata": {},
   "source": [
    "Strangely, the logistic regression considers Age not important and Albumin_and_Globulin_Ratio_na as important. [Random forest model](#https://github.com/worasom/indian_liver_patients/blob/master/Indian_liver_patients_random_forest.ipynb) does the opposite. I hope to compare this with a custom permulation-based feature of importance function."
   ]
  },
  {
   "cell_type": "code",
   "execution_count": 158,
   "metadata": {},
   "outputs": [
    {
     "name": "stdout",
     "output_type": "stream",
     "text": [
      "6        Aspartate_Aminotransferase\n",
      "10    Albumin_and_Globulin_Ratio_na\n",
      "1                            Gender\n",
      "5          Alamine_Aminotransferase\n",
      "4              Alkaline_Phosphotase\n",
      "2                   Total_Bilirubin\n",
      "3                  Direct_Bilirubin\n",
      "Name: cols, dtype: object\n"
     ]
    }
   ],
   "source": [
    "to_keep_lg = fi_lg[fi_lg.imp>0.05].cols\n",
    "print(to_keep_lg)"
   ]
  },
  {
   "cell_type": "code",
   "execution_count": 165,
   "metadata": {},
   "outputs": [],
   "source": [
    "# custom made feature of importance\n",
    "def feat_importance(m, x_trn, y_trn, metric=accuracy_score):\n",
    "    \"\"\" Computes the feature importance for any model\n",
    "    m is the model\n",
    "    x_trn is the training data\n",
    "    metric is the accuracy_score\n",
    "    \"\"\"\n",
    "    baseline = metric(y_trn, m.predict(x_trn))\n",
    "    imp = []\n",
    "    imp_std = []\n",
    "    for col in x_trn.columns:\n",
    "        tempt = x_trn.copy()\n",
    "        shuffle = []\n",
    "        # ten iteration to get better statistic\n",
    "        for i in range(10):\n",
    "            tempt[col] = np.random.RandomState(seed=42).permutation(tempt[col])\n",
    "            shuffle_score = metric(y_trn, m.predict(tempt))\n",
    "            shuffle.append((baseline - shuffle_score)/baseline*100)\n",
    "        imp.append(np.maximum(0,np.mean(shuffle)))\n",
    "        imp_std.append(np.std(shuffle))\n",
    "    fea_imp = pd.DataFrame({'cols': x_trn.columns, 'imp':imp,'imp_std':imp_std})\n",
    "    return fea_imp.sort_values('imp', ascending=False)"
   ]
  },
  {
   "cell_type": "code",
   "execution_count": 166,
   "metadata": {
    "scrolled": false
   },
   "outputs": [
    {
     "data": {
      "text/html": [
       "<div>\n",
       "<style scoped>\n",
       "    .dataframe tbody tr th:only-of-type {\n",
       "        vertical-align: middle;\n",
       "    }\n",
       "\n",
       "    .dataframe tbody tr th {\n",
       "        vertical-align: top;\n",
       "    }\n",
       "\n",
       "    .dataframe thead th {\n",
       "        text-align: right;\n",
       "    }\n",
       "</style>\n",
       "<table border=\"1\" class=\"dataframe\">\n",
       "  <thead>\n",
       "    <tr style=\"text-align: right;\">\n",
       "      <th></th>\n",
       "      <th>cols</th>\n",
       "      <th>imp</th>\n",
       "      <th>imp_std</th>\n",
       "    </tr>\n",
       "  </thead>\n",
       "  <tbody>\n",
       "    <tr>\n",
       "      <th>5</th>\n",
       "      <td>Alamine_Aminotransferase</td>\n",
       "      <td>0.289389</td>\n",
       "      <td>0.442049</td>\n",
       "    </tr>\n",
       "    <tr>\n",
       "      <th>6</th>\n",
       "      <td>Aspartate_Aminotransferase</td>\n",
       "      <td>0.289389</td>\n",
       "      <td>0.225080</td>\n",
       "    </tr>\n",
       "    <tr>\n",
       "      <th>3</th>\n",
       "      <td>Direct_Bilirubin</td>\n",
       "      <td>0.128617</td>\n",
       "      <td>0.157523</td>\n",
       "    </tr>\n",
       "    <tr>\n",
       "      <th>1</th>\n",
       "      <td>Gender</td>\n",
       "      <td>0.096463</td>\n",
       "      <td>0.289389</td>\n",
       "    </tr>\n",
       "    <tr>\n",
       "      <th>2</th>\n",
       "      <td>Total_Bilirubin</td>\n",
       "      <td>0.032154</td>\n",
       "      <td>0.225080</td>\n",
       "    </tr>\n",
       "    <tr>\n",
       "      <th>9</th>\n",
       "      <td>Albumin_and_Globulin_Ratio</td>\n",
       "      <td>0.032154</td>\n",
       "      <td>0.096463</td>\n",
       "    </tr>\n",
       "    <tr>\n",
       "      <th>10</th>\n",
       "      <td>Albumin_and_Globulin_Ratio_na</td>\n",
       "      <td>0.032154</td>\n",
       "      <td>0.096463</td>\n",
       "    </tr>\n",
       "    <tr>\n",
       "      <th>0</th>\n",
       "      <td>Age</td>\n",
       "      <td>0.000000</td>\n",
       "      <td>0.000000</td>\n",
       "    </tr>\n",
       "    <tr>\n",
       "      <th>4</th>\n",
       "      <td>Alkaline_Phosphotase</td>\n",
       "      <td>0.000000</td>\n",
       "      <td>0.143799</td>\n",
       "    </tr>\n",
       "    <tr>\n",
       "      <th>7</th>\n",
       "      <td>Total_Protiens</td>\n",
       "      <td>0.000000</td>\n",
       "      <td>0.173156</td>\n",
       "    </tr>\n",
       "    <tr>\n",
       "      <th>8</th>\n",
       "      <td>Albumin</td>\n",
       "      <td>0.000000</td>\n",
       "      <td>0.000000</td>\n",
       "    </tr>\n",
       "  </tbody>\n",
       "</table>\n",
       "</div>"
      ],
      "text/plain": [
       "                             cols       imp   imp_std\n",
       "5        Alamine_Aminotransferase  0.289389  0.442049\n",
       "6      Aspartate_Aminotransferase  0.289389  0.225080\n",
       "3                Direct_Bilirubin  0.128617  0.157523\n",
       "1                          Gender  0.096463  0.289389\n",
       "2                 Total_Bilirubin  0.032154  0.225080\n",
       "9      Albumin_and_Globulin_Ratio  0.032154  0.096463\n",
       "10  Albumin_and_Globulin_Ratio_na  0.032154  0.096463\n",
       "0                             Age  0.000000  0.000000\n",
       "4            Alkaline_Phosphotase  0.000000  0.143799\n",
       "7                  Total_Protiens  0.000000  0.173156\n",
       "8                         Albumin  0.000000  0.000000"
      ]
     },
     "execution_count": 166,
     "metadata": {},
     "output_type": "execute_result"
    }
   ],
   "source": [
    "# use fastai command to calculate feature of importance\n",
    "fi_per = feat_importance(mlg, x_trn, y_trn, accuracy_score)\n",
    "fi_per"
   ]
  },
  {
   "cell_type": "code",
   "execution_count": 167,
   "metadata": {},
   "outputs": [
    {
     "data": {
      "text/plain": [
       "<matplotlib.axes._subplots.AxesSubplot at 0x1629958a160>"
      ]
     },
     "execution_count": 167,
     "metadata": {},
     "output_type": "execute_result"
    },
    {
     "data": {
      "image/png": "[encoded data removed]",
      "text/plain": [
       "<Figure size 432x288 with 1 Axes>"
      ]
     },
     "metadata": {},
     "output_type": "display_data"
    }
   ],
   "source": [
    "fi_per.plot('cols', 'imp', 'barh', xerr='imp_std', legend=False)"
   ]
  },
  {
   "cell_type": "code",
   "execution_count": 175,
   "metadata": {},
   "outputs": [
    {
     "name": "stdout",
     "output_type": "stream",
     "text": [
      "5          Alamine_Aminotransferase\n",
      "6        Aspartate_Aminotransferase\n",
      "3                  Direct_Bilirubin\n",
      "1                            Gender\n",
      "2                   Total_Bilirubin\n",
      "9        Albumin_and_Globulin_Ratio\n",
      "10    Albumin_and_Globulin_Ratio_na\n",
      "Name: cols, dtype: object\n"
     ]
    }
   ],
   "source": [
    "to_keep_per = fi_per[fi_per.imp>0.0].cols\n",
    "print(to_keep_per)"
   ]
  },
  {
   "cell_type": "markdown",
   "metadata": {},
   "source": [
    "Compare the performance of the models with the features described by lg.coef_ and permulted feature of importance"
   ]
  },
  {
   "cell_type": "code",
   "execution_count": 171,
   "metadata": {},
   "outputs": [],
   "source": [
    "df_keep = df[to_keep_lg].copy()\n",
    "x_trn = df_keep[~mask]\n",
    "x_val = df_keep[mask]"
   ]
  },
  {
   "cell_type": "code",
   "execution_count": 172,
   "metadata": {},
   "outputs": [
    {
     "name": "stdout",
     "output_type": "stream",
     "text": [
      "train loss\t val loss \t train accuracy \t val accuracy\n",
      "[0.5906110523058948, 0.5922687185534673, 0.7100456621004566, 0.7241379310344828]\n"
     ]
    }
   ],
   "source": [
    "mlg.fit(x_trn,y_trn)\n",
    "print_score(mlg)"
   ]
  },
  {
   "cell_type": "code",
   "execution_count": 176,
   "metadata": {},
   "outputs": [],
   "source": [
    "df_keep = df[to_keep_per].copy()\n",
    "x_trn = df_keep[~mask]\n",
    "x_val = df_keep[mask]"
   ]
  },
  {
   "cell_type": "code",
   "execution_count": 177,
   "metadata": {},
   "outputs": [
    {
     "name": "stdout",
     "output_type": "stream",
     "text": [
      "train loss\t val loss \t train accuracy \t val accuracy\n",
      "[0.591073474891272, 0.5961530363106693, 0.7100456621004566, 0.7172413793103448]\n"
     ]
    }
   ],
   "source": [
    "mlg.fit(x_trn,y_trn)\n",
    "print_score(mlg)"
   ]
  },
  {
   "cell_type": "markdown",
   "metadata": {},
   "source": [
    "Using coef_ actually give better result. We will look at features which are related and see if droping one of those could improve the model. \n",
    "\n",
    "Strong correlation between Direct Bilirubin and Total Bilirubin, Albumin and Total_Proteins, and Aspartate_Aminotransferase and Alamine_Aminotransferase. We might be able to drop these. "
   ]
  },
  {
   "cell_type": "code",
   "execution_count": 183,
   "metadata": {},
   "outputs": [
    {
     "data": {
      "text/plain": [
       "0.7100456621004566"
      ]
     },
     "execution_count": 183,
     "metadata": {},
     "output_type": "execute_result"
    }
   ],
   "source": [
    "df_keep = df[to_keep_lg].copy()\n",
    "x_trn = df_keep[~mask]\n",
    "x_val = df_keep[mask]\n",
    "mlg.fit(x_trn, y_trn)\n",
    "mlg.score(x_trn, y_trn)"
   ]
  },
  {
   "cell_type": "code",
   "execution_count": 179,
   "metadata": {},
   "outputs": [
    {
     "data": {
      "text/plain": [
       "Index(['Aspartate_Aminotransferase', 'Albumin_and_Globulin_Ratio_na', 'Gender',\n",
       "       'Alamine_Aminotransferase', 'Alkaline_Phosphotase', 'Total_Bilirubin',\n",
       "       'Direct_Bilirubin'],\n",
       "      dtype='object')"
      ]
     },
     "execution_count": 179,
     "metadata": {},
     "output_type": "execute_result"
    }
   ],
   "source": [
    "x_trn.columns"
   ]
  },
  {
   "cell_type": "code",
   "execution_count": 186,
   "metadata": {},
   "outputs": [],
   "source": [
    "def get_oob(df_keep):\n",
    "    \n",
    "    mlg.fit(x_trn, y_trn)\n",
    "    return mlg.score(x_val, y_val)"
   ]
  },
  {
   "cell_type": "code",
   "execution_count": 187,
   "metadata": {},
   "outputs": [
    {
     "name": "stdout",
     "output_type": "stream",
     "text": [
      "Total_Bilirubin 0.7241379310344828\n",
      "Direct_Bilirubin 0.7241379310344828\n",
      "Aspartate_Aminotransferase 0.7241379310344828\n",
      "Alamine_Aminotransferase 0.7241379310344828\n"
     ]
    }
   ],
   "source": [
    "for drop_fea in ('Total_Bilirubin', 'Direct_Bilirubin', \n",
    "                 'Aspartate_Aminotransferase', 'Alamine_Aminotransferase'):\n",
    "    print(drop_fea, get_oob(x_trn.drop(drop_fea, axis=1)))"
   ]
  },
  {
   "cell_type": "markdown",
   "metadata": {},
   "source": [
    "### Analyzing LG Results <a id='LG_result'></a>"
   ]
  },
  {
   "cell_type": "code",
   "execution_count": 192,
   "metadata": {},
   "outputs": [],
   "source": [
    "y_preds = mlg.predict(x_val)\n",
    "y__proba = mlg.predict_proba(x_val)"
   ]
  },
  {
   "cell_type": "code",
   "execution_count": 193,
   "metadata": {
    "scrolled": true
   },
   "outputs": [
    {
     "name": "stderr",
     "output_type": "stream",
     "text": [
      "C:\\Users\\Benny\\Anaconda3\\envs\\fastai\\lib\\site-packages\\sklearn\\metrics\\classification.py:1143: UndefinedMetricWarning: Precision and F-score are ill-defined and being set to 0.0 in labels with no predicted samples.\n",
      "  'precision', 'predicted', average, warn_for)\n",
      "C:\\Users\\Benny\\Anaconda3\\envs\\fastai\\lib\\site-packages\\sklearn\\metrics\\classification.py:1143: UndefinedMetricWarning: Precision and F-score are ill-defined and being set to 0.0 in labels with no predicted samples.\n",
      "  'precision', 'predicted', average, warn_for)\n",
      "C:\\Users\\Benny\\Anaconda3\\envs\\fastai\\lib\\site-packages\\sklearn\\metrics\\classification.py:1143: UndefinedMetricWarning: Precision and F-score are ill-defined and being set to 0.0 in labels with no predicted samples.\n",
      "  'precision', 'predicted', average, warn_for)\n"
     ]
    },
    {
     "name": "stdout",
     "output_type": "stream",
     "text": [
      "Classification Report validation set: \n",
      "               precision    recall  f1-score   support\n",
      "\n",
      "     Healthy       0.00      0.00      0.00        40\n",
      "         Ill       0.72      1.00      0.84       105\n",
      "\n",
      "   micro avg       0.72      0.72      0.72       145\n",
      "   macro avg       0.36      0.50      0.42       145\n",
      "weighted avg       0.52      0.72      0.61       145\n",
      "\n"
     ]
    },
    {
     "data": {
      "text/plain": [
       "([<matplotlib.axis.YTick at 0x1629964e748>,\n",
       "  <matplotlib.axis.YTick at 0x1629964e080>],\n",
       " <a list of 2 Text yticklabel objects>)"
      ]
     },
     "execution_count": 193,
     "metadata": {},
     "output_type": "execute_result"
    },
    {
     "data": {
      "image/png": "[encoded data removed]",
      "text/plain": [
       "<Figure size 432x288 with 2 Axes>"
      ]
     },
     "metadata": {},
     "output_type": "display_data"
    }
   ],
   "source": [
    "#print('Confusion Matrix: \\n', confusion_matrix(y_val,preds))\n",
    "print('Classification Report validation set: \\n', classification_report(y_val,y_preds, \n",
    "                                                        target_names=['Healthy', 'Ill']))\n",
    "\n",
    "sns.heatmap(confusion_matrix(y_val,y_preds),annot=True,fmt=\"d\")\n",
    "plt.ylabel('True label')\n",
    "plt.xlabel('Predicted label')\n",
    "plt.title('Confusion matrix for traning set')\n",
    "tick_marks = np.arange(2) + 0.5\n",
    "plt.xticks(tick_marks, ['Healthy','Ill'])\n",
    "plt.yticks(tick_marks, ['Healthy','Ill'])"
   ]
  },
  {
   "cell_type": "code",
   "execution_count": 194,
   "metadata": {},
   "outputs": [
    {
     "data": {
      "text/plain": [
       "0.5"
      ]
     },
     "execution_count": 194,
     "metadata": {},
     "output_type": "execute_result"
    }
   ],
   "source": [
    "from sklearn.metrics import roc_auc_score\n",
    "\n",
    "roc_auc_score(y_val, y_preds)"
   ]
  },
  {
   "cell_type": "markdown",
   "metadata": {},
   "source": [
    "## Conclusions <a id='con'></a>\n",
    "\n",
    "Logistic regression achieved 71% accuracy. Features included in the models are 'Aspartate_Aminotransferase', 'Albumin_and_Globulin_Ratio_na', 'Gender',\n",
    "'Alamine_Aminotransferase', 'Alkaline_Phosphotase', 'Total_Bilirubin',\n",
    "'Direct_Bilirubin'. The logistic regression and random forest has large false positive.\n",
    "\n",
    "In the future, I will use neural network for this task and compare the results."
   ]
  },
  {
   "cell_type": "code",
   "execution_count": null,
   "metadata": {},
   "outputs": [],
   "source": []
  }
 ],
 "metadata": {
  "kernelspec": {
   "display_name": "Python 3",
   "language": "python",
   "name": "python3"
  },
  "language_info": {
   "codemirror_mode": {
    "name": "ipython",
    "version": 3
   },
   "file_extension": ".py",
   "mimetype": "text/x-python",
   "name": "python",
   "nbconvert_exporter": "python",
   "pygments_lexer": "ipython3",
   "version": "3.6.8"
  }
 },
 "nbformat": 4,
 "nbformat_minor": 2
}
