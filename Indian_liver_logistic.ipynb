{
 "cells": [
  {
   "cell_type": "markdown",
   "metadata": {},
   "source": [
    "# Indian Liver Patient Records\n",
    "\n",
    "Use supervised learning on the Indian patient records to determine which patients have liver disease. The data is from Lichman, M. (2013). UCI Machine Learning Repository [http://archive.ics.uci.edu/ml]. Irvine, CA: University of California, School of Information and Computer Science. There are a number of machine learning papers that work on this data set;for example:\n",
    "- Bendi Venkata Ramana, Prof. M. S. Prasad Babu and Prof. N. B. Venkateswarlu, \"A Critical Comparative Study of Liver Patients from USA and INDIA: An Exploratory Analysis\", International Journal of Computer Science Issues, (May 2012)\n",
    "- Bendi Venkata Ramana and Prof. M.Surendra Prasad Babu, \"Liver Classification Using Modified Rotation Forest\" International Journal of Engineering Research and Development,  (June 2012)\n",
    "\n",
    "## Outline <a id='outline'></a>\n",
    "\n",
    "1. [Exploring data](#Exploringdata): \n",
    "     - Find missing data, and turn string data into catergory\n",
    "     - Inspect the number of patients with and without liver disease among [age and gender groups](#genderage)\n",
    "    \n",
    "2. [Logistic Regression](#LG): \n",
    "     - [Hyperparameter tuning](#LG_hyper)\n",
    "     - [Feature of importance](#LG_feature)\n",
    "     - [Results](#LG_result): confusion matrix, most correct and most incorrect predictions for each class\n",
    "     \n",
    "3. [Conclusions](#con): "
   ]
  },
  {
   "cell_type": "code",
   "execution_count": 1,
   "metadata": {},
   "outputs": [],
   "source": [
    "#import packages\n",
    "import sys\n",
    "from pathlib import Path\n",
    "sys.path.append(r'C:\\Users\\Benny\\fastai\\old')\n",
    "#sys.path.append(r'C:\\Users\\Benny\\Anaconda3\\envs\\fastai\\Lib\\site-packages\\graphviz')\n",
    "\n",
    "%config IPCompleter.greedy=True\n",
    "%reload_ext autoreload\n",
    "%autoreload 2\n",
    "%matplotlib inline\n",
    "\n",
    "from fastai.imports import *\n",
    "from fastai.structured import *\n",
    "from fastai.io import *\n",
    "from fastai.dataset import *\n",
    "\n",
    "from pandas_summary import DataFrameSummary\n",
    "from sklearn.ensemble import RandomForestRegressor, RandomForestClassifier\n",
    "from sklearn.linear_model import LogisticRegression\n",
    "from sklearn.model_selection import RandomizedSearchCV\n",
    "from sklearn.metrics import (classification_report, confusion_matrix,\n",
    "accuracy_score, log_loss)\n",
    "\n",
    "from IPython.display import display\n",
    "import seaborn as sns\n",
    "plt.style.use('ggplot')\n",
    "\n",
    "import feather"
   ]
  },
  {
   "cell_type": "markdown",
   "metadata": {},
   "source": [
    "## Exploring data <a id='Exploringdata'></a>"
   ]
  },
  {
   "cell_type": "markdown",
   "metadata": {},
   "source": [
    "The data exploration were done previous [the random forest notebook](#https://github.com/worasom/indian_liver_patients/blob/master/Indian_liver_patients_random_forest.ipynb)"
   ]
  },
  {
   "cell_type": "code",
   "execution_count": 2,
   "metadata": {},
   "outputs": [],
   "source": [
    "df_raw=pd.read_feather('tmp/liver_patient_raw')"
   ]
  },
  {
   "cell_type": "code",
   "execution_count": 3,
   "metadata": {},
   "outputs": [
    {
     "data": {
      "text/html": [
       "<div>\n",
       "<style scoped>\n",
       "    .dataframe tbody tr th:only-of-type {\n",
       "        vertical-align: middle;\n",
       "    }\n",
       "\n",
       "    .dataframe tbody tr th {\n",
       "        vertical-align: top;\n",
       "    }\n",
       "\n",
       "    .dataframe thead th {\n",
       "        text-align: right;\n",
       "    }\n",
       "</style>\n",
       "<table border=\"1\" class=\"dataframe\">\n",
       "  <thead>\n",
       "    <tr style=\"text-align: right;\">\n",
       "      <th></th>\n",
       "      <th>Age</th>\n",
       "      <th>Gender</th>\n",
       "      <th>Total_Bilirubin</th>\n",
       "      <th>Direct_Bilirubin</th>\n",
       "      <th>Alkaline_Phosphotase</th>\n",
       "      <th>Alamine_Aminotransferase</th>\n",
       "      <th>Aspartate_Aminotransferase</th>\n",
       "      <th>Total_Protiens</th>\n",
       "      <th>Albumin</th>\n",
       "      <th>Albumin_and_Globulin_Ratio</th>\n",
       "      <th>Dataset</th>\n",
       "    </tr>\n",
       "  </thead>\n",
       "  <tbody>\n",
       "    <tr>\n",
       "      <th>0</th>\n",
       "      <td>65</td>\n",
       "      <td>Female</td>\n",
       "      <td>0.7</td>\n",
       "      <td>0.1</td>\n",
       "      <td>187</td>\n",
       "      <td>16</td>\n",
       "      <td>18</td>\n",
       "      <td>6.8</td>\n",
       "      <td>3.3</td>\n",
       "      <td>0.90</td>\n",
       "      <td>ill</td>\n",
       "    </tr>\n",
       "    <tr>\n",
       "      <th>1</th>\n",
       "      <td>62</td>\n",
       "      <td>Male</td>\n",
       "      <td>10.9</td>\n",
       "      <td>5.5</td>\n",
       "      <td>699</td>\n",
       "      <td>64</td>\n",
       "      <td>100</td>\n",
       "      <td>7.5</td>\n",
       "      <td>3.2</td>\n",
       "      <td>0.74</td>\n",
       "      <td>ill</td>\n",
       "    </tr>\n",
       "    <tr>\n",
       "      <th>2</th>\n",
       "      <td>62</td>\n",
       "      <td>Male</td>\n",
       "      <td>7.3</td>\n",
       "      <td>4.1</td>\n",
       "      <td>490</td>\n",
       "      <td>60</td>\n",
       "      <td>68</td>\n",
       "      <td>7.0</td>\n",
       "      <td>3.3</td>\n",
       "      <td>0.89</td>\n",
       "      <td>ill</td>\n",
       "    </tr>\n",
       "    <tr>\n",
       "      <th>3</th>\n",
       "      <td>58</td>\n",
       "      <td>Male</td>\n",
       "      <td>1.0</td>\n",
       "      <td>0.4</td>\n",
       "      <td>182</td>\n",
       "      <td>14</td>\n",
       "      <td>20</td>\n",
       "      <td>6.8</td>\n",
       "      <td>3.4</td>\n",
       "      <td>1.00</td>\n",
       "      <td>ill</td>\n",
       "    </tr>\n",
       "    <tr>\n",
       "      <th>4</th>\n",
       "      <td>72</td>\n",
       "      <td>Male</td>\n",
       "      <td>3.9</td>\n",
       "      <td>2.0</td>\n",
       "      <td>195</td>\n",
       "      <td>27</td>\n",
       "      <td>59</td>\n",
       "      <td>7.3</td>\n",
       "      <td>2.4</td>\n",
       "      <td>0.40</td>\n",
       "      <td>ill</td>\n",
       "    </tr>\n",
       "  </tbody>\n",
       "</table>\n",
       "</div>"
      ],
      "text/plain": [
       "   Age  Gender  Total_Bilirubin  Direct_Bilirubin  Alkaline_Phosphotase  \\\n",
       "0   65  Female              0.7               0.1                   187   \n",
       "1   62    Male             10.9               5.5                   699   \n",
       "2   62    Male              7.3               4.1                   490   \n",
       "3   58    Male              1.0               0.4                   182   \n",
       "4   72    Male              3.9               2.0                   195   \n",
       "\n",
       "   Alamine_Aminotransferase  Aspartate_Aminotransferase  Total_Protiens  \\\n",
       "0                        16                          18             6.8   \n",
       "1                        64                         100             7.5   \n",
       "2                        60                          68             7.0   \n",
       "3                        14                          20             6.8   \n",
       "4                        27                          59             7.3   \n",
       "\n",
       "   Albumin  Albumin_and_Globulin_Ratio Dataset  \n",
       "0      3.3                        0.90     ill  \n",
       "1      3.2                        0.74     ill  \n",
       "2      3.3                        0.89     ill  \n",
       "3      3.4                        1.00     ill  \n",
       "4      2.4                        0.40     ill  "
      ]
     },
     "execution_count": 3,
     "metadata": {},
     "output_type": "execute_result"
    }
   ],
   "source": [
    "df_raw.head()"
   ]
  },
  {
   "cell_type": "code",
   "execution_count": 4,
   "metadata": {},
   "outputs": [],
   "source": [
    "df, y, nas, mapper = proc_df(df_raw,y_fld='Dataset', do_scale=True)"
   ]
  },
  {
   "cell_type": "code",
   "execution_count": 5,
   "metadata": {},
   "outputs": [],
   "source": [
    "# split data into training and validation sets \n",
    "idxs = get_cv_idxs(len(df), val_pct=0.25, seed=52)\n",
    "mask = np.zeros(len(df), dtype=bool)\n",
    "mask[idxs] = True"
   ]
  },
  {
   "cell_type": "code",
   "execution_count": 6,
   "metadata": {},
   "outputs": [],
   "source": [
    "x_trn = df[~mask]\n",
    "x_val = df[mask]\n",
    "y_trn = y[~mask]\n",
    "y_val = y[mask]"
   ]
  },
  {
   "cell_type": "code",
   "execution_count": 7,
   "metadata": {},
   "outputs": [
    {
     "name": "stdout",
     "output_type": "stream",
     "text": [
      "Training data has 0.7100456621004566 ill patients\n",
      "Validataion data has 0.7241379310344828 ill patients\n"
     ]
    }
   ],
   "source": [
    "_, nunique_trn = np.unique(y_trn, return_counts=True)\n",
    "_, nunique_val = np.unique(y_val, return_counts=True)\n",
    "\n",
    "print(f'Training data has {nunique_trn[1]/nunique_trn.sum()} ill patients')\n",
    "print(f'Validataion data has {nunique_val[1]/nunique_val.sum()} ill patients')"
   ]
  },
  {
   "cell_type": "code",
   "execution_count": 8,
   "metadata": {},
   "outputs": [],
   "source": [
    "#define score report function for RF and LG\n",
    "def print_score(m):\n",
    "    y_trn_prob = m.predict_proba(x_trn)\n",
    "    y_val_prob = m.predict_proba(x_val)\n",
    "    res = [log_loss(y_trn, y_trn_prob), log_loss(y_val, y_val_prob),\n",
    "          m.score(x_trn, y_trn), m.score(x_val, y_val)]\n",
    "    if hasattr(m, 'oob_score_'): res.append(m.oob_score_)\n",
    "    print('train loss\\t val loss \\t train accuracy \\t val accuracy')\n",
    "    print(res)"
   ]
  },
  {
   "cell_type": "markdown",
   "metadata": {},
   "source": [
    "## Logistic Regression <a id='LR'></a>"
   ]
  },
  {
   "cell_type": "code",
   "execution_count": 9,
   "metadata": {
    "scrolled": true
   },
   "outputs": [
    {
     "name": "stderr",
     "output_type": "stream",
     "text": [
      "C:\\Users\\Benny\\Anaconda3\\envs\\fastai\\lib\\site-packages\\sklearn\\linear_model\\logistic.py:433: FutureWarning: Default solver will be changed to 'lbfgs' in 0.22. Specify a solver to silence this warning.\n",
      "  FutureWarning)\n"
     ]
    },
    {
     "name": "stdout",
     "output_type": "stream",
     "text": [
      "train loss\t val loss \t train accuracy \t val accuracy\n",
      "[0.502356115770469, 0.473860615793937, 0.728310502283105, 0.7724137931034483]\n"
     ]
    }
   ],
   "source": [
    "#baseline LG\n",
    "mlg = LogisticRegression()\n",
    "mlg.fit(x_trn, y_trn)\n",
    "print_score(mlg)"
   ]
  },
  {
   "cell_type": "code",
   "execution_count": 10,
   "metadata": {},
   "outputs": [
    {
     "data": {
      "text/plain": [
       "<bound method BaseEstimator.get_params of LogisticRegression(C=1.0, class_weight=None, dual=False, fit_intercept=True,\n",
       "          intercept_scaling=1, max_iter=100, multi_class='warn',\n",
       "          n_jobs=None, penalty='l2', random_state=None, solver='warn',\n",
       "          tol=0.0001, verbose=0, warm_start=False)>"
      ]
     },
     "execution_count": 10,
     "metadata": {},
     "output_type": "execute_result"
    }
   ],
   "source": [
    "mlg.get_params"
   ]
  },
  {
   "cell_type": "markdown",
   "metadata": {},
   "source": [
    "### Hyperparameters tuning <a id='LG_hyper'></a>"
   ]
  },
  {
   "cell_type": "code",
   "execution_count": 11,
   "metadata": {},
   "outputs": [],
   "source": [
    "from sklearn.model_selection import RandomizedSearchCV, GridSearchCV"
   ]
  },
  {
   "cell_type": "code",
   "execution_count": 12,
   "metadata": {},
   "outputs": [],
   "source": [
    "param_dist = {'dual': [False],\n",
    "              'max_iter': [100,110,120,130,140],\n",
    "              'C':[1.0,1.5,2.0,2.5],\n",
    "              'penalty':['l1','l2']}"
   ]
  },
  {
   "cell_type": "code",
   "execution_count": 13,
   "metadata": {},
   "outputs": [],
   "source": [
    "#n_iter_search = 100\n",
    "grid_search = GridSearchCV(mlg, param_grid=param_dist, cv=5, n_jobs=-1)"
   ]
  },
  {
   "cell_type": "code",
   "execution_count": 14,
   "metadata": {},
   "outputs": [
    {
     "name": "stderr",
     "output_type": "stream",
     "text": [
      "C:\\Users\\Benny\\Anaconda3\\envs\\fastai\\lib\\site-packages\\sklearn\\linear_model\\logistic.py:433: FutureWarning: Default solver will be changed to 'lbfgs' in 0.22. Specify a solver to silence this warning.\n",
      "  FutureWarning)\n"
     ]
    },
    {
     "data": {
      "text/plain": [
       "GridSearchCV(cv=5, error_score='raise-deprecating',\n",
       "       estimator=LogisticRegression(C=1.0, class_weight=None, dual=False, fit_intercept=True,\n",
       "          intercept_scaling=1, max_iter=100, multi_class='warn',\n",
       "          n_jobs=None, penalty='l2', random_state=None, solver='warn',\n",
       "          tol=0.0001, verbose=0, warm_start=False),\n",
       "       fit_params=None, iid='warn', n_jobs=-1,\n",
       "       param_grid={'dual': [False], 'max_iter': [100, 110, 120, 130, 140], 'C': [1.0, 1.5, 2.0, 2.5], 'penalty': ['l1', 'l2']},\n",
       "       pre_dispatch='2*n_jobs', refit=True, return_train_score='warn',\n",
       "       scoring=None, verbose=0)"
      ]
     },
     "execution_count": 14,
     "metadata": {},
     "output_type": "execute_result"
    }
   ],
   "source": [
    "grid_search.fit(x_trn, y_trn)"
   ]
  },
  {
   "cell_type": "code",
   "execution_count": 15,
   "metadata": {},
   "outputs": [
    {
     "data": {
      "text/plain": [
       "(0.7100456621004566,\n",
       " {'C': 1.0, 'dual': False, 'max_iter': 100, 'penalty': 'l1'})"
      ]
     },
     "execution_count": 15,
     "metadata": {},
     "output_type": "execute_result"
    }
   ],
   "source": [
    "grid_search.best_score_, grid_search.best_params_"
   ]
  },
  {
   "cell_type": "code",
   "execution_count": 16,
   "metadata": {
    "scrolled": true
   },
   "outputs": [
    {
     "name": "stdout",
     "output_type": "stream",
     "text": [
      "train loss\t val loss \t train accuracy \t val accuracy\n",
      "[0.5024864339788435, 0.4754750405576368, 0.7191780821917808, 0.7793103448275862]\n"
     ]
    }
   ],
   "source": [
    "mlg = LogisticRegression(dual=False, penalty='l1', max_iter=100, C=1.0, solver='liblinear')\n",
    "mlg.fit(x_trn,y_trn)\n",
    "print_score(mlg)"
   ]
  },
  {
   "cell_type": "markdown",
   "metadata": {},
   "source": [
    "### LG Feature of importance <a id='LG_feature'></a>\n",
    "\n",
    "Feature of importance in logistic region can be accessed by a .coef_ attribute. "
   ]
  },
  {
   "cell_type": "code",
   "execution_count": 17,
   "metadata": {
    "scrolled": true
   },
   "outputs": [
    {
     "data": {
      "text/plain": [
       "<matplotlib.axes._subplots.AxesSubplot at 0x2c5ace76828>"
      ]
     },
     "execution_count": 17,
     "metadata": {},
     "output_type": "execute_result"
    },
    {
     "data": {
      "image/png": "[encoded data removed]",
      "text/plain": [
       "<Figure size 432x288 with 1 Axes>"
      ]
     },
     "metadata": {
      "needs_background": "light"
     },
     "output_type": "display_data"
    }
   ],
   "source": [
    "fi_lg = pd.DataFrame({'cols': x_trn.columns, 'imp':np.abs(mlg.coef_[0])})\n",
    "fi_lg = fi_lg.sort_values('imp', ascending=False)\n",
    "fi_lg.plot('cols','imp',kind='barh')"
   ]
  },
  {
   "cell_type": "markdown",
   "metadata": {},
   "source": [
    "Similar feature of importance as what was observed by the [random forest model](#https://github.com/worasom/indian_liver_patients/blob/master/Indian_liver_patients_random_forest.ipynb). Compare this with a custom permulation-based feature of importance function."
   ]
  },
  {
   "cell_type": "code",
   "execution_count": 18,
   "metadata": {},
   "outputs": [
    {
     "name": "stdout",
     "output_type": "stream",
     "text": [
      "5      Alamine_Aminotransferase\n",
      "3              Direct_Bilirubin\n",
      "6    Aspartate_Aminotransferase\n",
      "8                       Albumin\n",
      "7                Total_Protiens\n",
      "4          Alkaline_Phosphotase\n",
      "0                           Age\n",
      "9    Albumin_and_Globulin_Ratio\n",
      "Name: cols, dtype: object\n"
     ]
    }
   ],
   "source": [
    "to_keep_lg = fi_lg[fi_lg.imp>0.05].cols\n",
    "print(to_keep_lg)"
   ]
  },
  {
   "cell_type": "code",
   "execution_count": 19,
   "metadata": {},
   "outputs": [],
   "source": [
    "# custom made feature of importance\n",
    "def feat_importance(m, x_trn, y_trn, metric=accuracy_score):\n",
    "    \"\"\" Computes the feature importance for any model\n",
    "    m is the model\n",
    "    x_trn is the training data\n",
    "    metric is the accuracy_score\n",
    "    \"\"\"\n",
    "    baseline = metric(y_trn, m.predict(x_trn))\n",
    "    imp = []\n",
    "    imp_std = []\n",
    "    for col in x_trn.columns:\n",
    "        tempt = x_trn.copy()\n",
    "        shuffle = []\n",
    "        # ten iteration to get better statistic\n",
    "        for i in range(10):\n",
    "            tempt[col] = np.random.RandomState(seed=42).permutation(tempt[col])\n",
    "            shuffle_score = metric(y_trn, m.predict(tempt))\n",
    "            shuffle.append((baseline - shuffle_score)/baseline*100)\n",
    "        imp.append(np.maximum(0,np.mean(shuffle)))\n",
    "        imp_std.append(np.std(shuffle))\n",
    "    fea_imp = pd.DataFrame({'cols': x_trn.columns, 'imp':imp,'imp_std':imp_std})\n",
    "    return fea_imp.sort_values('imp', ascending=False)"
   ]
  },
  {
   "cell_type": "code",
   "execution_count": 20,
   "metadata": {
    "scrolled": false
   },
   "outputs": [
    {
     "data": {
      "text/html": [
       "<div>\n",
       "<style scoped>\n",
       "    .dataframe tbody tr th:only-of-type {\n",
       "        vertical-align: middle;\n",
       "    }\n",
       "\n",
       "    .dataframe tbody tr th {\n",
       "        vertical-align: top;\n",
       "    }\n",
       "\n",
       "    .dataframe thead th {\n",
       "        text-align: right;\n",
       "    }\n",
       "</style>\n",
       "<table border=\"1\" class=\"dataframe\">\n",
       "  <thead>\n",
       "    <tr style=\"text-align: right;\">\n",
       "      <th></th>\n",
       "      <th>cols</th>\n",
       "      <th>imp</th>\n",
       "      <th>imp_std</th>\n",
       "    </tr>\n",
       "  </thead>\n",
       "  <tbody>\n",
       "    <tr>\n",
       "      <th>7</th>\n",
       "      <td>Total_Protiens</td>\n",
       "      <td>3.873016</td>\n",
       "      <td>1.903703</td>\n",
       "    </tr>\n",
       "    <tr>\n",
       "      <th>0</th>\n",
       "      <td>Age</td>\n",
       "      <td>2.126984</td>\n",
       "      <td>1.354704</td>\n",
       "    </tr>\n",
       "    <tr>\n",
       "      <th>9</th>\n",
       "      <td>Albumin_and_Globulin_Ratio</td>\n",
       "      <td>2.031746</td>\n",
       "      <td>0.964996</td>\n",
       "    </tr>\n",
       "    <tr>\n",
       "      <th>8</th>\n",
       "      <td>Albumin</td>\n",
       "      <td>1.523810</td>\n",
       "      <td>2.203092</td>\n",
       "    </tr>\n",
       "    <tr>\n",
       "      <th>3</th>\n",
       "      <td>Direct_Bilirubin</td>\n",
       "      <td>0.571429</td>\n",
       "      <td>0.662877</td>\n",
       "    </tr>\n",
       "    <tr>\n",
       "      <th>4</th>\n",
       "      <td>Alkaline_Phosphotase</td>\n",
       "      <td>0.190476</td>\n",
       "      <td>0.780204</td>\n",
       "    </tr>\n",
       "    <tr>\n",
       "      <th>1</th>\n",
       "      <td>Gender</td>\n",
       "      <td>0.000000</td>\n",
       "      <td>0.000000</td>\n",
       "    </tr>\n",
       "    <tr>\n",
       "      <th>2</th>\n",
       "      <td>Total_Bilirubin</td>\n",
       "      <td>0.000000</td>\n",
       "      <td>0.444444</td>\n",
       "    </tr>\n",
       "    <tr>\n",
       "      <th>5</th>\n",
       "      <td>Alamine_Aminotransferase</td>\n",
       "      <td>0.000000</td>\n",
       "      <td>0.743833</td>\n",
       "    </tr>\n",
       "    <tr>\n",
       "      <th>6</th>\n",
       "      <td>Aspartate_Aminotransferase</td>\n",
       "      <td>0.000000</td>\n",
       "      <td>0.815570</td>\n",
       "    </tr>\n",
       "    <tr>\n",
       "      <th>10</th>\n",
       "      <td>Albumin_and_Globulin_Ratio_na</td>\n",
       "      <td>0.000000</td>\n",
       "      <td>0.000000</td>\n",
       "    </tr>\n",
       "  </tbody>\n",
       "</table>\n",
       "</div>"
      ],
      "text/plain": [
       "                             cols       imp   imp_std\n",
       "7                  Total_Protiens  3.873016  1.903703\n",
       "0                             Age  2.126984  1.354704\n",
       "9      Albumin_and_Globulin_Ratio  2.031746  0.964996\n",
       "8                         Albumin  1.523810  2.203092\n",
       "3                Direct_Bilirubin  0.571429  0.662877\n",
       "4            Alkaline_Phosphotase  0.190476  0.780204\n",
       "1                          Gender  0.000000  0.000000\n",
       "2                 Total_Bilirubin  0.000000  0.444444\n",
       "5        Alamine_Aminotransferase  0.000000  0.743833\n",
       "6      Aspartate_Aminotransferase  0.000000  0.815570\n",
       "10  Albumin_and_Globulin_Ratio_na  0.000000  0.000000"
      ]
     },
     "execution_count": 20,
     "metadata": {},
     "output_type": "execute_result"
    }
   ],
   "source": [
    "# use fastai command to calculate feature of importance\n",
    "fi_per = feat_importance(mlg, x_trn, y_trn, accuracy_score)\n",
    "fi_per"
   ]
  },
  {
   "cell_type": "code",
   "execution_count": 21,
   "metadata": {},
   "outputs": [
    {
     "data": {
      "text/plain": [
       "<matplotlib.axes._subplots.AxesSubplot at 0x2c5a6db0748>"
      ]
     },
     "execution_count": 21,
     "metadata": {},
     "output_type": "execute_result"
    },
    {
     "data": {
      "image/png": "[encoded data removed]",
      "text/plain": [
       "<Figure size 432x288 with 1 Axes>"
      ]
     },
     "metadata": {
      "needs_background": "light"
     },
     "output_type": "display_data"
    }
   ],
   "source": [
    "fi_per.plot('cols', 'imp', 'barh', xerr='imp_std', legend=False)"
   ]
  },
  {
   "cell_type": "markdown",
   "metadata": {},
   "source": [
    "The permuatation-based feature of importance gives more aggressive feature drop. "
   ]
  },
  {
   "cell_type": "code",
   "execution_count": 27,
   "metadata": {},
   "outputs": [
    {
     "name": "stdout",
     "output_type": "stream",
     "text": [
      "7                Total_Protiens\n",
      "0                           Age\n",
      "9    Albumin_and_Globulin_Ratio\n",
      "8                       Albumin\n",
      "3              Direct_Bilirubin\n",
      "4          Alkaline_Phosphotase\n",
      "Name: cols, dtype: object\n"
     ]
    }
   ],
   "source": [
    "to_keep_per = fi_per[fi_per.imp>0.05].cols\n",
    "print(to_keep_per)"
   ]
  },
  {
   "cell_type": "markdown",
   "metadata": {},
   "source": [
    "Compare the performance of the models with the features described by lg.coef_ and permulted feature of importance"
   ]
  },
  {
   "cell_type": "code",
   "execution_count": 31,
   "metadata": {},
   "outputs": [],
   "source": [
    "df_keep = df[to_keep_lg].copy()\n",
    "x_trn = df_keep[~mask]\n",
    "x_val = df_keep[mask]"
   ]
  },
  {
   "cell_type": "code",
   "execution_count": 32,
   "metadata": {},
   "outputs": [
    {
     "name": "stdout",
     "output_type": "stream",
     "text": [
      "train loss\t val loss \t train accuracy \t val accuracy\n",
      "[0.5025028233922382, 0.4754700752199781, 0.7214611872146118, 0.7793103448275862]\n"
     ]
    }
   ],
   "source": [
    "mlg.fit(x_trn,y_trn)\n",
    "print_score(mlg)"
   ]
  },
  {
   "cell_type": "code",
   "execution_count": 28,
   "metadata": {},
   "outputs": [],
   "source": [
    "df_keep = df[to_keep_per].copy()\n",
    "x_trn = df_keep[~mask]\n",
    "x_val = df_keep[mask]"
   ]
  },
  {
   "cell_type": "code",
   "execution_count": 29,
   "metadata": {},
   "outputs": [
    {
     "name": "stdout",
     "output_type": "stream",
     "text": [
      "train loss\t val loss \t train accuracy \t val accuracy\n",
      "[0.522651782662451, 0.5038302929497018, 0.7100456621004566, 0.7379310344827587]\n"
     ]
    }
   ],
   "source": [
    "mlg.fit(x_trn,y_trn)\n",
    "print_score(mlg)"
   ]
  },
  {
   "cell_type": "markdown",
   "metadata": {},
   "source": [
    "Using coef_ actually give better result. We will look at features which are related and see if droping one of those could improve the model. \n",
    "\n",
    "Strong correlation between Direct Bilirubin and Total Bilirubin, Albumin and Total_Proteins, and Aspartate_Aminotransferase and Alamine_Aminotransferase. We might be able to drop these. "
   ]
  },
  {
   "cell_type": "code",
   "execution_count": 33,
   "metadata": {},
   "outputs": [
    {
     "data": {
      "text/plain": [
       "0.7214611872146118"
      ]
     },
     "execution_count": 33,
     "metadata": {},
     "output_type": "execute_result"
    }
   ],
   "source": [
    "df_keep = df[to_keep_lg].copy()\n",
    "x_trn = df_keep[~mask]\n",
    "x_val = df_keep[mask]\n",
    "mlg.fit(x_trn, y_trn)\n",
    "mlg.score(x_trn, y_trn)"
   ]
  },
  {
   "cell_type": "code",
   "execution_count": 40,
   "metadata": {},
   "outputs": [
    {
     "data": {
      "text/plain": [
       "Index(['Alamine_Aminotransferase', 'Direct_Bilirubin',\n",
       "       'Aspartate_Aminotransferase', 'Albumin', 'Total_Protiens',\n",
       "       'Alkaline_Phosphotase', 'Age', 'Albumin_and_Globulin_Ratio'],\n",
       "      dtype='object')"
      ]
     },
     "execution_count": 40,
     "metadata": {},
     "output_type": "execute_result"
    }
   ],
   "source": [
    "x_trn.columns"
   ]
  },
  {
   "cell_type": "code",
   "execution_count": 43,
   "metadata": {},
   "outputs": [],
   "source": [
    "def get_oob(df_keep):\n",
    "    \n",
    "    mlg.fit(x_trn, y_trn)\n",
    "    return mlg.score(x_trn, y_trn), mlg.score(x_val, y_val)"
   ]
  },
  {
   "cell_type": "code",
   "execution_count": 44,
   "metadata": {},
   "outputs": [
    {
     "name": "stdout",
     "output_type": "stream",
     "text": [
      "Albumin (0.7214611872146118, 0.7793103448275862)\n",
      "Total_Protiens (0.7214611872146118, 0.7793103448275862)\n",
      "Aspartate_Aminotransferase (0.7214611872146118, 0.7793103448275862)\n",
      "Alamine_Aminotransferase (0.7214611872146118, 0.7793103448275862)\n"
     ]
    }
   ],
   "source": [
    "for drop_fea in ('Albumin', 'Total_Protiens', \n",
    "                 'Aspartate_Aminotransferase', 'Alamine_Aminotransferase'):\n",
    "    print(drop_fea, get_oob(x_trn.drop(drop_fea, axis=1)))"
   ]
  },
  {
   "cell_type": "markdown",
   "metadata": {},
   "source": [
    "### Analyzing LG Results <a id='LG_result'></a>"
   ]
  },
  {
   "cell_type": "code",
   "execution_count": 45,
   "metadata": {},
   "outputs": [],
   "source": [
    "y_preds = mlg.predict(x_val)\n",
    "y__proba = mlg.predict_proba(x_val)"
   ]
  },
  {
   "cell_type": "code",
   "execution_count": 46,
   "metadata": {
    "scrolled": true
   },
   "outputs": [
    {
     "name": "stdout",
     "output_type": "stream",
     "text": [
      "Classification Report validation set: \n",
      "               precision    recall  f1-score   support\n",
      "\n",
      "     Healthy       0.75      0.30      0.43        40\n",
      "         Ill       0.78      0.96      0.86       105\n",
      "\n",
      "   micro avg       0.78      0.78      0.78       145\n",
      "   macro avg       0.77      0.63      0.65       145\n",
      "weighted avg       0.77      0.78      0.74       145\n",
      "\n"
     ]
    },
    {
     "data": {
      "text/plain": [
       "([<matplotlib.axis.YTick at 0x2c5ae2a4160>,\n",
       "  <matplotlib.axis.YTick at 0x2c5ae29ea58>],\n",
       " <a list of 2 Text yticklabel objects>)"
      ]
     },
     "execution_count": 46,
     "metadata": {},
     "output_type": "execute_result"
    },
    {
     "data": {
      "image/png": "[encoded data removed]",
      "text/plain": [
       "<Figure size 432x288 with 2 Axes>"
      ]
     },
     "metadata": {
      "needs_background": "light"
     },
     "output_type": "display_data"
    }
   ],
   "source": [
    "#print('Confusion Matrix: \\n', confusion_matrix(y_val,preds))\n",
    "print('Classification Report validation set: \\n', classification_report(y_val,y_preds, \n",
    "                                                        target_names=['Healthy', 'Ill']))\n",
    "\n",
    "sns.heatmap(confusion_matrix(y_val,y_preds),annot=True,fmt=\"d\")\n",
    "plt.ylabel('True label')\n",
    "plt.xlabel('Predicted label')\n",
    "plt.title('Confusion matrix for traning set')\n",
    "tick_marks = np.arange(2) + 0.5\n",
    "plt.xticks(tick_marks, ['Healthy','Ill'])\n",
    "plt.yticks(tick_marks, ['Healthy','Ill'])"
   ]
  },
  {
   "cell_type": "code",
   "execution_count": 47,
   "metadata": {},
   "outputs": [
    {
     "data": {
      "text/plain": [
       "0.630952380952381"
      ]
     },
     "execution_count": 47,
     "metadata": {},
     "output_type": "execute_result"
    }
   ],
   "source": [
    "from sklearn.metrics import roc_auc_score\n",
    "\n",
    "roc_auc_score(y_val, y_preds)"
   ]
  },
  {
   "cell_type": "markdown",
   "metadata": {},
   "source": [
    "## Conclusions <a id='con'></a>\n",
    "\n",
    "Logistic regression achieved 77% accuracy on the validation set (less over fittign compared to random forest) Features included in the models are 'Alamine_Aminotransferase', 'Direct_Bilirubin', 'Aspartate_Aminotransferase', 'Albumin', 'Total_Protiens','Alkaline_Phosphotase', 'Age','Albumin_and_Globulin_Ratio'. The logistic regression and random forest has large false positive.\n",
    "\n",
    "In the future, I will use neural network for this task and compare the results."
   ]
  },
  {
   "cell_type": "code",
   "execution_count": null,
   "metadata": {},
   "outputs": [],
   "source": []
  }
 ],
 "metadata": {
  "kernelspec": {
   "display_name": "Python 3",
   "language": "python",
   "name": "python3"
  },
  "language_info": {
   "codemirror_mode": {
    "name": "ipython",
    "version": 3
   },
   "file_extension": ".py",
   "mimetype": "text/x-python",
   "name": "python",
   "nbconvert_exporter": "python",
   "pygments_lexer": "ipython3",
   "version": "3.6.8"
  }
 },
 "nbformat": 4,
 "nbformat_minor": 2
}
