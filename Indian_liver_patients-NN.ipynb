{
 "cells": [
  {
   "cell_type": "markdown",
   "metadata": {},
   "source": [
    "# Indian Liver Patient Records\n",
    "\n",
    "Use supervised learning on the Indian patient records to determine which patients have liver disease. The data is from Lichman, M. (2013). UCI Machine Learning Repository [http://archive.ics.uci.edu/ml]. Irvine, CA: University of California, School of Information and Computer Science. There are a number of machine learning papers that work on this data set;for example:\n",
    "- Bendi Venkata Ramana, Prof. M. S. Prasad Babu and Prof. N. B. Venkateswarlu, \"A Critical Comparative Study of Liver Patients from USA and INDIA: An Exploratory Analysis\", International Journal of Computer Science Issues, (May 2012)\n",
    "- Bendi Venkata Ramana and Prof. M.Surendra Prasad Babu, \"Liver Classification Using Modified Rotation Forest\" International Journal of Engineering Research and Development,  (June 2012)\n",
    "\n",
    "\n",
    "1. [Results](#nn_result): confusion matrix, most correct and most incorrect predictions for each class\n",
    "     \n",
    "2. [Conclusions](#con): "
   ]
  },
  {
   "cell_type": "code",
   "execution_count": 1,
   "metadata": {},
   "outputs": [],
   "source": [
    "#import packages\n",
    "import sys\n",
    "from pathlib import Path\n",
    "sys.path.append(r'C:\\Users\\Benny\\fastai\\old')\n",
    "#sys.path.append(r'C:\\Users\\Benny\\Anaconda3\\envs\\fastai\\Lib\\site-packages\\graphviz')\n",
    "\n",
    "%config IPCompleter.greedy=True\n",
    "%reload_ext autoreload\n",
    "%autoreload 2\n",
    "%matplotlib inline\n",
    "\n",
    "from fastai.imports import *\n",
    "from fastai.structured import *\n",
    "from fastai.io import *\n",
    "from fastai.dataset import *\n",
    "from fastai.column_data import *\n",
    "\n",
    "from pandas_summary import DataFrameSummary\n",
    "from sklearn.ensemble import RandomForestRegressor, RandomForestClassifier\n",
    "from sklearn.metrics import (classification_report, confusion_matrix,\n",
    "accuracy_score, log_loss, roc_auc_score)\n",
    "from sklearn.model_selection import train_test_split\n",
    "\n",
    "from IPython.display import display\n",
    "import seaborn as sns\n",
    "plt.style.use('ggplot')\n",
    "\n",
    "import feather"
   ]
  },
  {
   "cell_type": "markdown",
   "metadata": {},
   "source": [
    "The data exploration were done previous [the random forest notebook](#https://github.com/worasom/indian_liver_patients/blob/master/Indian_liver_patients_random_forest.ipynb)"
   ]
  },
  {
   "cell_type": "code",
   "execution_count": 2,
   "metadata": {},
   "outputs": [],
   "source": [
    "df_raw=pd.read_feather('tmp/liver_patient_raw')"
   ]
  },
  {
   "cell_type": "code",
   "execution_count": 3,
   "metadata": {},
   "outputs": [
    {
     "data": {
      "text/html": [
       "<div>\n",
       "<style scoped>\n",
       "    .dataframe tbody tr th:only-of-type {\n",
       "        vertical-align: middle;\n",
       "    }\n",
       "\n",
       "    .dataframe tbody tr th {\n",
       "        vertical-align: top;\n",
       "    }\n",
       "\n",
       "    .dataframe thead th {\n",
       "        text-align: right;\n",
       "    }\n",
       "</style>\n",
       "<table border=\"1\" class=\"dataframe\">\n",
       "  <thead>\n",
       "    <tr style=\"text-align: right;\">\n",
       "      <th></th>\n",
       "      <th>Age</th>\n",
       "      <th>Gender</th>\n",
       "      <th>Total_Bilirubin</th>\n",
       "      <th>Direct_Bilirubin</th>\n",
       "      <th>Alkaline_Phosphotase</th>\n",
       "      <th>Alamine_Aminotransferase</th>\n",
       "      <th>Aspartate_Aminotransferase</th>\n",
       "      <th>Total_Protiens</th>\n",
       "      <th>Albumin</th>\n",
       "      <th>Albumin_and_Globulin_Ratio</th>\n",
       "      <th>Dataset</th>\n",
       "    </tr>\n",
       "  </thead>\n",
       "  <tbody>\n",
       "    <tr>\n",
       "      <th>0</th>\n",
       "      <td>65</td>\n",
       "      <td>Female</td>\n",
       "      <td>0.7</td>\n",
       "      <td>0.1</td>\n",
       "      <td>187</td>\n",
       "      <td>16</td>\n",
       "      <td>18</td>\n",
       "      <td>6.8</td>\n",
       "      <td>3.3</td>\n",
       "      <td>0.90</td>\n",
       "      <td>ill</td>\n",
       "    </tr>\n",
       "    <tr>\n",
       "      <th>1</th>\n",
       "      <td>62</td>\n",
       "      <td>Male</td>\n",
       "      <td>10.9</td>\n",
       "      <td>5.5</td>\n",
       "      <td>699</td>\n",
       "      <td>64</td>\n",
       "      <td>100</td>\n",
       "      <td>7.5</td>\n",
       "      <td>3.2</td>\n",
       "      <td>0.74</td>\n",
       "      <td>ill</td>\n",
       "    </tr>\n",
       "    <tr>\n",
       "      <th>2</th>\n",
       "      <td>62</td>\n",
       "      <td>Male</td>\n",
       "      <td>7.3</td>\n",
       "      <td>4.1</td>\n",
       "      <td>490</td>\n",
       "      <td>60</td>\n",
       "      <td>68</td>\n",
       "      <td>7.0</td>\n",
       "      <td>3.3</td>\n",
       "      <td>0.89</td>\n",
       "      <td>ill</td>\n",
       "    </tr>\n",
       "    <tr>\n",
       "      <th>3</th>\n",
       "      <td>58</td>\n",
       "      <td>Male</td>\n",
       "      <td>1.0</td>\n",
       "      <td>0.4</td>\n",
       "      <td>182</td>\n",
       "      <td>14</td>\n",
       "      <td>20</td>\n",
       "      <td>6.8</td>\n",
       "      <td>3.4</td>\n",
       "      <td>1.00</td>\n",
       "      <td>ill</td>\n",
       "    </tr>\n",
       "    <tr>\n",
       "      <th>4</th>\n",
       "      <td>72</td>\n",
       "      <td>Male</td>\n",
       "      <td>3.9</td>\n",
       "      <td>2.0</td>\n",
       "      <td>195</td>\n",
       "      <td>27</td>\n",
       "      <td>59</td>\n",
       "      <td>7.3</td>\n",
       "      <td>2.4</td>\n",
       "      <td>0.40</td>\n",
       "      <td>ill</td>\n",
       "    </tr>\n",
       "  </tbody>\n",
       "</table>\n",
       "</div>"
      ],
      "text/plain": [
       "   Age  Gender  Total_Bilirubin  Direct_Bilirubin  Alkaline_Phosphotase  \\\n",
       "0   65  Female              0.7               0.1                   187   \n",
       "1   62    Male             10.9               5.5                   699   \n",
       "2   62    Male              7.3               4.1                   490   \n",
       "3   58    Male              1.0               0.4                   182   \n",
       "4   72    Male              3.9               2.0                   195   \n",
       "\n",
       "   Alamine_Aminotransferase  Aspartate_Aminotransferase  Total_Protiens  \\\n",
       "0                        16                          18             6.8   \n",
       "1                        64                         100             7.5   \n",
       "2                        60                          68             7.0   \n",
       "3                        14                          20             6.8   \n",
       "4                        27                          59             7.3   \n",
       "\n",
       "   Albumin  Albumin_and_Globulin_Ratio Dataset  \n",
       "0      3.3                        0.90     ill  \n",
       "1      3.2                        0.74     ill  \n",
       "2      3.3                        0.89     ill  \n",
       "3      3.4                        1.00     ill  \n",
       "4      2.4                        0.40     ill  "
      ]
     },
     "execution_count": 3,
     "metadata": {},
     "output_type": "execute_result"
    }
   ],
   "source": [
    "df_raw.head()"
   ]
  },
  {
   "cell_type": "code",
   "execution_count": 4,
   "metadata": {},
   "outputs": [],
   "source": [
    "df, y, nas, mapper = proc_df(df_raw,y_fld='Dataset', do_scale=True)"
   ]
  },
  {
   "cell_type": "code",
   "execution_count": 5,
   "metadata": {},
   "outputs": [
    {
     "name": "stdout",
     "output_type": "stream",
     "text": [
      "<class 'pandas.core.frame.DataFrame'>\n",
      "RangeIndex: 583 entries, 0 to 582\n",
      "Data columns (total 11 columns):\n",
      "Age                              583 non-null float64\n",
      "Gender                           583 non-null int8\n",
      "Total_Bilirubin                  583 non-null float64\n",
      "Direct_Bilirubin                 583 non-null float64\n",
      "Alkaline_Phosphotase             583 non-null float64\n",
      "Alamine_Aminotransferase         583 non-null float64\n",
      "Aspartate_Aminotransferase       583 non-null float64\n",
      "Total_Protiens                   583 non-null float64\n",
      "Albumin                          583 non-null float64\n",
      "Albumin_and_Globulin_Ratio       583 non-null float64\n",
      "Albumin_and_Globulin_Ratio_na    583 non-null float64\n",
      "dtypes: float64(10), int8(1)\n",
      "memory usage: 46.2 KB\n"
     ]
    }
   ],
   "source": [
    "df.info()"
   ]
  },
  {
   "cell_type": "code",
   "execution_count": 6,
   "metadata": {},
   "outputs": [],
   "source": [
    "df.drop('Albumin_and_Globulin_Ratio_na', axis=1, inplace=True)"
   ]
  },
  {
   "cell_type": "code",
   "execution_count": 7,
   "metadata": {},
   "outputs": [],
   "source": [
    "# split data into training and validation sets \n",
    "idxs = get_cv_idxs(len(df), val_pct=0.25, seed=52)\n",
    "mask = np.zeros(len(df), dtype=bool)\n",
    "mask[idxs] = True\n",
    "\n",
    "x_trn = df[~mask]\n",
    "x_val = df[mask]\n",
    "y_trn = y[~mask]\n",
    "y_val = y[mask]"
   ]
  },
  {
   "cell_type": "code",
   "execution_count": 8,
   "metadata": {},
   "outputs": [
    {
     "name": "stdout",
     "output_type": "stream",
     "text": [
      "Training data has 0.7100456621004566 ill patients\n",
      "Validataion data has 0.7241379310344828 ill patients\n"
     ]
    }
   ],
   "source": [
    "_, nunique_trn = np.unique(y_trn, return_counts=True)\n",
    "_, nunique_val = np.unique(y_val, return_counts=True)\n",
    "\n",
    "print(f'Training data has {nunique_trn[1]/nunique_trn.sum()} ill patients')\n",
    "print(f'Validataion data has {nunique_val[1]/nunique_val.sum()} ill patients')"
   ]
  },
  {
   "cell_type": "markdown",
   "metadata": {},
   "source": [
    "## Neural Network Classifier\n",
    "\n",
    "Using FastAi library, we first build a model data from a thedataframe. Using idxs variable to split the data into train and val set. Calcualte the size of the embedding metrix. Then build a model object with get_learner.  "
   ]
  },
  {
   "cell_type": "code",
   "execution_count": 9,
   "metadata": {},
   "outputs": [],
   "source": [
    "# construct a model data\n",
    "md = ColumnarModelData.from_data_frame('', val_idxs=idxs, df=df, y=y.astype(np.int64), cat_flds=['Gender'], is_reg=False,\n",
    "                                      bs=512)"
   ]
  },
  {
   "cell_type": "code",
   "execution_count": 10,
   "metadata": {},
   "outputs": [
    {
     "data": {
      "text/plain": [
       "[(3, 2)]"
      ]
     },
     "execution_count": 10,
     "metadata": {},
     "output_type": "execute_result"
    }
   ],
   "source": [
    "# calculate the size of the embedding matrix for the categorical variables\n",
    "cat_vars = ['Gender']\n",
    "cat_sz = [(c, len(df_raw[c].cat.categories)+1) for c in cat_vars]; cat_sz\n",
    "emb_szs = [(c, min(50, (c+1)//2)) for _,c in cat_sz]; emb_szs"
   ]
  },
  {
   "cell_type": "code",
   "execution_count": 11,
   "metadata": {},
   "outputs": [
    {
     "data": {
      "text/plain": [
       "OrderedDict([('Embedding-1',\n",
       "              OrderedDict([('input_shape', [-1]),\n",
       "                           ('output_shape', [-1, 2]),\n",
       "                           ('trainable', True),\n",
       "                           ('nb_params', tensor(6))])),\n",
       "             ('Dropout-2',\n",
       "              OrderedDict([('input_shape', [-1, 2]),\n",
       "                           ('output_shape', [-1, 2]),\n",
       "                           ('nb_params', 0)])),\n",
       "             ('BatchNorm1d-3',\n",
       "              OrderedDict([('input_shape', [-1, 9]),\n",
       "                           ('output_shape', [-1, 9]),\n",
       "                           ('trainable', True),\n",
       "                           ('nb_params', tensor(18))])),\n",
       "             ('Linear-4',\n",
       "              OrderedDict([('input_shape', [-1, 11]),\n",
       "                           ('output_shape', [-1, 200]),\n",
       "                           ('trainable', True),\n",
       "                           ('nb_params', tensor(2400))])),\n",
       "             ('Dropout-5',\n",
       "              OrderedDict([('input_shape', [-1, 200]),\n",
       "                           ('output_shape', [-1, 200]),\n",
       "                           ('nb_params', 0)])),\n",
       "             ('Linear-6',\n",
       "              OrderedDict([('input_shape', [-1, 200]),\n",
       "                           ('output_shape', [-1, 20]),\n",
       "                           ('trainable', True),\n",
       "                           ('nb_params', tensor(4020))])),\n",
       "             ('Dropout-7',\n",
       "              OrderedDict([('input_shape', [-1, 20]),\n",
       "                           ('output_shape', [-1, 20]),\n",
       "                           ('nb_params', 0)])),\n",
       "             ('Linear-8',\n",
       "              OrderedDict([('input_shape', [-1, 20]),\n",
       "                           ('output_shape', [-1, 2]),\n",
       "                           ('trainable', True),\n",
       "                           ('nb_params', tensor(42))]))])"
      ]
     },
     "execution_count": 11,
     "metadata": {},
     "output_type": "execute_result"
    }
   ],
   "source": [
    "# build a nn model object\n",
    "mnn = md.get_learner(emb_szs, len(df.columns)-len(cat_vars),\n",
    "                   0.04, out_sz=2, szs=[200, 20], drops=[0.001, 0.01], y_range=None)\n",
    "mnn.summary()"
   ]
  },
  {
   "cell_type": "code",
   "execution_count": 12,
   "metadata": {},
   "outputs": [],
   "source": [
    "# pick a learning rate \n",
    "lr = 1e-4"
   ]
  },
  {
   "cell_type": "code",
   "execution_count": 13,
   "metadata": {
    "collapsed": true
   },
   "outputs": [
    {
     "data": {
      "application/vnd.jupyter.widget-view+json": {
       "model_id": "424cf2ac058c44359ffd16fecc830595",
       "version_major": 2,
       "version_minor": 0
      },
      "text/plain": [
       "HBox(children=(IntProgress(value=0, description='Epoch', max=20, style=ProgressStyle(description_width='initia…"
      ]
     },
     "metadata": {},
     "output_type": "display_data"
    },
    {
     "name": "stdout",
     "output_type": "stream",
     "text": [
      "epoch      trn_loss   val_loss   accuracy                                           \n",
      "    0      0.910521   0.879284   0.289655  \n",
      "    1      0.905258   0.873359   0.289655                                           \n",
      "    2      0.904407   0.867512   0.296552                                           \n",
      "    3      0.897898   0.861762   0.303448                                           \n",
      "    4      0.894458   0.856116   0.317241                                           \n",
      "    5      0.89068    0.850603   0.317241                                           \n",
      "    6      0.887143   0.845175   0.310345                                           \n",
      "    7      0.883125   0.83983    0.296552                                           \n",
      "    8      0.880215   0.834579   0.303448                                           \n",
      "    9      0.876636   0.829393   0.296552                                           \n",
      "    10     0.872997   0.824288   0.296552                                           \n",
      "    11     0.869632   0.819279   0.296552                                           \n",
      "    12     0.866085   0.814365   0.310345                                           \n",
      "    13     0.862737   0.809514   0.317241                                           \n",
      "    14     0.859247   0.804718   0.303448                                           \n",
      "    15     0.855805   0.79999    0.310345                                           \n",
      "    16     0.852265   0.795329   0.303448                                           \n",
      "    17     0.848917   0.790732   0.310345                                           \n",
      "    18     0.845118   0.786221   0.310345                                           \n",
      "    19     0.841743   0.781731   0.317241                                           \n",
      "\n"
     ]
    },
    {
     "data": {
      "text/plain": [
       "[0.781731367111206, 0.317241370677948]"
      ]
     },
     "execution_count": 13,
     "metadata": {},
     "output_type": "execute_result"
    }
   ],
   "source": [
    "# start fitting\n",
    "mnn.fit(lr, 20, metrics=[accuracy])"
   ]
  },
  {
   "cell_type": "code",
   "execution_count": 15,
   "metadata": {
    "collapsed": true
   },
   "outputs": [
    {
     "data": {
      "application/vnd.jupyter.widget-view+json": {
       "model_id": "2fad83ce0ae44f29bd31fd1f23ebc1e1",
       "version_major": 2,
       "version_minor": 0
      },
      "text/plain": [
       "HBox(children=(IntProgress(value=0, description='Epoch', max=20, style=ProgressStyle(description_width='initia…"
      ]
     },
     "metadata": {},
     "output_type": "display_data"
    },
    {
     "name": "stdout",
     "output_type": "stream",
     "text": [
      "epoch      trn_loss   val_loss   accuracy                                           \n",
      "    0      0.683505   0.702725   0.586207  \n",
      "    1      0.682746   0.699528   0.6                                                \n",
      "    2      0.681062   0.696383   0.6                                                \n",
      "    3      0.679431   0.693311   0.613793                                           \n",
      "    4      0.677603   0.6903     0.613793                                           \n",
      "    5      0.676347   0.687332   0.627586                                           \n",
      "    6      0.674807   0.684418   0.627586                                           \n",
      "    7      0.673582   0.681564   0.627586                                           \n",
      "    8      0.671565   0.678788   0.627586                                           \n",
      "    9      0.670327   0.676061   0.648276                                           \n",
      "    10     0.66833    0.673397   0.668966                                           \n",
      "    11     0.666805   0.670803   0.696552                                           \n",
      "    12     0.66501    0.668259   0.696552                                           \n",
      "    13     0.663308   0.665741   0.696552                                           \n",
      "    14     0.661783   0.663243   0.696552                                           \n",
      "    15     0.660308   0.660805   0.703448                                           \n",
      "    16     0.658643   0.658441   0.696552                                           \n",
      "    17     0.65708    0.656137   0.696552                                           \n",
      "    18     0.655841   0.65389    0.703448                                           \n",
      "    19     0.654384   0.651707   0.710345                                           \n",
      "\n"
     ]
    },
    {
     "data": {
      "text/plain": [
       "[0.6517074704170227, 0.7103448510169983]"
      ]
     },
     "execution_count": 15,
     "metadata": {},
     "output_type": "execute_result"
    }
   ],
   "source": [
    "mnn.fit(lr, 20, metrics=[accuracy])"
   ]
  },
  {
   "cell_type": "code",
   "execution_count": 27,
   "metadata": {},
   "outputs": [
    {
     "data": {
      "application/vnd.jupyter.widget-view+json": {
       "model_id": "54d1a05ce17347e997e72e7f6419cf3e",
       "version_major": 2,
       "version_minor": 0
      },
      "text/plain": [
       "HBox(children=(IntProgress(value=0, description='Epoch', max=10, style=ProgressStyle(description_width='initia…"
      ]
     },
     "metadata": {},
     "output_type": "display_data"
    },
    {
     "name": "stdout",
     "output_type": "stream",
     "text": [
      "epoch      trn_loss   val_loss   accuracy                                           \n",
      "    0      0.540256   0.531113   0.724138  \n",
      "    1      0.538573   0.530315   0.724138                                           \n",
      "    2      0.53872    0.529494   0.724138                                           \n",
      "    3      0.538526   0.528719   0.724138                                           \n",
      "    4      0.53782    0.527941   0.724138                                           \n",
      "    5      0.537509   0.527207   0.724138                                           \n",
      "    6      0.537187   0.52648    0.724138                                           \n",
      "    7      0.537176   0.525772   0.724138                                           \n",
      "    8      0.536706   0.525072   0.724138                                           \n",
      "    9      0.536263   0.52439    0.724138                                           \n",
      "\n"
     ]
    },
    {
     "data": {
      "text/plain": [
       "[0.5243901014328003, 0.7241379022598267]"
      ]
     },
     "execution_count": 27,
     "metadata": {},
     "output_type": "execute_result"
    }
   ],
   "source": [
    "mnn.fit(lr, 10, metrics=[accuracy])"
   ]
  },
  {
   "cell_type": "code",
   "execution_count": 28,
   "metadata": {},
   "outputs": [],
   "source": [
    "mnn.save('indian_mnn')"
   ]
  },
  {
   "cell_type": "markdown",
   "metadata": {},
   "source": [
    "## Analyse NN results <a id='nn_result'></a>"
   ]
  },
  {
   "cell_type": "code",
   "execution_count": 29,
   "metadata": {},
   "outputs": [],
   "source": [
    "#https://medium.com/@mp.music93/neural-networks-feature-importance-with-fastai-5c393cf65815\n",
    "def nn_feat_importance(m, md, cat_vars, cont_vars):\n",
    "    \"\"\" Computes the feature importance for each categorical and continuous column\n",
    "    m is a fastai.column_data.StructuredLearner\n",
    "    md is a fastai.column_data.ColumnarModelData\n",
    "    cat_vars is a list with the categorical vars names as used to define m and md\n",
    "    cont_vars is a list with the continuous vars names as used to define m and md\n",
    "    \"\"\"\n",
    "    loss0 = np.array([to_np(m.crit(m.model(x_cat, x_cont), y)) for x_cat, x_cont, y in iter(md.val_dl)]).mean()\n",
    "    fi = dict()\n",
    "    for i, c in enumerate(cat_vars):\n",
    "        loss = []\n",
    "        for x_cat, x_cont, y in iter(md.val_dl):\n",
    "            rnd = T(np.random.permutation(x_cat.size()[0]))\n",
    "            x_cat[:, i] = x_cat[rnd, i]\n",
    "            loss.append(to_np(m.crit(m.model(x_cat, x_cont), y)))\n",
    "        fi[c] = np.mean(loss) - loss0\n",
    "    for i, c in enumerate(cont_vars):\n",
    "        loss = []\n",
    "        for x_cat, x_cont, y in iter(md.val_dl):\n",
    "            rnd = T(np.random.permutation(x_cat.size()[0]))\n",
    "            x_cont[:, i] = x_cont[rnd, i]\n",
    "            loss.append(to_np(m.crit(m.model(x_cat, x_cont), y)))\n",
    "        fi[c] = np.mean(loss) - loss0\n",
    "    d = sorted(fi.items(), key=lambda kv: kv[1], reverse=True)\n",
    "    return pd.DataFrame({'cols': [l for l, v in d], 'imp': np.log1p([v for l, v in d])})\n"
   ]
  },
  {
   "cell_type": "code",
   "execution_count": 30,
   "metadata": {},
   "outputs": [
    {
     "data": {
      "text/plain": [
       "<matplotlib.axes._subplots.AxesSubplot at 0x21e8a5929e8>"
      ]
     },
     "execution_count": 30,
     "metadata": {},
     "output_type": "execute_result"
    },
    {
     "data": {
      "image/png": "[encoded data removed]",
      "text/plain": [
       "<Figure size 432x288 with 1 Axes>"
      ]
     },
     "metadata": {
      "needs_background": "light"
     },
     "output_type": "display_data"
    }
   ],
   "source": [
    "con_vars = df.columns.drop(cat_vars)\n",
    "finn = nn_feat_importance(mnn, md, cat_vars, con_vars)\n",
    "finn.plot('cols','imp','barh')"
   ]
  },
  {
   "cell_type": "code",
   "execution_count": 31,
   "metadata": {},
   "outputs": [
    {
     "data": {
      "text/html": [
       "<div>\n",
       "<style scoped>\n",
       "    .dataframe tbody tr th:only-of-type {\n",
       "        vertical-align: middle;\n",
       "    }\n",
       "\n",
       "    .dataframe tbody tr th {\n",
       "        vertical-align: top;\n",
       "    }\n",
       "\n",
       "    .dataframe thead th {\n",
       "        text-align: right;\n",
       "    }\n",
       "</style>\n",
       "<table border=\"1\" class=\"dataframe\">\n",
       "  <thead>\n",
       "    <tr style=\"text-align: right;\">\n",
       "      <th></th>\n",
       "      <th>cols</th>\n",
       "      <th>imp</th>\n",
       "    </tr>\n",
       "  </thead>\n",
       "  <tbody>\n",
       "    <tr>\n",
       "      <th>0</th>\n",
       "      <td>Alamine_Aminotransferase</td>\n",
       "      <td>0.029498</td>\n",
       "    </tr>\n",
       "    <tr>\n",
       "      <th>1</th>\n",
       "      <td>Total_Bilirubin</td>\n",
       "      <td>0.023854</td>\n",
       "    </tr>\n",
       "    <tr>\n",
       "      <th>2</th>\n",
       "      <td>Aspartate_Aminotransferase</td>\n",
       "      <td>0.019631</td>\n",
       "    </tr>\n",
       "    <tr>\n",
       "      <th>3</th>\n",
       "      <td>Albumin</td>\n",
       "      <td>0.005311</td>\n",
       "    </tr>\n",
       "    <tr>\n",
       "      <th>4</th>\n",
       "      <td>Total_Protiens</td>\n",
       "      <td>0.003857</td>\n",
       "    </tr>\n",
       "    <tr>\n",
       "      <th>5</th>\n",
       "      <td>Age</td>\n",
       "      <td>0.003853</td>\n",
       "    </tr>\n",
       "    <tr>\n",
       "      <th>6</th>\n",
       "      <td>Alkaline_Phosphotase</td>\n",
       "      <td>0.003704</td>\n",
       "    </tr>\n",
       "    <tr>\n",
       "      <th>7</th>\n",
       "      <td>Direct_Bilirubin</td>\n",
       "      <td>0.001736</td>\n",
       "    </tr>\n",
       "    <tr>\n",
       "      <th>8</th>\n",
       "      <td>Gender</td>\n",
       "      <td>-0.000560</td>\n",
       "    </tr>\n",
       "    <tr>\n",
       "      <th>9</th>\n",
       "      <td>Albumin_and_Globulin_Ratio</td>\n",
       "      <td>-0.005539</td>\n",
       "    </tr>\n",
       "  </tbody>\n",
       "</table>\n",
       "</div>"
      ],
      "text/plain": [
       "                         cols       imp\n",
       "0    Alamine_Aminotransferase  0.029498\n",
       "1             Total_Bilirubin  0.023854\n",
       "2  Aspartate_Aminotransferase  0.019631\n",
       "3                     Albumin  0.005311\n",
       "4              Total_Protiens  0.003857\n",
       "5                         Age  0.003853\n",
       "6        Alkaline_Phosphotase  0.003704\n",
       "7            Direct_Bilirubin  0.001736\n",
       "8                      Gender -0.000560\n",
       "9  Albumin_and_Globulin_Ratio -0.005539"
      ]
     },
     "execution_count": 31,
     "metadata": {},
     "output_type": "execute_result"
    }
   ],
   "source": [
    "finn"
   ]
  },
  {
   "cell_type": "code",
   "execution_count": 32,
   "metadata": {},
   "outputs": [],
   "source": [
    "log_preds = mnn.predict()\n",
    "preds = np.argmax(log_preds, axis=1)\n",
    "probs = np.exp(log_preds)"
   ]
  },
  {
   "cell_type": "code",
   "execution_count": 34,
   "metadata": {},
   "outputs": [
    {
     "name": "stderr",
     "output_type": "stream",
     "text": [
      "C:\\Users\\Benny\\Anaconda3\\envs\\fastai\\lib\\site-packages\\sklearn\\metrics\\classification.py:1537: UserWarning: labels size, 1, does not match size of target_names, 2\n",
      "  .format(len(labels), len(target_names))\n"
     ]
    },
    {
     "name": "stdout",
     "output_type": "stream",
     "text": [
      "Classification Report validation set: \n",
      "               precision    recall  f1-score   support\n",
      "\n",
      "     Healthy       0.72      1.00      0.84       105\n",
      "\n",
      "   micro avg       0.72      1.00      0.84       105\n",
      "   macro avg       0.72      1.00      0.84       105\n",
      "weighted avg       0.72      1.00      0.84       105\n",
      "\n"
     ]
    },
    {
     "data": {
      "text/plain": [
       "([<matplotlib.axis.YTick at 0x21e8f5a5518>,\n",
       "  <matplotlib.axis.YTick at 0x21e8f59fe10>],\n",
       " <a list of 2 Text yticklabel objects>)"
      ]
     },
     "execution_count": 34,
     "metadata": {},
     "output_type": "execute_result"
    },
    {
     "data": {
      "image/png": "[encoded data removed]",
      "text/plain": [
       "<Figure size 432x288 with 2 Axes>"
      ]
     },
     "metadata": {
      "needs_background": "light"
     },
     "output_type": "display_data"
    }
   ],
   "source": [
    "print('Classification Report validation set: \\n', classification_report(y_val,preds, \n",
    "                                                        target_names=['Healthy', 'Ill'], labels=np.unique(preds)))\n",
    "\n",
    "sns.heatmap(confusion_matrix(y_val,preds),annot=True,fmt=\"d\")\n",
    "plt.ylabel('True label')\n",
    "plt.xlabel('Predicted label')\n",
    "plt.title('Confusion matrix for traning set')\n",
    "tick_marks = np.arange(2) + 0.5\n",
    "plt.xticks(tick_marks, ['Healthy','Ill'])\n",
    "plt.yticks(tick_marks, ['Healthy','Ill'])"
   ]
  },
  {
   "cell_type": "code",
   "execution_count": 33,
   "metadata": {},
   "outputs": [
    {
     "data": {
      "text/plain": [
       "0.5"
      ]
     },
     "execution_count": 33,
     "metadata": {},
     "output_type": "execute_result"
    }
   ],
   "source": [
    "roc_auc_score(y_val, preds)"
   ]
  },
  {
   "cell_type": "markdown",
   "metadata": {},
   "source": [
    "## Conclusions <a id='con'></a>\n",
    "\n",
    "Using two hidden layers neutral network predict 72% accuracy and high false positive rate, which is worse than logsitic regression. This maybe due to the small amount of data.\n",
    "\n"
   ]
  },
  {
   "cell_type": "code",
   "execution_count": null,
   "metadata": {},
   "outputs": [],
   "source": []
  }
 ],
 "metadata": {
  "kernelspec": {
   "display_name": "Python 3",
   "language": "python",
   "name": "python3"
  },
  "language_info": {
   "codemirror_mode": {
    "name": "ipython",
    "version": 3
   },
   "file_extension": ".py",
   "mimetype": "text/x-python",
   "name": "python",
   "nbconvert_exporter": "python",
   "pygments_lexer": "ipython3",
   "version": "3.6.8"
  }
 },
 "nbformat": 4,
 "nbformat_minor": 2
}
