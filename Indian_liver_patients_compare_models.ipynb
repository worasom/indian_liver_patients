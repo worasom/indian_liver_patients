{
 "cells": [
  {
   "cell_type": "markdown",
   "metadata": {},
   "source": [
    "# Indian Liver Patient Records\n",
    "\n",
    "Compare performance of [random forest](https://github.com/worasom/indian_liver_patients/blob/master/Indian_liver_patients_random_forest.ipynb), [logistic regression](https://github.com/worasom/indian_liver_patients/blob/master/Indian_liver_logistic.ipynb), and [neural network](https://github.com/worasom/indian_liver_patients/blob/master/Indian_liver_patients-NN.ipynb) performances on identifying liver patients from their blood panel. The traing procedures for each model can be found in the hyperlink.  \n",
    "\n",
    "\n",
    "This is a kaggle[https://www.kaggle.com/uciml/indian-liver-patient-records/home] competition. The data is from Lichman, M. (2013). UCI Machine Learning Repository [http://archive.ics.uci.edu/ml]. Irvine, CA: University of California, School of Information and Computer Science. There are a number of machine learning papers that work on this data set;for example:\n",
    "- Bendi Venkata Ramana, Prof. M. S. Prasad Babu and Prof. N. B. Venkateswarlu, \"A Critical Comparative Study of Liver Patients from USA and INDIA: An Exploratory Analysis\", International Journal of Computer Science Issues, (May 2012)\n",
    "- Bendi Venkata Ramana and Prof. M.Surendra Prasad Babu, \"Liver Classification Using Modified Rotation Forest\" International Journal of Engineering Research and Development,  (June 2012)\n",
    "\n",
    "\n",
    "\n",
    "## Outline <a id='outline'></a>\n",
    "\n",
    "1. [Exploring data](#Exploringdata): \n",
    "     - Find missing data, and turn string data into catergory\n",
    "     - Inspect the number of patients with and without liver disease among [age and gender groups](#genderage)\n",
    "     - Separate the datainto train and validation set\n",
    "\n",
    "2. [Random Forest Classifier](#RF): \n",
    "     - Loading the model, \n",
    "     - [Results](#RF_result): feature of importance, confusion matrix, most correct and most incorrect predictions for each class\n",
    "     \n",
    "3. [Logistic Regression](#LR): \n",
    "     - Loading the model\n",
    "     - [Results](#LR_result)\n",
    "     \n",
    "3. [Neural Network with FastAI ](#NN): \n",
    "     - [Results](#NN_result)\n",
    "     \n",
    "4. [Compare different models](#con): \n",
    "\n",
    "Questions:\n",
    "- Compare results from different models\n",
    "- Compare featuare of importances calculated from different models"
   ]
  },
  {
   "cell_type": "code",
   "execution_count": 1,
   "metadata": {},
   "outputs": [],
   "source": [
    "# import libraries\n",
    "\n",
    "import sys\n",
    "import feather\n",
    "from pathlib import Path\n",
    "sys.path.append(r'C:\\Users\\Benny\\fastai\\old')\n",
    "\n",
    "%config IPCompleter.greedy=True\n",
    "%load_ext autoreload\n",
    "%autoreload 2\n",
    "%matplotlib inline\n",
    "\n",
    "from fastai.imports import *\n",
    "from fastai.structured import *\n",
    "from fastai.dataset import *\n",
    "from fastai.column_data import *\n",
    "\n",
    "from pandas_summary import DataFrameSummary\n",
    "from sklearn.ensemble import RandomForestRegressor, RandomForestClassifier\n",
    "from sklearn.linear_model import LogisticRegression\n",
    "from sklearn.metrics import (classification_report, confusion_matrix,\n",
    "accuracy_score, log_loss)\n",
    "from sklearn.model_selection import RandomizedSearchCV\n",
    "\n",
    "from IPython.display import display\n",
    "\n",
    "import seaborn as sns\n",
    "plt.style.use('ggplot')\n"
   ]
  },
  {
   "cell_type": "markdown",
   "metadata": {},
   "source": [
    "## Exploring data <a id='Exploringdata'></a>"
   ]
  },
  {
   "cell_type": "markdown",
   "metadata": {},
   "source": [
    "The data exploration were done previously in [the random forest notebook](#https://github.com/worasom/indian_liver_patients/blob/master/Indian_liver_patients_random_forest.ipynb)"
   ]
  },
  {
   "cell_type": "code",
   "execution_count": 2,
   "metadata": {},
   "outputs": [
    {
     "data": {
      "text/html": [
       "<div>\n",
       "<style scoped>\n",
       "    .dataframe tbody tr th:only-of-type {\n",
       "        vertical-align: middle;\n",
       "    }\n",
       "\n",
       "    .dataframe tbody tr th {\n",
       "        vertical-align: top;\n",
       "    }\n",
       "\n",
       "    .dataframe thead th {\n",
       "        text-align: right;\n",
       "    }\n",
       "</style>\n",
       "<table border=\"1\" class=\"dataframe\">\n",
       "  <thead>\n",
       "    <tr style=\"text-align: right;\">\n",
       "      <th></th>\n",
       "      <th>0</th>\n",
       "      <th>1</th>\n",
       "      <th>2</th>\n",
       "      <th>3</th>\n",
       "      <th>4</th>\n",
       "    </tr>\n",
       "  </thead>\n",
       "  <tbody>\n",
       "    <tr>\n",
       "      <th>Age</th>\n",
       "      <td>65</td>\n",
       "      <td>62</td>\n",
       "      <td>62</td>\n",
       "      <td>58</td>\n",
       "      <td>72</td>\n",
       "    </tr>\n",
       "    <tr>\n",
       "      <th>Gender</th>\n",
       "      <td>Female</td>\n",
       "      <td>Male</td>\n",
       "      <td>Male</td>\n",
       "      <td>Male</td>\n",
       "      <td>Male</td>\n",
       "    </tr>\n",
       "    <tr>\n",
       "      <th>Total_Bilirubin</th>\n",
       "      <td>0.7</td>\n",
       "      <td>10.9</td>\n",
       "      <td>7.3</td>\n",
       "      <td>1</td>\n",
       "      <td>3.9</td>\n",
       "    </tr>\n",
       "    <tr>\n",
       "      <th>Direct_Bilirubin</th>\n",
       "      <td>0.1</td>\n",
       "      <td>5.5</td>\n",
       "      <td>4.1</td>\n",
       "      <td>0.4</td>\n",
       "      <td>2</td>\n",
       "    </tr>\n",
       "    <tr>\n",
       "      <th>Alkaline_Phosphotase</th>\n",
       "      <td>187</td>\n",
       "      <td>699</td>\n",
       "      <td>490</td>\n",
       "      <td>182</td>\n",
       "      <td>195</td>\n",
       "    </tr>\n",
       "    <tr>\n",
       "      <th>Alamine_Aminotransferase</th>\n",
       "      <td>16</td>\n",
       "      <td>64</td>\n",
       "      <td>60</td>\n",
       "      <td>14</td>\n",
       "      <td>27</td>\n",
       "    </tr>\n",
       "    <tr>\n",
       "      <th>Aspartate_Aminotransferase</th>\n",
       "      <td>18</td>\n",
       "      <td>100</td>\n",
       "      <td>68</td>\n",
       "      <td>20</td>\n",
       "      <td>59</td>\n",
       "    </tr>\n",
       "    <tr>\n",
       "      <th>Total_Protiens</th>\n",
       "      <td>6.8</td>\n",
       "      <td>7.5</td>\n",
       "      <td>7</td>\n",
       "      <td>6.8</td>\n",
       "      <td>7.3</td>\n",
       "    </tr>\n",
       "    <tr>\n",
       "      <th>Albumin</th>\n",
       "      <td>3.3</td>\n",
       "      <td>3.2</td>\n",
       "      <td>3.3</td>\n",
       "      <td>3.4</td>\n",
       "      <td>2.4</td>\n",
       "    </tr>\n",
       "    <tr>\n",
       "      <th>Albumin_and_Globulin_Ratio</th>\n",
       "      <td>0.9</td>\n",
       "      <td>0.74</td>\n",
       "      <td>0.89</td>\n",
       "      <td>1</td>\n",
       "      <td>0.4</td>\n",
       "    </tr>\n",
       "    <tr>\n",
       "      <th>Dataset</th>\n",
       "      <td>ill</td>\n",
       "      <td>ill</td>\n",
       "      <td>ill</td>\n",
       "      <td>ill</td>\n",
       "      <td>ill</td>\n",
       "    </tr>\n",
       "  </tbody>\n",
       "</table>\n",
       "</div>"
      ],
      "text/plain": [
       "                                 0     1     2     3     4\n",
       "Age                             65    62    62    58    72\n",
       "Gender                      Female  Male  Male  Male  Male\n",
       "Total_Bilirubin                0.7  10.9   7.3     1   3.9\n",
       "Direct_Bilirubin               0.1   5.5   4.1   0.4     2\n",
       "Alkaline_Phosphotase           187   699   490   182   195\n",
       "Alamine_Aminotransferase        16    64    60    14    27\n",
       "Aspartate_Aminotransferase      18   100    68    20    59\n",
       "Total_Protiens                 6.8   7.5     7   6.8   7.3\n",
       "Albumin                        3.3   3.2   3.3   3.4   2.4\n",
       "Albumin_and_Globulin_Ratio     0.9  0.74  0.89     1   0.4\n",
       "Dataset                        ill   ill   ill   ill   ill"
      ]
     },
     "execution_count": 2,
     "metadata": {},
     "output_type": "execute_result"
    }
   ],
   "source": [
    "df_raw=pd.read_feather('tmp/liver_patient_raw')\n",
    "df_raw.head().T"
   ]
  },
  {
   "cell_type": "code",
   "execution_count": 3,
   "metadata": {},
   "outputs": [],
   "source": [
    "#replacing the null with median\n",
    "#Scaling is require for logistic regression and neural network\n",
    "df, y, nas, mapper = proc_df(df_raw, y_fld='Dataset', do_scale=True)"
   ]
  },
  {
   "cell_type": "code",
   "execution_count": 4,
   "metadata": {},
   "outputs": [
    {
     "name": "stdout",
     "output_type": "stream",
     "text": [
      "<class 'pandas.core.frame.DataFrame'>\n",
      "RangeIndex: 583 entries, 0 to 582\n",
      "Data columns (total 11 columns):\n",
      "Age                              583 non-null float64\n",
      "Gender                           583 non-null int8\n",
      "Total_Bilirubin                  583 non-null float64\n",
      "Direct_Bilirubin                 583 non-null float64\n",
      "Alkaline_Phosphotase             583 non-null float64\n",
      "Alamine_Aminotransferase         583 non-null float64\n",
      "Aspartate_Aminotransferase       583 non-null float64\n",
      "Total_Protiens                   583 non-null float64\n",
      "Albumin                          583 non-null float64\n",
      "Albumin_and_Globulin_Ratio       583 non-null float64\n",
      "Albumin_and_Globulin_Ratio_na    583 non-null float64\n",
      "dtypes: float64(10), int8(1)\n",
      "memory usage: 46.2 KB\n"
     ]
    }
   ],
   "source": [
    "df.info()"
   ]
  },
  {
   "cell_type": "markdown",
   "metadata": {},
   "source": [
    "Strong correlation between Direct Bilirubin and Total Bilirubin, Albumin and Total_Proteins, and Aspartate_Aminotransferase and Alamine_Aminotransferase. We might be able to drop these. "
   ]
  },
  {
   "cell_type": "code",
   "execution_count": 5,
   "metadata": {},
   "outputs": [],
   "source": [
    "df = df.drop('Albumin_and_Globulin_Ratio_na', axis=1)"
   ]
  },
  {
   "cell_type": "code",
   "execution_count": 6,
   "metadata": {},
   "outputs": [],
   "source": [
    "# split data into training and validation sets \n",
    "idxs = get_cv_idxs(len(df), val_pct=0.25, seed=52)\n",
    "mask = np.zeros(len(df), dtype=bool)\n",
    "mask[idxs] = True"
   ]
  },
  {
   "cell_type": "code",
   "execution_count": 7,
   "metadata": {},
   "outputs": [],
   "source": [
    "#define score report function for RF and LG\n",
    "def print_score(m):\n",
    "    y_trn_prob = m.predict_proba(x_trn)\n",
    "    y_val_prob = m.predict_proba(x_val)\n",
    "    res = [log_loss(y_trn, y_trn_prob), log_loss(y_val, y_val_prob),\n",
    "          m.score(x_trn, y_trn), m.score(x_val, y_val)]\n",
    "    if hasattr(m, 'oob_score_'): res.append(m.oob_score_)\n",
    "    print('train loss\\t val loss \\t train accuracy \\t val accuracy')\n",
    "    print(res)"
   ]
  },
  {
   "cell_type": "markdown",
   "metadata": {},
   "source": [
    "## Random Forest Classifier <a id='RF'></a>"
   ]
  },
  {
   "cell_type": "code",
   "execution_count": 8,
   "metadata": {},
   "outputs": [],
   "source": [
    "#Loading a trained model \n",
    "mrf = pickle.load(open('indian_mrf.sav', 'rb'))"
   ]
  },
  {
   "cell_type": "code",
   "execution_count": 9,
   "metadata": {},
   "outputs": [],
   "source": [
    "cols_keep = df.columns.drop(['Age','Total_Bilirubin', 'Direct_Bilirubin', \n",
    "                              'Alkaline_Phosphotase','Alamine_Aminotransferase' ])"
   ]
  },
  {
   "cell_type": "code",
   "execution_count": 10,
   "metadata": {},
   "outputs": [
    {
     "data": {
      "text/plain": [
       "Index(['Gender', 'Aspartate_Aminotransferase', 'Total_Protiens', 'Albumin',\n",
       "       'Albumin_and_Globulin_Ratio'],\n",
       "      dtype='object')"
      ]
     },
     "execution_count": 10,
     "metadata": {},
     "output_type": "execute_result"
    }
   ],
   "source": [
    "df_rf = df[cols_keep].copy()\n",
    "df_rf.columns"
   ]
  },
  {
   "cell_type": "code",
   "execution_count": 11,
   "metadata": {},
   "outputs": [],
   "source": [
    "x_trn = df_rf[~mask]\n",
    "x_val = df_rf[mask]\n",
    "y_trn = y[~mask]\n",
    "y_val = y[mask]"
   ]
  },
  {
   "cell_type": "code",
   "execution_count": 12,
   "metadata": {},
   "outputs": [
    {
     "name": "stdout",
     "output_type": "stream",
     "text": [
      "train loss\t val loss \t train accuracy \t val accuracy\n",
      "[0.8165205545509419, 0.8696364104556079, 0.7100456621004566, 0.7241379310344828, 0.7077625570776256]\n"
     ]
    }
   ],
   "source": [
    "print_score(mrf)"
   ]
  },
  {
   "cell_type": "markdown",
   "metadata": {},
   "source": [
    "### Analyzing RF Results"
   ]
  },
  {
   "cell_type": "code",
   "execution_count": 13,
   "metadata": {},
   "outputs": [],
   "source": [
    "from sklearn.metrics import roc_auc_score\n"
   ]
  },
  {
   "cell_type": "code",
   "execution_count": 14,
   "metadata": {},
   "outputs": [
    {
     "data": {
      "text/html": [
       "<div>\n",
       "<style scoped>\n",
       "    .dataframe tbody tr th:only-of-type {\n",
       "        vertical-align: middle;\n",
       "    }\n",
       "\n",
       "    .dataframe tbody tr th {\n",
       "        vertical-align: top;\n",
       "    }\n",
       "\n",
       "    .dataframe thead th {\n",
       "        text-align: right;\n",
       "    }\n",
       "</style>\n",
       "<table border=\"1\" class=\"dataframe\">\n",
       "  <thead>\n",
       "    <tr style=\"text-align: right;\">\n",
       "      <th></th>\n",
       "      <th>cols</th>\n",
       "      <th>imp</th>\n",
       "    </tr>\n",
       "  </thead>\n",
       "  <tbody>\n",
       "    <tr>\n",
       "      <th>3</th>\n",
       "      <td>Albumin</td>\n",
       "      <td>0.247583</td>\n",
       "    </tr>\n",
       "    <tr>\n",
       "      <th>0</th>\n",
       "      <td>Gender</td>\n",
       "      <td>0.227410</td>\n",
       "    </tr>\n",
       "    <tr>\n",
       "      <th>1</th>\n",
       "      <td>Aspartate_Aminotransferase</td>\n",
       "      <td>0.223055</td>\n",
       "    </tr>\n",
       "    <tr>\n",
       "      <th>2</th>\n",
       "      <td>Total_Protiens</td>\n",
       "      <td>0.179009</td>\n",
       "    </tr>\n",
       "    <tr>\n",
       "      <th>4</th>\n",
       "      <td>Albumin_and_Globulin_Ratio</td>\n",
       "      <td>0.122943</td>\n",
       "    </tr>\n",
       "  </tbody>\n",
       "</table>\n",
       "</div>"
      ],
      "text/plain": [
       "                         cols       imp\n",
       "3                     Albumin  0.247583\n",
       "0                      Gender  0.227410\n",
       "1  Aspartate_Aminotransferase  0.223055\n",
       "2              Total_Protiens  0.179009\n",
       "4  Albumin_and_Globulin_Ratio  0.122943"
      ]
     },
     "execution_count": 14,
     "metadata": {},
     "output_type": "execute_result"
    }
   ],
   "source": [
    "fi_rf = rf_feat_importance(mrf, x_trn)\n",
    "fi_rf"
   ]
  },
  {
   "cell_type": "code",
   "execution_count": 15,
   "metadata": {},
   "outputs": [
    {
     "data": {
      "text/plain": [
       "0.5"
      ]
     },
     "execution_count": 15,
     "metadata": {},
     "output_type": "execute_result"
    }
   ],
   "source": [
    "preds = mrf.predict(x_val)\n",
    "proba = mrf.predict_proba(x_val)\n",
    "roc_auc_score(y_val, preds)"
   ]
  },
  {
   "cell_type": "code",
   "execution_count": 16,
   "metadata": {
    "scrolled": true
   },
   "outputs": [
    {
     "name": "stderr",
     "output_type": "stream",
     "text": [
      "C:\\Users\\Benny\\Anaconda3\\envs\\fastai\\lib\\site-packages\\sklearn\\metrics\\classification.py:1143: UndefinedMetricWarning: Precision and F-score are ill-defined and being set to 0.0 in labels with no predicted samples.\n",
      "  'precision', 'predicted', average, warn_for)\n",
      "C:\\Users\\Benny\\Anaconda3\\envs\\fastai\\lib\\site-packages\\sklearn\\metrics\\classification.py:1143: UndefinedMetricWarning: Precision and F-score are ill-defined and being set to 0.0 in labels with no predicted samples.\n",
      "  'precision', 'predicted', average, warn_for)\n",
      "C:\\Users\\Benny\\Anaconda3\\envs\\fastai\\lib\\site-packages\\sklearn\\metrics\\classification.py:1143: UndefinedMetricWarning: Precision and F-score are ill-defined and being set to 0.0 in labels with no predicted samples.\n",
      "  'precision', 'predicted', average, warn_for)\n"
     ]
    },
    {
     "name": "stdout",
     "output_type": "stream",
     "text": [
      "Classification Report validation set: \n",
      "               precision    recall  f1-score   support\n",
      "\n",
      "     Healthy       0.00      0.00      0.00        40\n",
      "         Ill       0.72      1.00      0.84       105\n",
      "\n",
      "   micro avg       0.72      0.72      0.72       145\n",
      "   macro avg       0.36      0.50      0.42       145\n",
      "weighted avg       0.52      0.72      0.61       145\n",
      "\n"
     ]
    },
    {
     "data": {
      "text/plain": [
       "([<matplotlib.axis.YTick at 0x1767003a048>,\n",
       "  <matplotlib.axis.YTick at 0x17670036940>],\n",
       " <a list of 2 Text yticklabel objects>)"
      ]
     },
     "execution_count": 16,
     "metadata": {},
     "output_type": "execute_result"
    },
    {
     "data": {
      "image/png": "[encoded data removed]",
      "text/plain": [
       "<Figure size 432x288 with 2 Axes>"
      ]
     },
     "metadata": {
      "needs_background": "light"
     },
     "output_type": "display_data"
    }
   ],
   "source": [
    "#print('Confusion Matrix: \\n', confusion_matrix(y_val,preds))\n",
    "print('Classification Report validation set: \\n', classification_report(y_val,preds, \n",
    "                                                        target_names=['Healthy', 'Ill']))\n",
    "\n",
    "sns.heatmap(confusion_matrix(y_val,preds),annot=True,fmt=\"d\")\n",
    "plt.ylabel('True label')\n",
    "plt.xlabel('Predicted label')\n",
    "plt.title('Confusion matrix')\n",
    "tick_marks = np.arange(2) + 0.5\n",
    "plt.xticks(tick_marks, ['Healthy','Ill'])\n",
    "plt.yticks(tick_marks, ['Healthy','Ill'])"
   ]
  },
  {
   "cell_type": "markdown",
   "metadata": {},
   "source": [
    "In diagnosis, the model should minimize false negative, which is labeling the patients with liver disease as healthy."
   ]
  },
  {
   "cell_type": "markdown",
   "metadata": {},
   "source": [
    "We compare the model prediction to normal blood panel analysis. To help analyzing the data, we categorize each blood panel into range labeld low, normal, high. "
   ]
  },
  {
   "cell_type": "code",
   "execution_count": 17,
   "metadata": {},
   "outputs": [
    {
     "data": {
      "text/plain": [
       "Index(['Total_Bilirubin', 'Direct_Bilirubin', 'Alkaline_Phosphotase',\n",
       "       'Alamine_Aminotransferase', 'Aspartate_Aminotransferase',\n",
       "       'Total_Protiens', 'Albumin', 'Albumin_and_Globulin_Ratio'],\n",
       "      dtype='object')"
      ]
     },
     "execution_count": 17,
     "metadata": {},
     "output_type": "execute_result"
    }
   ],
   "source": [
    "features = df_raw.columns.drop(['Age','Gender','Dataset']);features"
   ]
  },
  {
   "cell_type": "code",
   "execution_count": 18,
   "metadata": {},
   "outputs": [],
   "source": [
    "# blood test normal range\n",
    "bins_dict = {'Total_Bilirubin': [0, 0.1, 1.2, np.inf],\n",
    "             'Direct_Bilirubin': [0, 0.3, np.inf],\n",
    "             'Alkaline_Phosphotase': [0, 20, 140, np.inf],\n",
    "             'Alamine_Aminotransferase': [0, 10, 40, np.inf],\n",
    "             'Aspartate_Aminotransferase': [0, 7, 56, np.inf],\n",
    "             'Total_Protiens': [0, 6, 8.3, np.inf],\n",
    "             'Albumin': [0, 3.5, 5.5, np.inf],\n",
    "             'Albumin_and_Globulin_Ratio': [0, 0.8, 2.0, np.inf]\n",
    "             }"
   ]
  },
  {
   "cell_type": "code",
   "execution_count": 19,
   "metadata": {},
   "outputs": [],
   "source": [
    "def ana_blood(col):\n",
    "    \"\"\"convert each blood panel into catergory\"\"\"\n",
    "    if len(bins_dict[col.name]) == 3:\n",
    "        labels = ['normal','high']\n",
    "    else:\n",
    "        labels = ['low','normal','high'] \n",
    "    return pd.cut(col,bins=bins_dict[col.name], labels=labels)"
   ]
  },
  {
   "cell_type": "code",
   "execution_count": 20,
   "metadata": {},
   "outputs": [
    {
     "data": {
      "text/html": [
       "<div>\n",
       "<style scoped>\n",
       "    .dataframe tbody tr th:only-of-type {\n",
       "        vertical-align: middle;\n",
       "    }\n",
       "\n",
       "    .dataframe tbody tr th {\n",
       "        vertical-align: top;\n",
       "    }\n",
       "\n",
       "    .dataframe thead th {\n",
       "        text-align: right;\n",
       "    }\n",
       "</style>\n",
       "<table border=\"1\" class=\"dataframe\">\n",
       "  <thead>\n",
       "    <tr style=\"text-align: right;\">\n",
       "      <th></th>\n",
       "      <th>Age</th>\n",
       "      <th>Gender</th>\n",
       "      <th>Total_Bilirubin</th>\n",
       "      <th>Direct_Bilirubin</th>\n",
       "      <th>Alkaline_Phosphotase</th>\n",
       "      <th>Alamine_Aminotransferase</th>\n",
       "      <th>Aspartate_Aminotransferase</th>\n",
       "      <th>Total_Protiens</th>\n",
       "      <th>Albumin</th>\n",
       "      <th>Albumin_and_Globulin_Ratio</th>\n",
       "      <th>Dataset</th>\n",
       "    </tr>\n",
       "  </thead>\n",
       "  <tbody>\n",
       "    <tr>\n",
       "      <th>2</th>\n",
       "      <td>62</td>\n",
       "      <td>Male</td>\n",
       "      <td>7.3</td>\n",
       "      <td>4.1</td>\n",
       "      <td>490</td>\n",
       "      <td>60</td>\n",
       "      <td>68</td>\n",
       "      <td>7.0</td>\n",
       "      <td>3.3</td>\n",
       "      <td>0.89</td>\n",
       "      <td>ill</td>\n",
       "    </tr>\n",
       "    <tr>\n",
       "      <th>7</th>\n",
       "      <td>29</td>\n",
       "      <td>Female</td>\n",
       "      <td>0.9</td>\n",
       "      <td>0.3</td>\n",
       "      <td>202</td>\n",
       "      <td>14</td>\n",
       "      <td>11</td>\n",
       "      <td>6.7</td>\n",
       "      <td>3.6</td>\n",
       "      <td>1.10</td>\n",
       "      <td>ill</td>\n",
       "    </tr>\n",
       "    <tr>\n",
       "      <th>8</th>\n",
       "      <td>17</td>\n",
       "      <td>Male</td>\n",
       "      <td>0.9</td>\n",
       "      <td>0.3</td>\n",
       "      <td>202</td>\n",
       "      <td>22</td>\n",
       "      <td>19</td>\n",
       "      <td>7.4</td>\n",
       "      <td>4.1</td>\n",
       "      <td>1.20</td>\n",
       "      <td>healthy</td>\n",
       "    </tr>\n",
       "    <tr>\n",
       "      <th>11</th>\n",
       "      <td>72</td>\n",
       "      <td>Male</td>\n",
       "      <td>2.7</td>\n",
       "      <td>1.3</td>\n",
       "      <td>260</td>\n",
       "      <td>31</td>\n",
       "      <td>56</td>\n",
       "      <td>7.4</td>\n",
       "      <td>3.0</td>\n",
       "      <td>0.60</td>\n",
       "      <td>ill</td>\n",
       "    </tr>\n",
       "    <tr>\n",
       "      <th>19</th>\n",
       "      <td>40</td>\n",
       "      <td>Female</td>\n",
       "      <td>0.9</td>\n",
       "      <td>0.3</td>\n",
       "      <td>293</td>\n",
       "      <td>232</td>\n",
       "      <td>245</td>\n",
       "      <td>6.8</td>\n",
       "      <td>3.1</td>\n",
       "      <td>0.80</td>\n",
       "      <td>ill</td>\n",
       "    </tr>\n",
       "  </tbody>\n",
       "</table>\n",
       "</div>"
      ],
      "text/plain": [
       "    Age  Gender  Total_Bilirubin  Direct_Bilirubin  Alkaline_Phosphotase  \\\n",
       "2    62    Male              7.3               4.1                   490   \n",
       "7    29  Female              0.9               0.3                   202   \n",
       "8    17    Male              0.9               0.3                   202   \n",
       "11   72    Male              2.7               1.3                   260   \n",
       "19   40  Female              0.9               0.3                   293   \n",
       "\n",
       "    Alamine_Aminotransferase  Aspartate_Aminotransferase  Total_Protiens  \\\n",
       "2                         60                          68             7.0   \n",
       "7                         14                          11             6.7   \n",
       "8                         22                          19             7.4   \n",
       "11                        31                          56             7.4   \n",
       "19                       232                         245             6.8   \n",
       "\n",
       "    Albumin  Albumin_and_Globulin_Ratio  Dataset  \n",
       "2       3.3                        0.89      ill  \n",
       "7       3.6                        1.10      ill  \n",
       "8       4.1                        1.20  healthy  \n",
       "11      3.0                        0.60      ill  \n",
       "19      3.1                        0.80      ill  "
      ]
     },
     "execution_count": 20,
     "metadata": {},
     "output_type": "execute_result"
    }
   ],
   "source": [
    "# analyse the validation set\n",
    "#df_analyse = x_val.copy()\n",
    "df_analyse = df_raw[mask].copy()\n",
    "df_analyse.head()"
   ]
  },
  {
   "cell_type": "code",
   "execution_count": 21,
   "metadata": {},
   "outputs": [],
   "source": [
    "for fea in features:\n",
    "    df_analyse[fea] = ana_blood(df_analyse[fea])"
   ]
  },
  {
   "cell_type": "code",
   "execution_count": 22,
   "metadata": {},
   "outputs": [],
   "source": [
    "df_analyse['y_val'] = y_val\n",
    "df_analyse['prediction'] = preds\n",
    "df_analyse['predict_proba'] = proba[:,1]\n",
    "df_analyse['prediction'] = df_analyse['prediction'].astype('category')\n",
    "df_analyse['prediction']=df_analyse['prediction'].cat.rename_categories({0:'healthy', 1:'ill'})"
   ]
  },
  {
   "cell_type": "code",
   "execution_count": 23,
   "metadata": {
    "scrolled": true
   },
   "outputs": [
    {
     "data": {
      "text/html": [
       "<div>\n",
       "<style scoped>\n",
       "    .dataframe tbody tr th:only-of-type {\n",
       "        vertical-align: middle;\n",
       "    }\n",
       "\n",
       "    .dataframe tbody tr th {\n",
       "        vertical-align: top;\n",
       "    }\n",
       "\n",
       "    .dataframe thead th {\n",
       "        text-align: right;\n",
       "    }\n",
       "</style>\n",
       "<table border=\"1\" class=\"dataframe\">\n",
       "  <thead>\n",
       "    <tr style=\"text-align: right;\">\n",
       "      <th></th>\n",
       "      <th>Age</th>\n",
       "      <th>Gender</th>\n",
       "      <th>Total_Bilirubin</th>\n",
       "      <th>Direct_Bilirubin</th>\n",
       "      <th>Alkaline_Phosphotase</th>\n",
       "      <th>Alamine_Aminotransferase</th>\n",
       "      <th>Aspartate_Aminotransferase</th>\n",
       "      <th>Total_Protiens</th>\n",
       "      <th>Albumin</th>\n",
       "      <th>Albumin_and_Globulin_Ratio</th>\n",
       "      <th>Dataset</th>\n",
       "      <th>y_val</th>\n",
       "      <th>prediction</th>\n",
       "      <th>predict_proba</th>\n",
       "    </tr>\n",
       "  </thead>\n",
       "  <tbody>\n",
       "    <tr>\n",
       "      <th>2</th>\n",
       "      <td>62</td>\n",
       "      <td>Male</td>\n",
       "      <td>high</td>\n",
       "      <td>high</td>\n",
       "      <td>high</td>\n",
       "      <td>high</td>\n",
       "      <td>high</td>\n",
       "      <td>normal</td>\n",
       "      <td>low</td>\n",
       "      <td>normal</td>\n",
       "      <td>ill</td>\n",
       "      <td>1</td>\n",
       "      <td>ill</td>\n",
       "      <td>0.944755</td>\n",
       "    </tr>\n",
       "    <tr>\n",
       "      <th>7</th>\n",
       "      <td>29</td>\n",
       "      <td>Female</td>\n",
       "      <td>normal</td>\n",
       "      <td>normal</td>\n",
       "      <td>high</td>\n",
       "      <td>normal</td>\n",
       "      <td>normal</td>\n",
       "      <td>normal</td>\n",
       "      <td>normal</td>\n",
       "      <td>normal</td>\n",
       "      <td>ill</td>\n",
       "      <td>1</td>\n",
       "      <td>ill</td>\n",
       "      <td>0.962733</td>\n",
       "    </tr>\n",
       "    <tr>\n",
       "      <th>8</th>\n",
       "      <td>17</td>\n",
       "      <td>Male</td>\n",
       "      <td>normal</td>\n",
       "      <td>normal</td>\n",
       "      <td>high</td>\n",
       "      <td>normal</td>\n",
       "      <td>normal</td>\n",
       "      <td>normal</td>\n",
       "      <td>normal</td>\n",
       "      <td>normal</td>\n",
       "      <td>healthy</td>\n",
       "      <td>0</td>\n",
       "      <td>ill</td>\n",
       "      <td>0.962733</td>\n",
       "    </tr>\n",
       "    <tr>\n",
       "      <th>11</th>\n",
       "      <td>72</td>\n",
       "      <td>Male</td>\n",
       "      <td>high</td>\n",
       "      <td>high</td>\n",
       "      <td>high</td>\n",
       "      <td>normal</td>\n",
       "      <td>normal</td>\n",
       "      <td>normal</td>\n",
       "      <td>low</td>\n",
       "      <td>low</td>\n",
       "      <td>ill</td>\n",
       "      <td>1</td>\n",
       "      <td>ill</td>\n",
       "      <td>0.900218</td>\n",
       "    </tr>\n",
       "    <tr>\n",
       "      <th>19</th>\n",
       "      <td>40</td>\n",
       "      <td>Female</td>\n",
       "      <td>normal</td>\n",
       "      <td>normal</td>\n",
       "      <td>high</td>\n",
       "      <td>high</td>\n",
       "      <td>high</td>\n",
       "      <td>normal</td>\n",
       "      <td>low</td>\n",
       "      <td>low</td>\n",
       "      <td>ill</td>\n",
       "      <td>1</td>\n",
       "      <td>ill</td>\n",
       "      <td>0.910681</td>\n",
       "    </tr>\n",
       "  </tbody>\n",
       "</table>\n",
       "</div>"
      ],
      "text/plain": [
       "    Age  Gender Total_Bilirubin Direct_Bilirubin Alkaline_Phosphotase  \\\n",
       "2    62    Male            high             high                 high   \n",
       "7    29  Female          normal           normal                 high   \n",
       "8    17    Male          normal           normal                 high   \n",
       "11   72    Male            high             high                 high   \n",
       "19   40  Female          normal           normal                 high   \n",
       "\n",
       "   Alamine_Aminotransferase Aspartate_Aminotransferase Total_Protiens Albumin  \\\n",
       "2                      high                       high         normal     low   \n",
       "7                    normal                     normal         normal  normal   \n",
       "8                    normal                     normal         normal  normal   \n",
       "11                   normal                     normal         normal     low   \n",
       "19                     high                       high         normal     low   \n",
       "\n",
       "   Albumin_and_Globulin_Ratio  Dataset  y_val prediction  predict_proba  \n",
       "2                      normal      ill      1        ill       0.944755  \n",
       "7                      normal      ill      1        ill       0.962733  \n",
       "8                      normal  healthy      0        ill       0.962733  \n",
       "11                        low      ill      1        ill       0.900218  \n",
       "19                        low      ill      1        ill       0.910681  "
      ]
     },
     "execution_count": 23,
     "metadata": {},
     "output_type": "execute_result"
    }
   ],
   "source": [
    "df_analyse.head()"
   ]
  },
  {
   "cell_type": "code",
   "execution_count": 24,
   "metadata": {},
   "outputs": [],
   "source": [
    "def show_result_ex(is_correct, ran, val_preds, y_val):\n",
    "    \"\"\" return random index of correct or in_correct classification\"\"\"\n",
    "    idx = np.where((val_preds == y_val)==is_correct)[0]\n",
    "    idx = np.random.choice(idx, min(len(idx),6)) if ran==True else idx\n",
    "    return idx"
   ]
  },
  {
   "cell_type": "code",
   "execution_count": 25,
   "metadata": {},
   "outputs": [
    {
     "name": "stdout",
     "output_type": "stream",
     "text": [
      "Random example of correctly classified\n"
     ]
    },
    {
     "data": {
      "text/html": [
       "<div>\n",
       "<style scoped>\n",
       "    .dataframe tbody tr th:only-of-type {\n",
       "        vertical-align: middle;\n",
       "    }\n",
       "\n",
       "    .dataframe tbody tr th {\n",
       "        vertical-align: top;\n",
       "    }\n",
       "\n",
       "    .dataframe thead th {\n",
       "        text-align: right;\n",
       "    }\n",
       "</style>\n",
       "<table border=\"1\" class=\"dataframe\">\n",
       "  <thead>\n",
       "    <tr style=\"text-align: right;\">\n",
       "      <th></th>\n",
       "      <th>Age</th>\n",
       "      <th>Gender</th>\n",
       "      <th>Total_Bilirubin</th>\n",
       "      <th>Direct_Bilirubin</th>\n",
       "      <th>Alkaline_Phosphotase</th>\n",
       "      <th>Alamine_Aminotransferase</th>\n",
       "      <th>Aspartate_Aminotransferase</th>\n",
       "      <th>Total_Protiens</th>\n",
       "      <th>Albumin</th>\n",
       "      <th>Albumin_and_Globulin_Ratio</th>\n",
       "      <th>Dataset</th>\n",
       "      <th>y_val</th>\n",
       "      <th>prediction</th>\n",
       "      <th>predict_proba</th>\n",
       "    </tr>\n",
       "  </thead>\n",
       "  <tbody>\n",
       "    <tr>\n",
       "      <th>289</th>\n",
       "      <td>57</td>\n",
       "      <td>Male</td>\n",
       "      <td>high</td>\n",
       "      <td>high</td>\n",
       "      <td>high</td>\n",
       "      <td>high</td>\n",
       "      <td>high</td>\n",
       "      <td>normal</td>\n",
       "      <td>normal</td>\n",
       "      <td>normal</td>\n",
       "      <td>ill</td>\n",
       "      <td>1</td>\n",
       "      <td>ill</td>\n",
       "      <td>0.982437</td>\n",
       "    </tr>\n",
       "    <tr>\n",
       "      <th>113</th>\n",
       "      <td>74</td>\n",
       "      <td>Male</td>\n",
       "      <td>normal</td>\n",
       "      <td>normal</td>\n",
       "      <td>high</td>\n",
       "      <td>normal</td>\n",
       "      <td>high</td>\n",
       "      <td>low</td>\n",
       "      <td>low</td>\n",
       "      <td>low</td>\n",
       "      <td>ill</td>\n",
       "      <td>1</td>\n",
       "      <td>ill</td>\n",
       "      <td>0.790092</td>\n",
       "    </tr>\n",
       "    <tr>\n",
       "      <th>469</th>\n",
       "      <td>66</td>\n",
       "      <td>Male</td>\n",
       "      <td>normal</td>\n",
       "      <td>normal</td>\n",
       "      <td>high</td>\n",
       "      <td>normal</td>\n",
       "      <td>normal</td>\n",
       "      <td>low</td>\n",
       "      <td>low</td>\n",
       "      <td>low</td>\n",
       "      <td>ill</td>\n",
       "      <td>1</td>\n",
       "      <td>ill</td>\n",
       "      <td>0.727039</td>\n",
       "    </tr>\n",
       "    <tr>\n",
       "      <th>211</th>\n",
       "      <td>42</td>\n",
       "      <td>Male</td>\n",
       "      <td>high</td>\n",
       "      <td>high</td>\n",
       "      <td>high</td>\n",
       "      <td>high</td>\n",
       "      <td>high</td>\n",
       "      <td>normal</td>\n",
       "      <td>low</td>\n",
       "      <td>low</td>\n",
       "      <td>ill</td>\n",
       "      <td>1</td>\n",
       "      <td>ill</td>\n",
       "      <td>0.938001</td>\n",
       "    </tr>\n",
       "    <tr>\n",
       "      <th>120</th>\n",
       "      <td>32</td>\n",
       "      <td>Male</td>\n",
       "      <td>high</td>\n",
       "      <td>high</td>\n",
       "      <td>high</td>\n",
       "      <td>high</td>\n",
       "      <td>high</td>\n",
       "      <td>normal</td>\n",
       "      <td>low</td>\n",
       "      <td>normal</td>\n",
       "      <td>ill</td>\n",
       "      <td>1</td>\n",
       "      <td>ill</td>\n",
       "      <td>0.942963</td>\n",
       "    </tr>\n",
       "  </tbody>\n",
       "</table>\n",
       "</div>"
      ],
      "text/plain": [
       "     Age Gender Total_Bilirubin Direct_Bilirubin Alkaline_Phosphotase  \\\n",
       "289   57   Male            high             high                 high   \n",
       "113   74   Male          normal           normal                 high   \n",
       "469   66   Male          normal           normal                 high   \n",
       "211   42   Male            high             high                 high   \n",
       "120   32   Male            high             high                 high   \n",
       "\n",
       "    Alamine_Aminotransferase Aspartate_Aminotransferase Total_Protiens  \\\n",
       "289                     high                       high         normal   \n",
       "113                   normal                       high            low   \n",
       "469                   normal                     normal            low   \n",
       "211                     high                       high         normal   \n",
       "120                     high                       high         normal   \n",
       "\n",
       "    Albumin Albumin_and_Globulin_Ratio Dataset  y_val prediction  \\\n",
       "289  normal                     normal     ill      1        ill   \n",
       "113     low                        low     ill      1        ill   \n",
       "469     low                        low     ill      1        ill   \n",
       "211     low                        low     ill      1        ill   \n",
       "120     low                     normal     ill      1        ill   \n",
       "\n",
       "     predict_proba  \n",
       "289       0.982437  \n",
       "113       0.790092  \n",
       "469       0.727039  \n",
       "211       0.938001  \n",
       "120       0.942963  "
      ]
     },
     "execution_count": 25,
     "metadata": {},
     "output_type": "execute_result"
    }
   ],
   "source": [
    "print('Random example of correctly classified')\n",
    "df_analyse.iloc[show_result_ex(True, True, preds, y_val)].head()"
   ]
  },
  {
   "cell_type": "code",
   "execution_count": 26,
   "metadata": {},
   "outputs": [
    {
     "name": "stdout",
     "output_type": "stream",
     "text": [
      "Random example of incorrectly classified\n"
     ]
    },
    {
     "data": {
      "text/html": [
       "<div>\n",
       "<style scoped>\n",
       "    .dataframe tbody tr th:only-of-type {\n",
       "        vertical-align: middle;\n",
       "    }\n",
       "\n",
       "    .dataframe tbody tr th {\n",
       "        vertical-align: top;\n",
       "    }\n",
       "\n",
       "    .dataframe thead th {\n",
       "        text-align: right;\n",
       "    }\n",
       "</style>\n",
       "<table border=\"1\" class=\"dataframe\">\n",
       "  <thead>\n",
       "    <tr style=\"text-align: right;\">\n",
       "      <th></th>\n",
       "      <th>Age</th>\n",
       "      <th>Gender</th>\n",
       "      <th>Total_Bilirubin</th>\n",
       "      <th>Direct_Bilirubin</th>\n",
       "      <th>Alkaline_Phosphotase</th>\n",
       "      <th>Alamine_Aminotransferase</th>\n",
       "      <th>Aspartate_Aminotransferase</th>\n",
       "      <th>Total_Protiens</th>\n",
       "      <th>Albumin</th>\n",
       "      <th>Albumin_and_Globulin_Ratio</th>\n",
       "      <th>Dataset</th>\n",
       "      <th>y_val</th>\n",
       "      <th>prediction</th>\n",
       "      <th>predict_proba</th>\n",
       "    </tr>\n",
       "  </thead>\n",
       "  <tbody>\n",
       "    <tr>\n",
       "      <th>33</th>\n",
       "      <td>38</td>\n",
       "      <td>Female</td>\n",
       "      <td>high</td>\n",
       "      <td>high</td>\n",
       "      <td>high</td>\n",
       "      <td>high</td>\n",
       "      <td>high</td>\n",
       "      <td>low</td>\n",
       "      <td>low</td>\n",
       "      <td>low</td>\n",
       "      <td>healthy</td>\n",
       "      <td>0</td>\n",
       "      <td>ill</td>\n",
       "      <td>0.797346</td>\n",
       "    </tr>\n",
       "    <tr>\n",
       "      <th>122</th>\n",
       "      <td>58</td>\n",
       "      <td>Male</td>\n",
       "      <td>high</td>\n",
       "      <td>high</td>\n",
       "      <td>high</td>\n",
       "      <td>high</td>\n",
       "      <td>high</td>\n",
       "      <td>low</td>\n",
       "      <td>low</td>\n",
       "      <td>normal</td>\n",
       "      <td>healthy</td>\n",
       "      <td>0</td>\n",
       "      <td>ill</td>\n",
       "      <td>0.908645</td>\n",
       "    </tr>\n",
       "    <tr>\n",
       "      <th>33</th>\n",
       "      <td>38</td>\n",
       "      <td>Female</td>\n",
       "      <td>high</td>\n",
       "      <td>high</td>\n",
       "      <td>high</td>\n",
       "      <td>high</td>\n",
       "      <td>high</td>\n",
       "      <td>low</td>\n",
       "      <td>low</td>\n",
       "      <td>low</td>\n",
       "      <td>healthy</td>\n",
       "      <td>0</td>\n",
       "      <td>ill</td>\n",
       "      <td>0.797346</td>\n",
       "    </tr>\n",
       "    <tr>\n",
       "      <th>323</th>\n",
       "      <td>12</td>\n",
       "      <td>Male</td>\n",
       "      <td>normal</td>\n",
       "      <td>normal</td>\n",
       "      <td>high</td>\n",
       "      <td>high</td>\n",
       "      <td>high</td>\n",
       "      <td>normal</td>\n",
       "      <td>low</td>\n",
       "      <td>normal</td>\n",
       "      <td>healthy</td>\n",
       "      <td>0</td>\n",
       "      <td>ill</td>\n",
       "      <td>0.958326</td>\n",
       "    </tr>\n",
       "    <tr>\n",
       "      <th>342</th>\n",
       "      <td>35</td>\n",
       "      <td>Male</td>\n",
       "      <td>normal</td>\n",
       "      <td>normal</td>\n",
       "      <td>high</td>\n",
       "      <td>normal</td>\n",
       "      <td>normal</td>\n",
       "      <td>normal</td>\n",
       "      <td>normal</td>\n",
       "      <td>normal</td>\n",
       "      <td>healthy</td>\n",
       "      <td>0</td>\n",
       "      <td>ill</td>\n",
       "      <td>0.973590</td>\n",
       "    </tr>\n",
       "  </tbody>\n",
       "</table>\n",
       "</div>"
      ],
      "text/plain": [
       "     Age  Gender Total_Bilirubin Direct_Bilirubin Alkaline_Phosphotase  \\\n",
       "33    38  Female            high             high                 high   \n",
       "122   58    Male            high             high                 high   \n",
       "33    38  Female            high             high                 high   \n",
       "323   12    Male          normal           normal                 high   \n",
       "342   35    Male          normal           normal                 high   \n",
       "\n",
       "    Alamine_Aminotransferase Aspartate_Aminotransferase Total_Protiens  \\\n",
       "33                      high                       high            low   \n",
       "122                     high                       high            low   \n",
       "33                      high                       high            low   \n",
       "323                     high                       high         normal   \n",
       "342                   normal                     normal         normal   \n",
       "\n",
       "    Albumin Albumin_and_Globulin_Ratio  Dataset  y_val prediction  \\\n",
       "33      low                        low  healthy      0        ill   \n",
       "122     low                     normal  healthy      0        ill   \n",
       "33      low                        low  healthy      0        ill   \n",
       "323     low                     normal  healthy      0        ill   \n",
       "342  normal                     normal  healthy      0        ill   \n",
       "\n",
       "     predict_proba  \n",
       "33        0.797346  \n",
       "122       0.908645  \n",
       "33        0.797346  \n",
       "323       0.958326  \n",
       "342       0.973590  "
      ]
     },
     "execution_count": 26,
     "metadata": {},
     "output_type": "execute_result"
    }
   ],
   "source": [
    "print('Random example of incorrectly classified')\n",
    "df_analyse.iloc[show_result_ex(False, True, preds, y_val)].head()"
   ]
  },
  {
   "cell_type": "code",
   "execution_count": 27,
   "metadata": {
    "scrolled": true
   },
   "outputs": [
    {
     "name": "stdout",
     "output_type": "stream",
     "text": [
      "Most Incorrectly classified as Ill\n"
     ]
    },
    {
     "name": "stderr",
     "output_type": "stream",
     "text": [
      "C:\\Users\\Benny\\Anaconda3\\envs\\fastai\\lib\\site-packages\\ipykernel_launcher.py:4: UserWarning: Boolean Series key will be reindexed to match DataFrame index.\n",
      "  after removing the cwd from sys.path.\n"
     ]
    },
    {
     "data": {
      "text/html": [
       "<div>\n",
       "<style scoped>\n",
       "    .dataframe tbody tr th:only-of-type {\n",
       "        vertical-align: middle;\n",
       "    }\n",
       "\n",
       "    .dataframe tbody tr th {\n",
       "        vertical-align: top;\n",
       "    }\n",
       "\n",
       "    .dataframe thead th {\n",
       "        text-align: right;\n",
       "    }\n",
       "</style>\n",
       "<table border=\"1\" class=\"dataframe\">\n",
       "  <thead>\n",
       "    <tr style=\"text-align: right;\">\n",
       "      <th></th>\n",
       "      <th>Age</th>\n",
       "      <th>Gender</th>\n",
       "      <th>Total_Bilirubin</th>\n",
       "      <th>Direct_Bilirubin</th>\n",
       "      <th>Alkaline_Phosphotase</th>\n",
       "      <th>Alamine_Aminotransferase</th>\n",
       "      <th>Aspartate_Aminotransferase</th>\n",
       "      <th>Total_Protiens</th>\n",
       "      <th>Albumin</th>\n",
       "      <th>Albumin_and_Globulin_Ratio</th>\n",
       "      <th>Dataset</th>\n",
       "      <th>y_val</th>\n",
       "      <th>prediction</th>\n",
       "      <th>predict_proba</th>\n",
       "    </tr>\n",
       "  </thead>\n",
       "  <tbody>\n",
       "    <tr>\n",
       "      <th>423</th>\n",
       "      <td>53</td>\n",
       "      <td>Male</td>\n",
       "      <td>high</td>\n",
       "      <td>high</td>\n",
       "      <td>high</td>\n",
       "      <td>high</td>\n",
       "      <td>high</td>\n",
       "      <td>normal</td>\n",
       "      <td>normal</td>\n",
       "      <td>normal</td>\n",
       "      <td>healthy</td>\n",
       "      <td>0</td>\n",
       "      <td>ill</td>\n",
       "      <td>0.979870</td>\n",
       "    </tr>\n",
       "    <tr>\n",
       "      <th>344</th>\n",
       "      <td>37</td>\n",
       "      <td>Male</td>\n",
       "      <td>normal</td>\n",
       "      <td>normal</td>\n",
       "      <td>high</td>\n",
       "      <td>high</td>\n",
       "      <td>normal</td>\n",
       "      <td>normal</td>\n",
       "      <td>normal</td>\n",
       "      <td>normal</td>\n",
       "      <td>healthy</td>\n",
       "      <td>0</td>\n",
       "      <td>ill</td>\n",
       "      <td>0.976609</td>\n",
       "    </tr>\n",
       "    <tr>\n",
       "      <th>238</th>\n",
       "      <td>35</td>\n",
       "      <td>Female</td>\n",
       "      <td>normal</td>\n",
       "      <td>normal</td>\n",
       "      <td>high</td>\n",
       "      <td>normal</td>\n",
       "      <td>normal</td>\n",
       "      <td>normal</td>\n",
       "      <td>normal</td>\n",
       "      <td>normal</td>\n",
       "      <td>healthy</td>\n",
       "      <td>0</td>\n",
       "      <td>ill</td>\n",
       "      <td>0.976609</td>\n",
       "    </tr>\n",
       "    <tr>\n",
       "      <th>534</th>\n",
       "      <td>39</td>\n",
       "      <td>Male</td>\n",
       "      <td>high</td>\n",
       "      <td>high</td>\n",
       "      <td>high</td>\n",
       "      <td>high</td>\n",
       "      <td>high</td>\n",
       "      <td>normal</td>\n",
       "      <td>normal</td>\n",
       "      <td>normal</td>\n",
       "      <td>healthy</td>\n",
       "      <td>0</td>\n",
       "      <td>ill</td>\n",
       "      <td>0.974195</td>\n",
       "    </tr>\n",
       "    <tr>\n",
       "      <th>510</th>\n",
       "      <td>37</td>\n",
       "      <td>Female</td>\n",
       "      <td>normal</td>\n",
       "      <td>normal</td>\n",
       "      <td>high</td>\n",
       "      <td>normal</td>\n",
       "      <td>normal</td>\n",
       "      <td>high</td>\n",
       "      <td>normal</td>\n",
       "      <td>normal</td>\n",
       "      <td>healthy</td>\n",
       "      <td>0</td>\n",
       "      <td>ill</td>\n",
       "      <td>0.973590</td>\n",
       "    </tr>\n",
       "  </tbody>\n",
       "</table>\n",
       "</div>"
      ],
      "text/plain": [
       "     Age  Gender Total_Bilirubin Direct_Bilirubin Alkaline_Phosphotase  \\\n",
       "423   53    Male            high             high                 high   \n",
       "344   37    Male          normal           normal                 high   \n",
       "238   35  Female          normal           normal                 high   \n",
       "534   39    Male            high             high                 high   \n",
       "510   37  Female          normal           normal                 high   \n",
       "\n",
       "    Alamine_Aminotransferase Aspartate_Aminotransferase Total_Protiens  \\\n",
       "423                     high                       high         normal   \n",
       "344                     high                     normal         normal   \n",
       "238                   normal                     normal         normal   \n",
       "534                     high                       high         normal   \n",
       "510                   normal                     normal           high   \n",
       "\n",
       "    Albumin Albumin_and_Globulin_Ratio  Dataset  y_val prediction  \\\n",
       "423  normal                     normal  healthy      0        ill   \n",
       "344  normal                     normal  healthy      0        ill   \n",
       "238  normal                     normal  healthy      0        ill   \n",
       "534  normal                     normal  healthy      0        ill   \n",
       "510  normal                     normal  healthy      0        ill   \n",
       "\n",
       "     predict_proba  \n",
       "423       0.979870  \n",
       "344       0.976609  \n",
       "238       0.976609  \n",
       "534       0.974195  \n",
       "510       0.973590  "
      ]
     },
     "execution_count": 27,
     "metadata": {},
     "output_type": "execute_result"
    }
   ],
   "source": [
    "print('Most Incorrectly classified as Ill')\n",
    "\n",
    "df_analyse.iloc[show_result_ex(False, False, preds, y_val)\n",
    "               ][df_analyse['Dataset']=='healthy'].sort_values('predict_proba', \n",
    "                                                               ascending=False).head(5)"
   ]
  },
  {
   "cell_type": "markdown",
   "metadata": {},
   "source": [
    "Incorrectly classified patients are due to many abnormal blood test results. "
   ]
  },
  {
   "cell_type": "markdown",
   "metadata": {},
   "source": [
    "## Logistic Regression <a id='LR'></a>"
   ]
  },
  {
   "cell_type": "code",
   "execution_count": 28,
   "metadata": {},
   "outputs": [],
   "source": [
    "#Loading a trained model \n",
    "mlg = pickle.load(open('indian_mlg.pkl', 'rb'))"
   ]
  },
  {
   "cell_type": "code",
   "execution_count": 29,
   "metadata": {},
   "outputs": [],
   "source": [
    "cols_keep = df.columns.drop(['Gender','Total_Bilirubin'])\n",
    "\n",
    "df_lg = df[cols_keep].copy()\n",
    "df_lg.columns\n",
    "\n",
    "x_trn = df_lg[~mask]\n",
    "x_val = df_lg[mask]\n",
    "y_trn = y[~mask]\n",
    "y_val = y[mask]"
   ]
  },
  {
   "cell_type": "code",
   "execution_count": 30,
   "metadata": {
    "scrolled": true
   },
   "outputs": [
    {
     "data": {
      "text/html": [
       "<div>\n",
       "<style scoped>\n",
       "    .dataframe tbody tr th:only-of-type {\n",
       "        vertical-align: middle;\n",
       "    }\n",
       "\n",
       "    .dataframe tbody tr th {\n",
       "        vertical-align: top;\n",
       "    }\n",
       "\n",
       "    .dataframe thead th {\n",
       "        text-align: right;\n",
       "    }\n",
       "</style>\n",
       "<table border=\"1\" class=\"dataframe\">\n",
       "  <thead>\n",
       "    <tr style=\"text-align: right;\">\n",
       "      <th></th>\n",
       "      <th>cols</th>\n",
       "      <th>imp</th>\n",
       "    </tr>\n",
       "  </thead>\n",
       "  <tbody>\n",
       "    <tr>\n",
       "      <th>0</th>\n",
       "      <td>Age</td>\n",
       "      <td>1.435046</td>\n",
       "    </tr>\n",
       "    <tr>\n",
       "      <th>1</th>\n",
       "      <td>Direct_Bilirubin</td>\n",
       "      <td>1.335053</td>\n",
       "    </tr>\n",
       "    <tr>\n",
       "      <th>2</th>\n",
       "      <td>Alkaline_Phosphotase</td>\n",
       "      <td>0.710906</td>\n",
       "    </tr>\n",
       "    <tr>\n",
       "      <th>3</th>\n",
       "      <td>Alamine_Aminotransferase</td>\n",
       "      <td>0.443639</td>\n",
       "    </tr>\n",
       "    <tr>\n",
       "      <th>4</th>\n",
       "      <td>Aspartate_Aminotransferase</td>\n",
       "      <td>0.363857</td>\n",
       "    </tr>\n",
       "    <tr>\n",
       "      <th>5</th>\n",
       "      <td>Total_Protiens</td>\n",
       "      <td>0.285693</td>\n",
       "    </tr>\n",
       "    <tr>\n",
       "      <th>6</th>\n",
       "      <td>Albumin</td>\n",
       "      <td>0.261359</td>\n",
       "    </tr>\n",
       "    <tr>\n",
       "      <th>7</th>\n",
       "      <td>Albumin_and_Globulin_Ratio</td>\n",
       "      <td>0.194382</td>\n",
       "    </tr>\n",
       "  </tbody>\n",
       "</table>\n",
       "</div>"
      ],
      "text/plain": [
       "                         cols       imp\n",
       "0                         Age  1.435046\n",
       "1            Direct_Bilirubin  1.335053\n",
       "2        Alkaline_Phosphotase  0.710906\n",
       "3    Alamine_Aminotransferase  0.443639\n",
       "4  Aspartate_Aminotransferase  0.363857\n",
       "5              Total_Protiens  0.285693\n",
       "6                     Albumin  0.261359\n",
       "7  Albumin_and_Globulin_Ratio  0.194382"
      ]
     },
     "execution_count": 30,
     "metadata": {},
     "output_type": "execute_result"
    }
   ],
   "source": [
    "fi_lg = pd.DataFrame({'cols': x_trn.columns, 'imp':np.abs(mlg.coef_[0])})\n",
    "fi_lg = fi_lg.sort_values('imp', ascending=False)\n",
    "fi_lg"
   ]
  },
  {
   "cell_type": "code",
   "execution_count": 31,
   "metadata": {
    "scrolled": false
   },
   "outputs": [
    {
     "name": "stdout",
     "output_type": "stream",
     "text": [
      "Classification Report validation set: \n",
      "               precision    recall  f1-score   support\n",
      "\n",
      "     Healthy       0.41      0.40      0.41        40\n",
      "         Ill       0.77      0.78      0.78       105\n",
      "\n",
      "   micro avg       0.68      0.68      0.68       145\n",
      "   macro avg       0.59      0.59      0.59       145\n",
      "weighted avg       0.67      0.68      0.67       145\n",
      "\n"
     ]
    },
    {
     "data": {
      "text/plain": [
       "([<matplotlib.axis.YTick at 0x17670137160>,\n",
       "  <matplotlib.axis.YTick at 0x17670132a20>],\n",
       " <a list of 2 Text yticklabel objects>)"
      ]
     },
     "execution_count": 31,
     "metadata": {},
     "output_type": "execute_result"
    },
    {
     "data": {
      "image/png": "[encoded data removed]",
      "text/plain": [
       "<Figure size 432x288 with 2 Axes>"
      ]
     },
     "metadata": {
      "needs_background": "light"
     },
     "output_type": "display_data"
    }
   ],
   "source": [
    "preds = mlg.predict(x_val)\n",
    "proba = mlg.predict_proba(x_val)\n",
    "\n",
    "#print('Confusion Matrix: \\n', confusion_matrix(y_val,preds))\n",
    "print('Classification Report validation set: \\n', classification_report(y_val,preds, \n",
    "                                                        target_names=['Healthy', 'Ill']))\n",
    "\n",
    "sns.heatmap(confusion_matrix(y_val,preds),annot=True,fmt=\"d\")\n",
    "plt.ylabel('True label')\n",
    "plt.xlabel('Predicted label')\n",
    "plt.title('Confusion matrix')\n",
    "tick_marks = np.arange(2) + 0.5\n",
    "plt.xticks(tick_marks, ['Healthy','Ill'])\n",
    "plt.yticks(tick_marks, ['Healthy','Ill'])"
   ]
  },
  {
   "cell_type": "code",
   "execution_count": 32,
   "metadata": {},
   "outputs": [
    {
     "data": {
      "text/plain": [
       "0.5904761904761904"
      ]
     },
     "execution_count": 32,
     "metadata": {},
     "output_type": "execute_result"
    }
   ],
   "source": [
    "from sklearn.metrics import roc_auc_score\n",
    "\n",
    "roc_auc_score(y_val, preds)"
   ]
  },
  {
   "cell_type": "code",
   "execution_count": 33,
   "metadata": {},
   "outputs": [],
   "source": [
    "df_analyse['prediction'] = preds\n",
    "df_analyse['predict_proba'] = proba[:,1]\n",
    "df_analyse['prediction'] = df_analyse['prediction'].astype('category')\n",
    "df_analyse['prediction']=df_analyse['prediction'].cat.rename_categories({0:'healthy', 1:'ill'})"
   ]
  },
  {
   "cell_type": "code",
   "execution_count": 34,
   "metadata": {
    "scrolled": true
   },
   "outputs": [
    {
     "name": "stdout",
     "output_type": "stream",
     "text": [
      "Most Incorrectly classified as Ill\n"
     ]
    },
    {
     "name": "stderr",
     "output_type": "stream",
     "text": [
      "C:\\Users\\Benny\\Anaconda3\\envs\\fastai\\lib\\site-packages\\ipykernel_launcher.py:4: UserWarning: Boolean Series key will be reindexed to match DataFrame index.\n",
      "  after removing the cwd from sys.path.\n"
     ]
    },
    {
     "data": {
      "text/html": [
       "<div>\n",
       "<style scoped>\n",
       "    .dataframe tbody tr th:only-of-type {\n",
       "        vertical-align: middle;\n",
       "    }\n",
       "\n",
       "    .dataframe tbody tr th {\n",
       "        vertical-align: top;\n",
       "    }\n",
       "\n",
       "    .dataframe thead th {\n",
       "        text-align: right;\n",
       "    }\n",
       "</style>\n",
       "<table border=\"1\" class=\"dataframe\">\n",
       "  <thead>\n",
       "    <tr style=\"text-align: right;\">\n",
       "      <th></th>\n",
       "      <th>Age</th>\n",
       "      <th>Gender</th>\n",
       "      <th>Total_Bilirubin</th>\n",
       "      <th>Direct_Bilirubin</th>\n",
       "      <th>Alkaline_Phosphotase</th>\n",
       "      <th>Alamine_Aminotransferase</th>\n",
       "      <th>Aspartate_Aminotransferase</th>\n",
       "      <th>Total_Protiens</th>\n",
       "      <th>Albumin</th>\n",
       "      <th>Albumin_and_Globulin_Ratio</th>\n",
       "      <th>Dataset</th>\n",
       "      <th>y_val</th>\n",
       "      <th>prediction</th>\n",
       "      <th>predict_proba</th>\n",
       "    </tr>\n",
       "  </thead>\n",
       "  <tbody>\n",
       "    <tr>\n",
       "      <th>44</th>\n",
       "      <td>85</td>\n",
       "      <td>Female</td>\n",
       "      <td>normal</td>\n",
       "      <td>normal</td>\n",
       "      <td>high</td>\n",
       "      <td>normal</td>\n",
       "      <td>normal</td>\n",
       "      <td>normal</td>\n",
       "      <td>normal</td>\n",
       "      <td>normal</td>\n",
       "      <td>healthy</td>\n",
       "      <td>0</td>\n",
       "      <td>ill</td>\n",
       "      <td>0.991798</td>\n",
       "    </tr>\n",
       "    <tr>\n",
       "      <th>78</th>\n",
       "      <td>70</td>\n",
       "      <td>Male</td>\n",
       "      <td>high</td>\n",
       "      <td>high</td>\n",
       "      <td>high</td>\n",
       "      <td>normal</td>\n",
       "      <td>normal</td>\n",
       "      <td>normal</td>\n",
       "      <td>normal</td>\n",
       "      <td>normal</td>\n",
       "      <td>healthy</td>\n",
       "      <td>0</td>\n",
       "      <td>ill</td>\n",
       "      <td>0.974872</td>\n",
       "    </tr>\n",
       "    <tr>\n",
       "      <th>114</th>\n",
       "      <td>50</td>\n",
       "      <td>Male</td>\n",
       "      <td>high</td>\n",
       "      <td>high</td>\n",
       "      <td>high</td>\n",
       "      <td>high</td>\n",
       "      <td>high</td>\n",
       "      <td>low</td>\n",
       "      <td>low</td>\n",
       "      <td>low</td>\n",
       "      <td>healthy</td>\n",
       "      <td>0</td>\n",
       "      <td>ill</td>\n",
       "      <td>0.963438</td>\n",
       "    </tr>\n",
       "    <tr>\n",
       "      <th>403</th>\n",
       "      <td>65</td>\n",
       "      <td>Male</td>\n",
       "      <td>normal</td>\n",
       "      <td>normal</td>\n",
       "      <td>high</td>\n",
       "      <td>normal</td>\n",
       "      <td>normal</td>\n",
       "      <td>normal</td>\n",
       "      <td>normal</td>\n",
       "      <td>normal</td>\n",
       "      <td>healthy</td>\n",
       "      <td>0</td>\n",
       "      <td>ill</td>\n",
       "      <td>0.950249</td>\n",
       "    </tr>\n",
       "    <tr>\n",
       "      <th>215</th>\n",
       "      <td>66</td>\n",
       "      <td>Male</td>\n",
       "      <td>normal</td>\n",
       "      <td>normal</td>\n",
       "      <td>normal</td>\n",
       "      <td>normal</td>\n",
       "      <td>high</td>\n",
       "      <td>low</td>\n",
       "      <td>low</td>\n",
       "      <td>normal</td>\n",
       "      <td>healthy</td>\n",
       "      <td>0</td>\n",
       "      <td>ill</td>\n",
       "      <td>0.944671</td>\n",
       "    </tr>\n",
       "  </tbody>\n",
       "</table>\n",
       "</div>"
      ],
      "text/plain": [
       "     Age  Gender Total_Bilirubin Direct_Bilirubin Alkaline_Phosphotase  \\\n",
       "44    85  Female          normal           normal                 high   \n",
       "78    70    Male            high             high                 high   \n",
       "114   50    Male            high             high                 high   \n",
       "403   65    Male          normal           normal                 high   \n",
       "215   66    Male          normal           normal               normal   \n",
       "\n",
       "    Alamine_Aminotransferase Aspartate_Aminotransferase Total_Protiens  \\\n",
       "44                    normal                     normal         normal   \n",
       "78                    normal                     normal         normal   \n",
       "114                     high                       high            low   \n",
       "403                   normal                     normal         normal   \n",
       "215                   normal                       high            low   \n",
       "\n",
       "    Albumin Albumin_and_Globulin_Ratio  Dataset  y_val prediction  \\\n",
       "44   normal                     normal  healthy      0        ill   \n",
       "78   normal                     normal  healthy      0        ill   \n",
       "114     low                        low  healthy      0        ill   \n",
       "403  normal                     normal  healthy      0        ill   \n",
       "215     low                     normal  healthy      0        ill   \n",
       "\n",
       "     predict_proba  \n",
       "44        0.991798  \n",
       "78        0.974872  \n",
       "114       0.963438  \n",
       "403       0.950249  \n",
       "215       0.944671  "
      ]
     },
     "execution_count": 34,
     "metadata": {},
     "output_type": "execute_result"
    }
   ],
   "source": [
    "print('Most Incorrectly classified as Ill')\n",
    "\n",
    "df_analyse.iloc[show_result_ex(False, False, preds, y_val)\n",
    "               ][df_analyse['Dataset']=='healthy'].sort_values('predict_proba', \n",
    "                                                               ascending=False).head(5)"
   ]
  },
  {
   "cell_type": "code",
   "execution_count": 35,
   "metadata": {
    "scrolled": true
   },
   "outputs": [
    {
     "name": "stdout",
     "output_type": "stream",
     "text": [
      "Most Incorrectly classified as Healthy\n"
     ]
    },
    {
     "name": "stderr",
     "output_type": "stream",
     "text": [
      "C:\\Users\\Benny\\Anaconda3\\envs\\fastai\\lib\\site-packages\\ipykernel_launcher.py:4: UserWarning: Boolean Series key will be reindexed to match DataFrame index.\n",
      "  after removing the cwd from sys.path.\n"
     ]
    },
    {
     "data": {
      "text/html": [
       "<div>\n",
       "<style scoped>\n",
       "    .dataframe tbody tr th:only-of-type {\n",
       "        vertical-align: middle;\n",
       "    }\n",
       "\n",
       "    .dataframe tbody tr th {\n",
       "        vertical-align: top;\n",
       "    }\n",
       "\n",
       "    .dataframe thead th {\n",
       "        text-align: right;\n",
       "    }\n",
       "</style>\n",
       "<table border=\"1\" class=\"dataframe\">\n",
       "  <thead>\n",
       "    <tr style=\"text-align: right;\">\n",
       "      <th></th>\n",
       "      <th>Age</th>\n",
       "      <th>Gender</th>\n",
       "      <th>Total_Bilirubin</th>\n",
       "      <th>Direct_Bilirubin</th>\n",
       "      <th>Alkaline_Phosphotase</th>\n",
       "      <th>Alamine_Aminotransferase</th>\n",
       "      <th>Aspartate_Aminotransferase</th>\n",
       "      <th>Total_Protiens</th>\n",
       "      <th>Albumin</th>\n",
       "      <th>Albumin_and_Globulin_Ratio</th>\n",
       "      <th>Dataset</th>\n",
       "      <th>y_val</th>\n",
       "      <th>prediction</th>\n",
       "      <th>predict_proba</th>\n",
       "    </tr>\n",
       "  </thead>\n",
       "  <tbody>\n",
       "    <tr>\n",
       "      <th>350</th>\n",
       "      <td>37</td>\n",
       "      <td>Male</td>\n",
       "      <td>high</td>\n",
       "      <td>high</td>\n",
       "      <td>high</td>\n",
       "      <td>high</td>\n",
       "      <td>high</td>\n",
       "      <td>low</td>\n",
       "      <td>low</td>\n",
       "      <td>normal</td>\n",
       "      <td>ill</td>\n",
       "      <td>1</td>\n",
       "      <td>healthy</td>\n",
       "      <td>0.490582</td>\n",
       "    </tr>\n",
       "    <tr>\n",
       "      <th>502</th>\n",
       "      <td>42</td>\n",
       "      <td>Male</td>\n",
       "      <td>normal</td>\n",
       "      <td>normal</td>\n",
       "      <td>normal</td>\n",
       "      <td>normal</td>\n",
       "      <td>normal</td>\n",
       "      <td>low</td>\n",
       "      <td>low</td>\n",
       "      <td>normal</td>\n",
       "      <td>ill</td>\n",
       "      <td>1</td>\n",
       "      <td>healthy</td>\n",
       "      <td>0.489581</td>\n",
       "    </tr>\n",
       "    <tr>\n",
       "      <th>352</th>\n",
       "      <td>26</td>\n",
       "      <td>Female</td>\n",
       "      <td>normal</td>\n",
       "      <td>normal</td>\n",
       "      <td>high</td>\n",
       "      <td>normal</td>\n",
       "      <td>normal</td>\n",
       "      <td>normal</td>\n",
       "      <td>normal</td>\n",
       "      <td>normal</td>\n",
       "      <td>ill</td>\n",
       "      <td>1</td>\n",
       "      <td>healthy</td>\n",
       "      <td>0.477460</td>\n",
       "    </tr>\n",
       "    <tr>\n",
       "      <th>7</th>\n",
       "      <td>29</td>\n",
       "      <td>Female</td>\n",
       "      <td>normal</td>\n",
       "      <td>normal</td>\n",
       "      <td>high</td>\n",
       "      <td>normal</td>\n",
       "      <td>normal</td>\n",
       "      <td>normal</td>\n",
       "      <td>normal</td>\n",
       "      <td>normal</td>\n",
       "      <td>ill</td>\n",
       "      <td>1</td>\n",
       "      <td>healthy</td>\n",
       "      <td>0.448635</td>\n",
       "    </tr>\n",
       "    <tr>\n",
       "      <th>479</th>\n",
       "      <td>33</td>\n",
       "      <td>Male</td>\n",
       "      <td>high</td>\n",
       "      <td>high</td>\n",
       "      <td>high</td>\n",
       "      <td>high</td>\n",
       "      <td>high</td>\n",
       "      <td>normal</td>\n",
       "      <td>low</td>\n",
       "      <td>low</td>\n",
       "      <td>ill</td>\n",
       "      <td>1</td>\n",
       "      <td>healthy</td>\n",
       "      <td>0.423715</td>\n",
       "    </tr>\n",
       "  </tbody>\n",
       "</table>\n",
       "</div>"
      ],
      "text/plain": [
       "     Age  Gender Total_Bilirubin Direct_Bilirubin Alkaline_Phosphotase  \\\n",
       "350   37    Male            high             high                 high   \n",
       "502   42    Male          normal           normal               normal   \n",
       "352   26  Female          normal           normal                 high   \n",
       "7     29  Female          normal           normal                 high   \n",
       "479   33    Male            high             high                 high   \n",
       "\n",
       "    Alamine_Aminotransferase Aspartate_Aminotransferase Total_Protiens  \\\n",
       "350                     high                       high            low   \n",
       "502                   normal                     normal            low   \n",
       "352                   normal                     normal         normal   \n",
       "7                     normal                     normal         normal   \n",
       "479                     high                       high         normal   \n",
       "\n",
       "    Albumin Albumin_and_Globulin_Ratio Dataset  y_val prediction  \\\n",
       "350     low                     normal     ill      1    healthy   \n",
       "502     low                     normal     ill      1    healthy   \n",
       "352  normal                     normal     ill      1    healthy   \n",
       "7    normal                     normal     ill      1    healthy   \n",
       "479     low                        low     ill      1    healthy   \n",
       "\n",
       "     predict_proba  \n",
       "350       0.490582  \n",
       "502       0.489581  \n",
       "352       0.477460  \n",
       "7         0.448635  \n",
       "479       0.423715  "
      ]
     },
     "execution_count": 35,
     "metadata": {},
     "output_type": "execute_result"
    }
   ],
   "source": [
    "print('Most Incorrectly classified as Healthy')\n",
    "\n",
    "df_analyse.iloc[show_result_ex(False, False, preds, y_val)\n",
    "               ][df_analyse['Dataset']=='ill'].sort_values('predict_proba', \n",
    "                                                               ascending=False).head(5)"
   ]
  },
  {
   "cell_type": "markdown",
   "metadata": {},
   "source": [
    "False negative has a low probability. "
   ]
  },
  {
   "cell_type": "markdown",
   "metadata": {},
   "source": [
    "## Neural Network with FastAI<a id='NN'></a>"
   ]
  },
  {
   "cell_type": "code",
   "execution_count": 36,
   "metadata": {},
   "outputs": [],
   "source": [
    "# split data into training and validation sets \n",
    "idxs = get_cv_idxs(len(df), val_pct=0.25, seed=52)\n",
    "mask = np.zeros(len(df), dtype=bool)\n",
    "mask[idxs] = True\n",
    "\n",
    "md = ColumnarModelData.from_data_frame('', val_idxs=idxs, df=df, y=y.astype(np.int64), cat_flds=['Gender'], is_reg=False,\n",
    "                                      bs=512)\n",
    "cat_vars = ['Gender']\n",
    "cat_sz = [(c, len(df_raw[c].cat.categories)+1) for c in cat_vars]; cat_sz\n",
    "emb_szs = [(c, min(50, (c+1)//2)) for _,c in cat_sz]; \n",
    "mnn = md.get_learner(emb_szs, len(df.columns)-len(cat_vars),\n",
    "                   0.04, out_sz=2, szs=[200, 20], drops=[0.001, 0.01], y_range=None)"
   ]
  },
  {
   "cell_type": "code",
   "execution_count": 37,
   "metadata": {
    "scrolled": true
   },
   "outputs": [],
   "source": [
    "mnn.load('indian_mnn')"
   ]
  },
  {
   "cell_type": "code",
   "execution_count": 38,
   "metadata": {},
   "outputs": [],
   "source": [
    "#https://medium.com/@mp.music93/neural-networks-feature-importance-with-fastai-5c393cf65815\n",
    "def nn_feat_importance(m, md, cat_vars, cont_vars):\n",
    "    \"\"\" Computes the feature importance for each categorical and continuous column\n",
    "    m is a fastai.column_data.StructuredLearner\n",
    "    md is a fastai.column_data.ColumnarModelData\n",
    "    cat_vars is a list with the categorical vars names as used to define m and md\n",
    "    cont_vars is a list with the continuous vars names as used to define m and md\n",
    "    \"\"\"\n",
    "    loss0 = np.array([to_np(m.crit(m.model(x_cat, x_cont), y)) for x_cat, x_cont, y in iter(md.val_dl)]).mean()\n",
    "    fi = dict()\n",
    "    for i, c in enumerate(cat_vars):\n",
    "        loss = []\n",
    "        for x_cat, x_cont, y in iter(md.val_dl):\n",
    "            rnd = T(np.random.permutation(x_cat.size()[0]))\n",
    "            x_cat[:, i] = x_cat[rnd, i]\n",
    "            loss.append(to_np(m.crit(m.model(x_cat, x_cont), y)))\n",
    "        fi[c] = np.mean(loss) - loss0\n",
    "    for i, c in enumerate(cont_vars):\n",
    "        loss = []\n",
    "        for x_cat, x_cont, y in iter(md.val_dl):\n",
    "            rnd = T(np.random.permutation(x_cat.size()[0]))\n",
    "            x_cont[:, i] = x_cont[rnd, i]\n",
    "            loss.append(to_np(m.crit(m.model(x_cat, x_cont), y)))\n",
    "        fi[c] = np.mean(loss) - loss0\n",
    "    d = sorted(fi.items(), key=lambda kv: kv[1], reverse=True)\n",
    "    return pd.DataFrame({'cols': [l for l, v in d], 'imp': np.log1p([v for l, v in d])})\n"
   ]
  },
  {
   "cell_type": "code",
   "execution_count": 39,
   "metadata": {
    "scrolled": true
   },
   "outputs": [
    {
     "data": {
      "text/html": [
       "<div>\n",
       "<style scoped>\n",
       "    .dataframe tbody tr th:only-of-type {\n",
       "        vertical-align: middle;\n",
       "    }\n",
       "\n",
       "    .dataframe tbody tr th {\n",
       "        vertical-align: top;\n",
       "    }\n",
       "\n",
       "    .dataframe thead th {\n",
       "        text-align: right;\n",
       "    }\n",
       "</style>\n",
       "<table border=\"1\" class=\"dataframe\">\n",
       "  <thead>\n",
       "    <tr style=\"text-align: right;\">\n",
       "      <th></th>\n",
       "      <th>cols</th>\n",
       "      <th>imp</th>\n",
       "    </tr>\n",
       "  </thead>\n",
       "  <tbody>\n",
       "    <tr>\n",
       "      <th>0</th>\n",
       "      <td>Aspartate_Aminotransferase</td>\n",
       "      <td>0.029920</td>\n",
       "    </tr>\n",
       "    <tr>\n",
       "      <th>1</th>\n",
       "      <td>Alamine_Aminotransferase</td>\n",
       "      <td>0.021836</td>\n",
       "    </tr>\n",
       "    <tr>\n",
       "      <th>2</th>\n",
       "      <td>Total_Bilirubin</td>\n",
       "      <td>0.014830</td>\n",
       "    </tr>\n",
       "    <tr>\n",
       "      <th>3</th>\n",
       "      <td>Alkaline_Phosphotase</td>\n",
       "      <td>0.003737</td>\n",
       "    </tr>\n",
       "    <tr>\n",
       "      <th>4</th>\n",
       "      <td>Age</td>\n",
       "      <td>0.003612</td>\n",
       "    </tr>\n",
       "    <tr>\n",
       "      <th>5</th>\n",
       "      <td>Direct_Bilirubin</td>\n",
       "      <td>0.001888</td>\n",
       "    </tr>\n",
       "    <tr>\n",
       "      <th>6</th>\n",
       "      <td>Albumin</td>\n",
       "      <td>-0.003054</td>\n",
       "    </tr>\n",
       "    <tr>\n",
       "      <th>7</th>\n",
       "      <td>Gender</td>\n",
       "      <td>-0.005688</td>\n",
       "    </tr>\n",
       "    <tr>\n",
       "      <th>8</th>\n",
       "      <td>Total_Protiens</td>\n",
       "      <td>-0.008043</td>\n",
       "    </tr>\n",
       "    <tr>\n",
       "      <th>9</th>\n",
       "      <td>Albumin_and_Globulin_Ratio</td>\n",
       "      <td>-0.011456</td>\n",
       "    </tr>\n",
       "  </tbody>\n",
       "</table>\n",
       "</div>"
      ],
      "text/plain": [
       "                         cols       imp\n",
       "0  Aspartate_Aminotransferase  0.029920\n",
       "1    Alamine_Aminotransferase  0.021836\n",
       "2             Total_Bilirubin  0.014830\n",
       "3        Alkaline_Phosphotase  0.003737\n",
       "4                         Age  0.003612\n",
       "5            Direct_Bilirubin  0.001888\n",
       "6                     Albumin -0.003054\n",
       "7                      Gender -0.005688\n",
       "8              Total_Protiens -0.008043\n",
       "9  Albumin_and_Globulin_Ratio -0.011456"
      ]
     },
     "execution_count": 39,
     "metadata": {},
     "output_type": "execute_result"
    }
   ],
   "source": [
    "con_vars = df.columns.drop(cat_vars)\n",
    "finn = nn_feat_importance(mnn, md, cat_vars, con_vars)\n",
    "finn"
   ]
  },
  {
   "cell_type": "code",
   "execution_count": 40,
   "metadata": {},
   "outputs": [],
   "source": [
    "log_preds = mnn.predict()\n",
    "preds = np.argmax(log_preds, axis=1)\n",
    "probs = np.exp(log_preds)"
   ]
  },
  {
   "cell_type": "code",
   "execution_count": 41,
   "metadata": {
    "scrolled": false
   },
   "outputs": [
    {
     "name": "stderr",
     "output_type": "stream",
     "text": [
      "C:\\Users\\Benny\\Anaconda3\\envs\\fastai\\lib\\site-packages\\sklearn\\metrics\\classification.py:1537: UserWarning: labels size, 1, does not match size of target_names, 2\n",
      "  .format(len(labels), len(target_names))\n"
     ]
    },
    {
     "name": "stdout",
     "output_type": "stream",
     "text": [
      "Classification Report validation set: \n",
      "               precision    recall  f1-score   support\n",
      "\n",
      "     Healthy       0.72      1.00      0.84       105\n",
      "\n",
      "   micro avg       0.72      1.00      0.84       105\n",
      "   macro avg       0.72      1.00      0.84       105\n",
      "weighted avg       0.72      1.00      0.84       105\n",
      "\n"
     ]
    },
    {
     "data": {
      "text/plain": [
       "([<matplotlib.axis.YTick at 0x17607372978>,\n",
       "  <matplotlib.axis.YTick at 0x176073722b0>],\n",
       " <a list of 2 Text yticklabel objects>)"
      ]
     },
     "execution_count": 41,
     "metadata": {},
     "output_type": "execute_result"
    },
    {
     "data": {
      "image/png": "[encoded data removed]",
      "text/plain": [
       "<Figure size 432x288 with 2 Axes>"
      ]
     },
     "metadata": {
      "needs_background": "light"
     },
     "output_type": "display_data"
    }
   ],
   "source": [
    "print('Classification Report validation set: \\n', classification_report(y_val,preds, \n",
    "                                                        target_names=['Healthy', 'Ill'], labels=np.unique(preds)))\n",
    "\n",
    "sns.heatmap(confusion_matrix(y_val,preds),annot=True,fmt=\"d\")\n",
    "plt.ylabel('True label')\n",
    "plt.xlabel('Predicted label')\n",
    "plt.title('Confusion matrix for traning set')\n",
    "tick_marks = np.arange(2) + 0.5\n",
    "plt.xticks(tick_marks, ['Healthy','Ill'])\n",
    "plt.yticks(tick_marks, ['Healthy','Ill'])"
   ]
  },
  {
   "cell_type": "code",
   "execution_count": 42,
   "metadata": {},
   "outputs": [
    {
     "data": {
      "text/plain": [
       "0.5"
      ]
     },
     "execution_count": 42,
     "metadata": {},
     "output_type": "execute_result"
    }
   ],
   "source": [
    "roc_auc_score(y_val, preds)"
   ]
  },
  {
   "cell_type": "code",
   "execution_count": 43,
   "metadata": {},
   "outputs": [],
   "source": [
    "df_analyse['y_val'] = y_val\n",
    "df_analyse['prediction'] = preds\n",
    "df_analyse['predict_proba'] = proba[:,1]\n",
    "df_analyse['prediction'] = df_analyse['prediction'].astype('category')\n",
    "df_analyse['prediction']=df_analyse['prediction'].cat.rename_categories({0:'healthy', 1:'ill'})"
   ]
  },
  {
   "cell_type": "code",
   "execution_count": 44,
   "metadata": {},
   "outputs": [
    {
     "name": "stdout",
     "output_type": "stream",
     "text": [
      "Most Incorrectly classified as Ill\n"
     ]
    },
    {
     "name": "stderr",
     "output_type": "stream",
     "text": [
      "C:\\Users\\Benny\\Anaconda3\\envs\\fastai\\lib\\site-packages\\ipykernel_launcher.py:4: UserWarning: Boolean Series key will be reindexed to match DataFrame index.\n",
      "  after removing the cwd from sys.path.\n"
     ]
    },
    {
     "data": {
      "text/html": [
       "<div>\n",
       "<style scoped>\n",
       "    .dataframe tbody tr th:only-of-type {\n",
       "        vertical-align: middle;\n",
       "    }\n",
       "\n",
       "    .dataframe tbody tr th {\n",
       "        vertical-align: top;\n",
       "    }\n",
       "\n",
       "    .dataframe thead th {\n",
       "        text-align: right;\n",
       "    }\n",
       "</style>\n",
       "<table border=\"1\" class=\"dataframe\">\n",
       "  <thead>\n",
       "    <tr style=\"text-align: right;\">\n",
       "      <th></th>\n",
       "      <th>Age</th>\n",
       "      <th>Gender</th>\n",
       "      <th>Total_Bilirubin</th>\n",
       "      <th>Direct_Bilirubin</th>\n",
       "      <th>Alkaline_Phosphotase</th>\n",
       "      <th>Alamine_Aminotransferase</th>\n",
       "      <th>Aspartate_Aminotransferase</th>\n",
       "      <th>Total_Protiens</th>\n",
       "      <th>Albumin</th>\n",
       "      <th>Albumin_and_Globulin_Ratio</th>\n",
       "      <th>Dataset</th>\n",
       "      <th>y_val</th>\n",
       "      <th>prediction</th>\n",
       "      <th>predict_proba</th>\n",
       "    </tr>\n",
       "  </thead>\n",
       "  <tbody>\n",
       "    <tr>\n",
       "      <th>44</th>\n",
       "      <td>85</td>\n",
       "      <td>Female</td>\n",
       "      <td>normal</td>\n",
       "      <td>normal</td>\n",
       "      <td>high</td>\n",
       "      <td>normal</td>\n",
       "      <td>normal</td>\n",
       "      <td>normal</td>\n",
       "      <td>normal</td>\n",
       "      <td>normal</td>\n",
       "      <td>healthy</td>\n",
       "      <td>0</td>\n",
       "      <td>ill</td>\n",
       "      <td>0.991798</td>\n",
       "    </tr>\n",
       "    <tr>\n",
       "      <th>78</th>\n",
       "      <td>70</td>\n",
       "      <td>Male</td>\n",
       "      <td>high</td>\n",
       "      <td>high</td>\n",
       "      <td>high</td>\n",
       "      <td>normal</td>\n",
       "      <td>normal</td>\n",
       "      <td>normal</td>\n",
       "      <td>normal</td>\n",
       "      <td>normal</td>\n",
       "      <td>healthy</td>\n",
       "      <td>0</td>\n",
       "      <td>ill</td>\n",
       "      <td>0.974872</td>\n",
       "    </tr>\n",
       "    <tr>\n",
       "      <th>114</th>\n",
       "      <td>50</td>\n",
       "      <td>Male</td>\n",
       "      <td>high</td>\n",
       "      <td>high</td>\n",
       "      <td>high</td>\n",
       "      <td>high</td>\n",
       "      <td>high</td>\n",
       "      <td>low</td>\n",
       "      <td>low</td>\n",
       "      <td>low</td>\n",
       "      <td>healthy</td>\n",
       "      <td>0</td>\n",
       "      <td>ill</td>\n",
       "      <td>0.963438</td>\n",
       "    </tr>\n",
       "    <tr>\n",
       "      <th>403</th>\n",
       "      <td>65</td>\n",
       "      <td>Male</td>\n",
       "      <td>normal</td>\n",
       "      <td>normal</td>\n",
       "      <td>high</td>\n",
       "      <td>normal</td>\n",
       "      <td>normal</td>\n",
       "      <td>normal</td>\n",
       "      <td>normal</td>\n",
       "      <td>normal</td>\n",
       "      <td>healthy</td>\n",
       "      <td>0</td>\n",
       "      <td>ill</td>\n",
       "      <td>0.950249</td>\n",
       "    </tr>\n",
       "    <tr>\n",
       "      <th>215</th>\n",
       "      <td>66</td>\n",
       "      <td>Male</td>\n",
       "      <td>normal</td>\n",
       "      <td>normal</td>\n",
       "      <td>normal</td>\n",
       "      <td>normal</td>\n",
       "      <td>high</td>\n",
       "      <td>low</td>\n",
       "      <td>low</td>\n",
       "      <td>normal</td>\n",
       "      <td>healthy</td>\n",
       "      <td>0</td>\n",
       "      <td>ill</td>\n",
       "      <td>0.944671</td>\n",
       "    </tr>\n",
       "  </tbody>\n",
       "</table>\n",
       "</div>"
      ],
      "text/plain": [
       "     Age  Gender Total_Bilirubin Direct_Bilirubin Alkaline_Phosphotase  \\\n",
       "44    85  Female          normal           normal                 high   \n",
       "78    70    Male            high             high                 high   \n",
       "114   50    Male            high             high                 high   \n",
       "403   65    Male          normal           normal                 high   \n",
       "215   66    Male          normal           normal               normal   \n",
       "\n",
       "    Alamine_Aminotransferase Aspartate_Aminotransferase Total_Protiens  \\\n",
       "44                    normal                     normal         normal   \n",
       "78                    normal                     normal         normal   \n",
       "114                     high                       high            low   \n",
       "403                   normal                     normal         normal   \n",
       "215                   normal                       high            low   \n",
       "\n",
       "    Albumin Albumin_and_Globulin_Ratio  Dataset  y_val prediction  \\\n",
       "44   normal                     normal  healthy      0        ill   \n",
       "78   normal                     normal  healthy      0        ill   \n",
       "114     low                        low  healthy      0        ill   \n",
       "403  normal                     normal  healthy      0        ill   \n",
       "215     low                     normal  healthy      0        ill   \n",
       "\n",
       "     predict_proba  \n",
       "44        0.991798  \n",
       "78        0.974872  \n",
       "114       0.963438  \n",
       "403       0.950249  \n",
       "215       0.944671  "
      ]
     },
     "execution_count": 44,
     "metadata": {},
     "output_type": "execute_result"
    }
   ],
   "source": [
    "print('Most Incorrectly classified as Ill')\n",
    "\n",
    "df_analyse.iloc[show_result_ex(False, False, preds, y_val)\n",
    "               ][df_analyse['Dataset']=='healthy'].sort_values('predict_proba', \n",
    "                                                               ascending=False).head(5)"
   ]
  },
  {
   "cell_type": "markdown",
   "metadata": {},
   "source": [
    "## Compare different models <a id='con'></a>"
   ]
  },
  {
   "cell_type": "markdown",
   "metadata": {},
   "source": [
    "Compare feature of importances"
   ]
  },
  {
   "cell_type": "code",
   "execution_count": 45,
   "metadata": {},
   "outputs": [],
   "source": [
    "fi_rf.set_index('cols',inplace=True)\n",
    "finn.set_index('cols', inplace=True)\n",
    "fi_lg.set_index('cols',inplace=True);"
   ]
  },
  {
   "cell_type": "code",
   "execution_count": 46,
   "metadata": {},
   "outputs": [],
   "source": [
    "fi_all = finn.merge(fi_rf, on = 'cols', how='outer', suffixes=['_nn','_rf'] )\n",
    "fi_all = fi_all.merge(fi_lg, on = 'cols', how='outer', suffixes=['','_lg'])\n",
    "fi_all.sort_values('imp', ascending=False, inplace=True)"
   ]
  },
  {
   "cell_type": "code",
   "execution_count": 47,
   "metadata": {},
   "outputs": [],
   "source": [
    "fi_all = fi_all.apply(lambda x: x/np.max(x), axis=0 )"
   ]
  },
  {
   "cell_type": "code",
   "execution_count": 48,
   "metadata": {},
   "outputs": [
    {
     "data": {
      "text/html": [
       "<div>\n",
       "<style scoped>\n",
       "    .dataframe tbody tr th:only-of-type {\n",
       "        vertical-align: middle;\n",
       "    }\n",
       "\n",
       "    .dataframe tbody tr th {\n",
       "        vertical-align: top;\n",
       "    }\n",
       "\n",
       "    .dataframe thead th {\n",
       "        text-align: right;\n",
       "    }\n",
       "</style>\n",
       "<table border=\"1\" class=\"dataframe\">\n",
       "  <thead>\n",
       "    <tr style=\"text-align: right;\">\n",
       "      <th></th>\n",
       "      <th>imp_nn</th>\n",
       "      <th>imp_rf</th>\n",
       "      <th>imp</th>\n",
       "    </tr>\n",
       "    <tr>\n",
       "      <th>cols</th>\n",
       "      <th></th>\n",
       "      <th></th>\n",
       "      <th></th>\n",
       "    </tr>\n",
       "  </thead>\n",
       "  <tbody>\n",
       "    <tr>\n",
       "      <th>Age</th>\n",
       "      <td>0.120707</td>\n",
       "      <td>NaN</td>\n",
       "      <td>1.000000</td>\n",
       "    </tr>\n",
       "    <tr>\n",
       "      <th>Direct_Bilirubin</th>\n",
       "      <td>0.063101</td>\n",
       "      <td>NaN</td>\n",
       "      <td>0.930321</td>\n",
       "    </tr>\n",
       "    <tr>\n",
       "      <th>Alkaline_Phosphotase</th>\n",
       "      <td>0.124899</td>\n",
       "      <td>NaN</td>\n",
       "      <td>0.495389</td>\n",
       "    </tr>\n",
       "    <tr>\n",
       "      <th>Alamine_Aminotransferase</th>\n",
       "      <td>0.729812</td>\n",
       "      <td>NaN</td>\n",
       "      <td>0.309146</td>\n",
       "    </tr>\n",
       "    <tr>\n",
       "      <th>Aspartate_Aminotransferase</th>\n",
       "      <td>1.000000</td>\n",
       "      <td>0.900928</td>\n",
       "      <td>0.253551</td>\n",
       "    </tr>\n",
       "    <tr>\n",
       "      <th>Total_Protiens</th>\n",
       "      <td>-0.268820</td>\n",
       "      <td>0.723025</td>\n",
       "      <td>0.199083</td>\n",
       "    </tr>\n",
       "    <tr>\n",
       "      <th>Albumin</th>\n",
       "      <td>-0.102058</td>\n",
       "      <td>1.000000</td>\n",
       "      <td>0.182126</td>\n",
       "    </tr>\n",
       "    <tr>\n",
       "      <th>Albumin_and_Globulin_Ratio</th>\n",
       "      <td>-0.382899</td>\n",
       "      <td>0.496571</td>\n",
       "      <td>0.135454</td>\n",
       "    </tr>\n",
       "    <tr>\n",
       "      <th>Total_Bilirubin</th>\n",
       "      <td>0.495656</td>\n",
       "      <td>NaN</td>\n",
       "      <td>NaN</td>\n",
       "    </tr>\n",
       "    <tr>\n",
       "      <th>Gender</th>\n",
       "      <td>-0.190114</td>\n",
       "      <td>0.918517</td>\n",
       "      <td>NaN</td>\n",
       "    </tr>\n",
       "  </tbody>\n",
       "</table>\n",
       "</div>"
      ],
      "text/plain": [
       "                              imp_nn    imp_rf       imp\n",
       "cols                                                    \n",
       "Age                         0.120707       NaN  1.000000\n",
       "Direct_Bilirubin            0.063101       NaN  0.930321\n",
       "Alkaline_Phosphotase        0.124899       NaN  0.495389\n",
       "Alamine_Aminotransferase    0.729812       NaN  0.309146\n",
       "Aspartate_Aminotransferase  1.000000  0.900928  0.253551\n",
       "Total_Protiens             -0.268820  0.723025  0.199083\n",
       "Albumin                    -0.102058  1.000000  0.182126\n",
       "Albumin_and_Globulin_Ratio -0.382899  0.496571  0.135454\n",
       "Total_Bilirubin             0.495656       NaN       NaN\n",
       "Gender                     -0.190114  0.918517       NaN"
      ]
     },
     "execution_count": 48,
     "metadata": {},
     "output_type": "execute_result"
    }
   ],
   "source": [
    "fi_all"
   ]
  },
  {
   "cell_type": "code",
   "execution_count": 49,
   "metadata": {
    "scrolled": true
   },
   "outputs": [
    {
     "data": {
      "text/plain": [
       "<matplotlib.axes._subplots.AxesSubplot at 0x176073df400>"
      ]
     },
     "execution_count": 49,
     "metadata": {},
     "output_type": "execute_result"
    },
    {
     "data": {
      "image/png": "[encoded data removed]",
      "text/plain": [
       "<Figure size 432x288 with 1 Axes>"
      ]
     },
     "metadata": {
      "needs_background": "light"
     },
     "output_type": "display_data"
    }
   ],
   "source": [
    "fi_all.plot(use_index=True, kind='barh')"
   ]
  },
  {
   "cell_type": "markdown",
   "metadata": {},
   "source": [
    "Logistic regression perform best with accuracly 77% and ROC 0.6 on the validation set. RF and NN models seems to overfit by considering all health patient as ill; however, the false positive patients in RF models does have abnormal blood test, while NN model classify many healthy patients with normal blood test as ill. In theory, NN model should be as good as or better than the logistic regression. Here, we may need more data to train the network. \n",
    "\n",
    "Each model has different feature of importance. All models agree that \"Asparatate_Amonotransferase\" is an important feature. "
   ]
  },
  {
   "cell_type": "code",
   "execution_count": null,
   "metadata": {},
   "outputs": [],
   "source": []
  }
 ],
 "metadata": {
  "kernelspec": {
   "display_name": "Python 3",
   "language": "python",
   "name": "python3"
  },
  "language_info": {
   "codemirror_mode": {
    "name": "ipython",
    "version": 3
   },
   "file_extension": ".py",
   "mimetype": "text/x-python",
   "name": "python",
   "nbconvert_exporter": "python",
   "pygments_lexer": "ipython3",
   "version": "3.6.8"
  }
 },
 "nbformat": 4,
 "nbformat_minor": 2
}
